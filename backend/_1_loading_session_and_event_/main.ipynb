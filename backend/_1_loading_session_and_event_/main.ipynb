{
 "cells": [
  {
   "cell_type": "code",
   "execution_count": 20,
   "outputs": [],
   "source": [
    "import fastf1 as ff\n",
    "import fastf1.plotting as plotting\n",
    "import json\n",
    "import pandas as pd\n",
    "import numpy as np\n",
    "from matplotlib import pyplot as plt"
   ],
   "metadata": {
    "collapsed": false,
    "ExecuteTime": {
     "start_time": "2023-04-03T22:05:17.906116Z",
     "end_time": "2023-04-03T22:05:17.909239Z"
    }
   }
  },
  {
   "cell_type": "code",
   "execution_count": 2,
   "outputs": [],
   "source": [
    "ff.Cache.enable_cache('../cache')"
   ],
   "metadata": {
    "collapsed": false,
    "ExecuteTime": {
     "start_time": "2023-04-03T17:17:34.458459Z",
     "end_time": "2023-04-03T17:17:34.462869Z"
    }
   }
  },
  {
   "cell_type": "markdown",
   "source": [
    "# Loading Session, Event, Schedule and Lap"
   ],
   "metadata": {
    "collapsed": false
   }
  },
  {
   "cell_type": "code",
   "execution_count": 3,
   "metadata": {
    "collapsed": true,
    "ExecuteTime": {
     "start_time": "2023-04-03T17:17:37.005359Z",
     "end_time": "2023-04-03T17:17:38.009352Z"
    }
   },
   "outputs": [
    {
     "name": "stdout",
     "output_type": "stream",
     "text": [
      "<class 'fastf1.core.Session'>\n",
      "Qualifying\n",
      "2023-03-04 18:00:00\n",
      "RoundNumber                                                   1\n",
      "Country                                                 Bahrain\n",
      "Location                                                 Sakhir\n",
      "OfficialEventName    FORMULA 1 GULF AIR BAHRAIN GRAND PRIX 2023\n",
      "EventDate                                   2023-03-05 20:00:00\n",
      "EventName                                    Bahrain Grand Prix\n",
      "EventFormat                                        conventional\n",
      "Session1                                             Practice 1\n",
      "Session1Date                                2023-03-03 14:30:00\n",
      "Session2                                             Practice 2\n",
      "Session2Date                                2023-03-03 18:00:00\n",
      "Session3                                             Practice 3\n",
      "Session3Date                                2023-03-04 14:30:00\n",
      "Session4                                             Qualifying\n",
      "Session4Date                                2023-03-04 18:00:00\n",
      "Session5                                                   Race\n",
      "Session5Date                                2023-03-05 18:00:00\n",
      "F1ApiSupport                                               True\n",
      "Name: Bahrain Grand Prix, dtype: object\n"
     ]
    }
   ],
   "source": [
    "test_session = ff.get_session(2023, 1, 'Q')\n",
    "print(type(test_session))\n",
    "print(test_session.name)\n",
    "print(test_session.date)\n",
    "print(test_session.event)"
   ]
  },
  {
   "cell_type": "code",
   "execution_count": 4,
   "outputs": [
    {
     "name": "stdout",
     "output_type": "stream",
     "text": [
      "<class 'fastf1.events.Event'>\n",
      "RoundNumber                                                   1\n",
      "Country                                                 Bahrain\n",
      "Location                                                 Sakhir\n",
      "OfficialEventName    FORMULA 1 GULF AIR BAHRAIN GRAND PRIX 2023\n",
      "EventDate                                   2023-03-05 20:00:00\n",
      "EventName                                    Bahrain Grand Prix\n",
      "EventFormat                                        conventional\n",
      "Session1                                             Practice 1\n",
      "Session1Date                                2023-03-03 14:30:00\n",
      "Session2                                             Practice 2\n",
      "Session2Date                                2023-03-03 18:00:00\n",
      "Session3                                             Practice 3\n",
      "Session3Date                                2023-03-04 14:30:00\n",
      "Session4                                             Qualifying\n",
      "Session4Date                                2023-03-04 18:00:00\n",
      "Session5                                                   Race\n",
      "Session5Date                                2023-03-05 18:00:00\n",
      "F1ApiSupport                                               True\n",
      "Name: Bahrain Grand Prix, dtype: object\n"
     ]
    }
   ],
   "source": [
    "test_event = ff.get_event(2023, 1)\n",
    "test_session_x = test_event.get_race()\n",
    "print(type(test_event))\n",
    "print(test_event)"
   ],
   "metadata": {
    "collapsed": false,
    "ExecuteTime": {
     "start_time": "2023-04-03T17:17:39.224109Z",
     "end_time": "2023-04-03T17:17:39.246603Z"
    }
   }
  },
  {
   "cell_type": "code",
   "execution_count": 5,
   "outputs": [
    {
     "name": "stdout",
     "output_type": "stream",
     "text": [
      "<class 'fastf1.events.EventSchedule'>\n",
      "Index(['RoundNumber', 'Country', 'Location', 'OfficialEventName', 'EventDate',\n",
      "       'EventName', 'EventFormat', 'Session1', 'Session1Date', 'Session2',\n",
      "       'Session2Date', 'Session3', 'Session3Date', 'Session4', 'Session4Date',\n",
      "       'Session5', 'Session5Date', 'F1ApiSupport'],\n",
      "      dtype='object')\n",
      "    RoundNumber        Country           Location  \\\n",
      "0             0        Bahrain             Sakhir   \n",
      "1             1        Bahrain             Sakhir   \n",
      "2             2   Saudi Arabia             Jeddah   \n",
      "3             3      Australia          Melbourne   \n",
      "4             4     Azerbaijan               Baku   \n",
      "5             5  United States              Miami   \n",
      "6             6          Italy              Imola   \n",
      "7             7         Monaco             Monaco   \n",
      "8             8          Spain          Barcelona   \n",
      "9             9         Canada           Montréal   \n",
      "10           10        Austria          Spielberg   \n",
      "11           11  Great Britain        Silverstone   \n",
      "12           12        Hungary           Budapest   \n",
      "13           13        Belgium  Spa-Francorchamps   \n",
      "14           14    Netherlands          Zandvoort   \n",
      "15           15          Italy              Monza   \n",
      "16           16      Singapore         Marina Bay   \n",
      "17           17          Japan             Suzuka   \n",
      "18           18          Qatar             Lusail   \n",
      "19           19  United States             Austin   \n",
      "20           20         Mexico        Mexico City   \n",
      "21           21         Brazil          São Paulo   \n",
      "22           22  United States          Las Vegas   \n",
      "23           23      Abu Dhabi         Yas Island   \n",
      "\n",
      "                                    OfficialEventName           EventDate  \\\n",
      "0            FORMULA 1 ARAMCO PRE-SEASON TESTING 2023 2023-02-25 19:30:00   \n",
      "1          FORMULA 1 GULF AIR BAHRAIN GRAND PRIX 2023 2023-03-05 20:00:00   \n",
      "2         FORMULA 1 STC SAUDI ARABIAN GRAND PRIX 2023 2023-03-19 22:00:00   \n",
      "3          FORMULA 1 ROLEX AUSTRALIAN GRAND PRIX 2023 2023-04-02 17:00:00   \n",
      "4                FORMULA 1 AZERBAIJAN GRAND PRIX 2023 2023-04-30 17:00:00   \n",
      "5          FORMULA 1 CRYPTO.COM MIAMI GRAND PRIX 2023 2023-05-07 17:30:00   \n",
      "6   FORMULA 1 QATAR AIRWAYS GRAN PREMIO DEL MADE I... 2023-05-21 17:00:00   \n",
      "7                 FORMULA 1 GRAND PRIX DE MONACO 2023 2023-05-28 17:00:00   \n",
      "8            FORMULA 1 AWS GRAN PREMIO DE ESPAÑA 2023 2023-06-04 17:00:00   \n",
      "9         FORMULA 1 PIRELLI GRAND PRIX DU CANADA 2023 2023-06-18 16:00:00   \n",
      "10        FORMULA 1 GROSSER PREIS VON ÖSTERREICH 2023 2023-07-02 17:00:00   \n",
      "11           FORMULA 1 ARAMCO BRITISH GRAND PRIX 2023 2023-07-09 17:00:00   \n",
      "12  FORMULA 1 QATAR AIRWAYS HUNGARIAN GRAND PRIX 2023 2023-07-23 17:00:00   \n",
      "13                  FORMULA 1 BELGIAN GRAND PRIX 2023 2023-07-30 17:00:00   \n",
      "14           FORMULA 1 HEINEKEN DUTCH GRAND PRIX 2023 2023-08-27 17:00:00   \n",
      "15       FORMULA 1 PIRELLI GRAN PREMIO D’ITALIA 2023  2023-09-03 17:00:00   \n",
      "16  FORMULA 1 SINGAPORE AIRLINES SINGAPORE GRAND P... 2023-09-17 22:00:00   \n",
      "17         FORMULA 1 LENOVO JAPANESE GRAND PRIX 2023  2023-09-24 16:00:00   \n",
      "18      FORMULA 1 QATAR AIRWAYS QATAR GRAND PRIX 2023 2023-10-08 22:00:00   \n",
      "19     FORMULA 1 LENOVO UNITED STATES GRAND PRIX 2023 2023-10-22 16:00:00   \n",
      "20  FORMULA 1 GRAN PREMIO DE LA CIUDAD DE MÉXICO 2023 2023-10-29 16:00:00   \n",
      "21    FORMULA 1 ROLEX GRANDE PRÊMIO DE SÃO PAULO 2023 2023-11-05 16:00:00   \n",
      "22  FORMULA 1 HEINEKEN SILVER LAS VEGAS GRAND PRIX... 2023-11-18 23:59:59   \n",
      "23  FORMULA 1 ETIHAD AIRWAYS ABU DHABI GRAND PRIX ... 2023-11-26 19:00:00   \n",
      "\n",
      "                    EventName   EventFormat    Session1        Session1Date  \\\n",
      "0          Pre-Season Testing       testing  Practice 1 2023-02-23 10:00:00   \n",
      "1          Bahrain Grand Prix  conventional  Practice 1 2023-03-03 14:30:00   \n",
      "2    Saudi Arabian Grand Prix  conventional  Practice 1 2023-03-17 16:30:00   \n",
      "3       Australian Grand Prix  conventional  Practice 1 2023-03-31 12:30:00   \n",
      "4       Azerbaijan Grand Prix        sprint  Practice 1 2023-04-28 13:30:00   \n",
      "5            Miami Grand Prix  conventional  Practice 1 2023-05-05 14:30:00   \n",
      "6   Emilia Romagna Grand Prix  conventional  Practice 1 2023-05-19 13:30:00   \n",
      "7           Monaco Grand Prix  conventional  Practice 1 2023-05-26 13:30:00   \n",
      "8          Spanish Grand Prix  conventional  Practice 1 2023-06-02 13:30:00   \n",
      "9         Canadian Grand Prix  conventional  Practice 1 2023-06-16 13:30:00   \n",
      "10        Austrian Grand Prix        sprint  Practice 1 2023-06-30 13:30:00   \n",
      "11         British Grand Prix  conventional  Practice 1 2023-07-07 12:30:00   \n",
      "12       Hungarian Grand Prix  conventional  Practice 1 2023-07-21 13:30:00   \n",
      "13         Belgian Grand Prix        sprint  Practice 1 2023-07-28 13:30:00   \n",
      "14           Dutch Grand Prix  conventional  Practice 1 2023-08-25 12:30:00   \n",
      "15         Italian Grand Prix  conventional  Practice 1 2023-09-01 13:30:00   \n",
      "16       Singapore Grand Prix  conventional  Practice 1 2023-09-15 17:30:00   \n",
      "17        Japanese Grand Prix  conventional  Practice 1 2023-09-22 11:30:00   \n",
      "18           Qatar Grand Prix        sprint  Practice 1 2023-10-06 16:30:00   \n",
      "19   United States Grand Prix        sprint  Practice 1 2023-10-20 12:30:00   \n",
      "20     Mexico City Grand Prix  conventional  Practice 1 2023-10-27 12:30:00   \n",
      "21       São Paulo Grand Prix        sprint  Practice 1 2023-11-03 11:30:00   \n",
      "22       Las Vegas Grand Prix  conventional  Practice 1 2023-11-16 20:30:00   \n",
      "23       Abu Dhabi Grand Prix  conventional  Practice 1 2023-11-24 13:30:00   \n",
      "\n",
      "      Session2        Session2Date    Session3        Session3Date  \\\n",
      "0   Practice 2 2023-02-24 10:00:00  Practice 3 2023-02-25 10:00:00   \n",
      "1   Practice 2 2023-03-03 18:00:00  Practice 3 2023-03-04 14:30:00   \n",
      "2   Practice 2 2023-03-17 20:00:00  Practice 3 2023-03-18 16:30:00   \n",
      "3   Practice 2 2023-03-31 16:00:00  Practice 3 2023-04-01 12:30:00   \n",
      "4   Qualifying 2023-04-28 17:00:00  Practice 2 2023-04-29 13:30:00   \n",
      "5   Practice 2 2023-05-05 18:00:00  Practice 3 2023-05-06 12:30:00   \n",
      "6   Practice 2 2023-05-19 17:00:00  Practice 3 2023-05-20 12:30:00   \n",
      "7   Practice 2 2023-05-26 17:00:00  Practice 3 2023-05-27 12:30:00   \n",
      "8   Practice 2 2023-06-02 17:00:00  Practice 3 2023-06-03 12:30:00   \n",
      "9   Practice 2 2023-06-16 17:00:00  Practice 3 2023-06-17 12:30:00   \n",
      "10  Qualifying 2023-06-30 17:00:00  Practice 2 2023-07-01 12:30:00   \n",
      "11  Practice 2 2023-07-07 16:00:00  Practice 3 2023-07-08 11:30:00   \n",
      "12  Practice 2 2023-07-21 17:00:00  Practice 3 2023-07-22 12:30:00   \n",
      "13  Qualifying 2023-07-28 17:00:00  Practice 2 2023-07-29 12:30:00   \n",
      "14  Practice 2 2023-08-25 16:00:00  Practice 3 2023-08-26 11:30:00   \n",
      "15  Practice 2 2023-09-01 17:00:00  Practice 3 2023-09-02 12:30:00   \n",
      "16  Practice 2 2023-09-15 21:00:00  Practice 3 2023-09-16 17:30:00   \n",
      "17  Practice 2 2023-09-22 15:00:00  Practice 3 2023-09-23 11:30:00   \n",
      "18  Qualifying 2023-10-06 20:00:00  Practice 2 2023-10-07 16:30:00   \n",
      "19  Qualifying 2023-10-20 16:00:00  Practice 2 2023-10-21 13:00:00   \n",
      "20  Practice 2 2023-10-27 16:00:00  Practice 3 2023-10-28 11:30:00   \n",
      "21  Qualifying 2023-11-03 15:00:00  Practice 2 2023-11-04 11:30:00   \n",
      "22  Practice 2 2023-11-17 00:00:00  Practice 3 2023-11-17 20:30:00   \n",
      "23  Practice 2 2023-11-24 17:00:00  Practice 3 2023-11-25 14:30:00   \n",
      "\n",
      "      Session4        Session4Date Session5        Session5Date  F1ApiSupport  \n",
      "0         None                 NaT     None                 NaT          True  \n",
      "1   Qualifying 2023-03-04 18:00:00     Race 2023-03-05 18:00:00          True  \n",
      "2   Qualifying 2023-03-18 20:00:00     Race 2023-03-19 20:00:00          True  \n",
      "3   Qualifying 2023-04-01 16:00:00     Race 2023-04-02 15:00:00          True  \n",
      "4       Sprint 2023-04-29 17:30:00     Race 2023-04-30 15:00:00          True  \n",
      "5   Qualifying 2023-05-06 16:00:00     Race 2023-05-07 15:30:00          True  \n",
      "6   Qualifying 2023-05-20 16:00:00     Race 2023-05-21 15:00:00          True  \n",
      "7   Qualifying 2023-05-27 16:00:00     Race 2023-05-28 15:00:00          True  \n",
      "8   Qualifying 2023-06-03 16:00:00     Race 2023-06-04 15:00:00          True  \n",
      "9   Qualifying 2023-06-17 16:00:00     Race 2023-06-18 14:00:00          True  \n",
      "10      Sprint 2023-07-01 16:30:00     Race 2023-07-02 15:00:00          True  \n",
      "11  Qualifying 2023-07-08 15:00:00     Race 2023-07-09 15:00:00          True  \n",
      "12  Qualifying 2023-07-22 16:00:00     Race 2023-07-23 15:00:00          True  \n",
      "13      Sprint 2023-07-29 16:30:00     Race 2023-07-30 15:00:00          True  \n",
      "14  Qualifying 2023-08-26 15:00:00     Race 2023-08-27 15:00:00          True  \n",
      "15  Qualifying 2023-09-02 16:00:00     Race 2023-09-03 15:00:00          True  \n",
      "16  Qualifying 2023-09-16 21:00:00     Race 2023-09-17 20:00:00          True  \n",
      "17  Qualifying 2023-09-23 15:00:00     Race 2023-09-24 14:00:00          True  \n",
      "18      Sprint 2023-10-07 20:30:00     Race 2023-10-08 20:00:00          True  \n",
      "19      Sprint 2023-10-21 17:00:00     Race 2023-10-22 14:00:00          True  \n",
      "20  Qualifying 2023-10-28 15:00:00     Race 2023-10-29 14:00:00          True  \n",
      "21      Sprint 2023-11-04 15:30:00     Race 2023-11-05 14:00:00          True  \n",
      "22  Qualifying 2023-11-18 00:00:00     Race 2023-11-18 22:00:00          True  \n",
      "23  Qualifying 2023-11-25 18:00:00     Race 2023-11-26 17:00:00          True  \n"
     ]
    }
   ],
   "source": [
    "test_schedule = ff.get_event_schedule(2023)\n",
    "print(type(test_schedule))\n",
    "print(test_schedule.columns)\n",
    "print(test_schedule)"
   ],
   "metadata": {
    "collapsed": false,
    "ExecuteTime": {
     "start_time": "2023-04-03T17:17:40.347498Z",
     "end_time": "2023-04-03T17:17:40.362664Z"
    }
   }
  },
  {
   "cell_type": "markdown",
   "source": [
    "# Working with Laps Time"
   ],
   "metadata": {
    "collapsed": false
   }
  },
  {
   "cell_type": "code",
   "execution_count": 9,
   "outputs": [
    {
     "name": "stderr",
     "output_type": "stream",
     "text": [
      "core           INFO \tLoading data for French Grand Prix - Qualifying [v2.3.1]\n",
      "api            INFO \tUsing cached data for driver_info\n",
      "api            INFO \tUsing cached data for timing_data\n",
      "api            INFO \tUsing cached data for timing_app_data\n",
      "core           INFO \tProcessing timing data...\n",
      "api            INFO \tUsing cached data for session_status_data\n",
      "api            INFO \tUsing cached data for track_status_data\n",
      "/Users/blank/miniforge3/envs/python310/lib/python3.10/site-packages/fastf1/core.py:1492: FutureWarning: iteritems is deprecated and will be removed in a future version. Use .items instead.\n",
      "  for key, value in row.iteritems():\n",
      "/Users/blank/miniforge3/envs/python310/lib/python3.10/site-packages/fastf1/core.py:1492: FutureWarning: iteritems is deprecated and will be removed in a future version. Use .items instead.\n",
      "  for key, value in row.iteritems():\n",
      "/Users/blank/miniforge3/envs/python310/lib/python3.10/site-packages/fastf1/core.py:1415: FutureWarning: In a future version, object-dtype columns with all-bool values will not be included in reductions with bool_only=True. Explicitly cast to bool dtype instead.\n",
      "  df = pd.concat([df, result], sort=False)\n",
      "/Users/blank/miniforge3/envs/python310/lib/python3.10/site-packages/fastf1/core.py:1492: FutureWarning: iteritems is deprecated and will be removed in a future version. Use .items instead.\n",
      "  for key, value in row.iteritems():\n",
      "/Users/blank/miniforge3/envs/python310/lib/python3.10/site-packages/fastf1/core.py:1415: FutureWarning: In a future version, object-dtype columns with all-bool values will not be included in reductions with bool_only=True. Explicitly cast to bool dtype instead.\n",
      "  df = pd.concat([df, result], sort=False)\n",
      "/Users/blank/miniforge3/envs/python310/lib/python3.10/site-packages/fastf1/core.py:1492: FutureWarning: iteritems is deprecated and will be removed in a future version. Use .items instead.\n",
      "  for key, value in row.iteritems():\n",
      "/Users/blank/miniforge3/envs/python310/lib/python3.10/site-packages/fastf1/core.py:1415: FutureWarning: In a future version, object-dtype columns with all-bool values will not be included in reductions with bool_only=True. Explicitly cast to bool dtype instead.\n",
      "  df = pd.concat([df, result], sort=False)\n",
      "/Users/blank/miniforge3/envs/python310/lib/python3.10/site-packages/fastf1/core.py:1492: FutureWarning: iteritems is deprecated and will be removed in a future version. Use .items instead.\n",
      "  for key, value in row.iteritems():\n",
      "/Users/blank/miniforge3/envs/python310/lib/python3.10/site-packages/fastf1/core.py:1415: FutureWarning: In a future version, object-dtype columns with all-bool values will not be included in reductions with bool_only=True. Explicitly cast to bool dtype instead.\n",
      "  df = pd.concat([df, result], sort=False)\n",
      "/Users/blank/miniforge3/envs/python310/lib/python3.10/site-packages/fastf1/core.py:1492: FutureWarning: iteritems is deprecated and will be removed in a future version. Use .items instead.\n",
      "  for key, value in row.iteritems():\n",
      "/Users/blank/miniforge3/envs/python310/lib/python3.10/site-packages/fastf1/core.py:1415: FutureWarning: In a future version, object-dtype columns with all-bool values will not be included in reductions with bool_only=True. Explicitly cast to bool dtype instead.\n",
      "  df = pd.concat([df, result], sort=False)\n",
      "/Users/blank/miniforge3/envs/python310/lib/python3.10/site-packages/fastf1/core.py:1492: FutureWarning: iteritems is deprecated and will be removed in a future version. Use .items instead.\n",
      "  for key, value in row.iteritems():\n",
      "/Users/blank/miniforge3/envs/python310/lib/python3.10/site-packages/fastf1/core.py:1415: FutureWarning: In a future version, object-dtype columns with all-bool values will not be included in reductions with bool_only=True. Explicitly cast to bool dtype instead.\n",
      "  df = pd.concat([df, result], sort=False)\n",
      "/Users/blank/miniforge3/envs/python310/lib/python3.10/site-packages/fastf1/core.py:1492: FutureWarning: iteritems is deprecated and will be removed in a future version. Use .items instead.\n",
      "  for key, value in row.iteritems():\n",
      "/Users/blank/miniforge3/envs/python310/lib/python3.10/site-packages/fastf1/core.py:1415: FutureWarning: In a future version, object-dtype columns with all-bool values will not be included in reductions with bool_only=True. Explicitly cast to bool dtype instead.\n",
      "  df = pd.concat([df, result], sort=False)\n",
      "/Users/blank/miniforge3/envs/python310/lib/python3.10/site-packages/fastf1/core.py:1492: FutureWarning: iteritems is deprecated and will be removed in a future version. Use .items instead.\n",
      "  for key, value in row.iteritems():\n",
      "/Users/blank/miniforge3/envs/python310/lib/python3.10/site-packages/fastf1/core.py:1415: FutureWarning: In a future version, object-dtype columns with all-bool values will not be included in reductions with bool_only=True. Explicitly cast to bool dtype instead.\n",
      "  df = pd.concat([df, result], sort=False)\n",
      "/Users/blank/miniforge3/envs/python310/lib/python3.10/site-packages/fastf1/core.py:1492: FutureWarning: iteritems is deprecated and will be removed in a future version. Use .items instead.\n",
      "  for key, value in row.iteritems():\n",
      "/Users/blank/miniforge3/envs/python310/lib/python3.10/site-packages/fastf1/core.py:1415: FutureWarning: In a future version, object-dtype columns with all-bool values will not be included in reductions with bool_only=True. Explicitly cast to bool dtype instead.\n",
      "  df = pd.concat([df, result], sort=False)\n",
      "/Users/blank/miniforge3/envs/python310/lib/python3.10/site-packages/fastf1/core.py:1415: FutureWarning: In a future version, object-dtype columns with all-bool values will not be included in reductions with bool_only=True. Explicitly cast to bool dtype instead.\n",
      "  df = pd.concat([df, result], sort=False)\n",
      "/Users/blank/miniforge3/envs/python310/lib/python3.10/site-packages/fastf1/core.py:1415: FutureWarning: In a future version, object-dtype columns with all-bool values will not be included in reductions with bool_only=True. Explicitly cast to bool dtype instead.\n",
      "  df = pd.concat([df, result], sort=False)\n",
      "/Users/blank/miniforge3/envs/python310/lib/python3.10/site-packages/fastf1/core.py:1492: FutureWarning: iteritems is deprecated and will be removed in a future version. Use .items instead.\n",
      "  for key, value in row.iteritems():\n",
      "/Users/blank/miniforge3/envs/python310/lib/python3.10/site-packages/fastf1/core.py:1415: FutureWarning: In a future version, object-dtype columns with all-bool values will not be included in reductions with bool_only=True. Explicitly cast to bool dtype instead.\n",
      "  df = pd.concat([df, result], sort=False)\n",
      "/Users/blank/miniforge3/envs/python310/lib/python3.10/site-packages/fastf1/core.py:1415: FutureWarning: In a future version, object-dtype columns with all-bool values will not be included in reductions with bool_only=True. Explicitly cast to bool dtype instead.\n",
      "  df = pd.concat([df, result], sort=False)\n",
      "/Users/blank/miniforge3/envs/python310/lib/python3.10/site-packages/fastf1/core.py:1415: FutureWarning: In a future version, object-dtype columns with all-bool values will not be included in reductions with bool_only=True. Explicitly cast to bool dtype instead.\n",
      "  df = pd.concat([df, result], sort=False)\n",
      "/Users/blank/miniforge3/envs/python310/lib/python3.10/site-packages/fastf1/core.py:1492: FutureWarning: iteritems is deprecated and will be removed in a future version. Use .items instead.\n",
      "  for key, value in row.iteritems():\n",
      "/Users/blank/miniforge3/envs/python310/lib/python3.10/site-packages/fastf1/core.py:1415: FutureWarning: In a future version, object-dtype columns with all-bool values will not be included in reductions with bool_only=True. Explicitly cast to bool dtype instead.\n",
      "  df = pd.concat([df, result], sort=False)\n",
      "/Users/blank/miniforge3/envs/python310/lib/python3.10/site-packages/fastf1/core.py:1415: FutureWarning: In a future version, object-dtype columns with all-bool values will not be included in reductions with bool_only=True. Explicitly cast to bool dtype instead.\n",
      "  df = pd.concat([df, result], sort=False)\n",
      "/Users/blank/miniforge3/envs/python310/lib/python3.10/site-packages/fastf1/core.py:1415: FutureWarning: In a future version, object-dtype columns with all-bool values will not be included in reductions with bool_only=True. Explicitly cast to bool dtype instead.\n",
      "  df = pd.concat([df, result], sort=False)\n",
      "/Users/blank/miniforge3/envs/python310/lib/python3.10/site-packages/fastf1/core.py:1411: FutureWarning: The frame.append method is deprecated and will be removed from pandas in a future version. Use pandas.concat instead.\n",
      "  result = result.append(new_last).reset_index(drop=True)\n",
      "/Users/blank/miniforge3/envs/python310/lib/python3.10/site-packages/fastf1/core.py:1415: FutureWarning: In a future version, object-dtype columns with all-bool values will not be included in reductions with bool_only=True. Explicitly cast to bool dtype instead.\n",
      "  df = pd.concat([df, result], sort=False)\n",
      "/Users/blank/miniforge3/envs/python310/lib/python3.10/site-packages/fastf1/core.py:1415: FutureWarning: In a future version, object-dtype columns with all-bool values will not be included in reductions with bool_only=True. Explicitly cast to bool dtype instead.\n",
      "  df = pd.concat([df, result], sort=False)\n",
      "api            INFO \tUsing cached data for car_data\n",
      "api            INFO \tUsing cached data for position_data\n",
      "api            INFO \tUsing cached data for weather_data\n",
      "api            INFO \tUsing cached data for race_control_messages\n",
      "core           INFO \tFinished loading data for 20 drivers: ['33', '44', '77', '11', '55', '10', '16', '4', '14', '3', '31', '5', '99', '63', '47', '6', '7', '9', '18', '22']\n"
     ]
    },
    {
     "data": {
      "text/plain": "                      Time DriverNumber                LapTime  LapNumber  \\\n0   0 days 00:28:44.908000           33                    NaT          1   \n1   0 days 00:31:14.909000           33                    NaT          2   \n2   0 days 00:32:45.910000           33 0 days 00:01:31.001000          3   \n3   0 days 00:50:42.329000           33                    NaT          4   \n4   0 days 00:52:59.529000           33 0 days 00:02:17.200000          5   \n..                     ...          ...                    ...        ...   \n265 0 days 00:39:10.594000           18 0 days 00:02:22.695000          5   \n266 0 days 00:41:23.178000           18 0 days 00:02:12.584000          6   \n267 0 days 00:41:30.642000           18                    NaT          7   \n268 0 days 00:17:40.791000           22                    NaT          1   \n269 0 days 00:26:20.982000           22                    NaT          2   \n\n                PitOutTime              PitInTime            Sector1Time  \\\n0   0 days 00:17:39.747000 0 days 00:19:43.510000                    NaT   \n1   0 days 00:28:44.908000                    NaT 0 days 00:00:35.173000   \n2                      NaT                    NaT 0 days 00:00:22.785000   \n3                      NaT 0 days 00:34:24.631000 0 days 00:00:29.710000   \n4   0 days 00:50:43.059000                    NaT 0 days 00:00:34.022000   \n..                     ...                    ...                    ...   \n265 0 days 00:36:48.913000                    NaT 0 days 00:00:36.517000   \n266                    NaT                    NaT 0 days 00:00:23.443000   \n267                    NaT                    NaT                    NaT   \n268 0 days 00:14:55.749000                    NaT 0 days 00:00:46.836000   \n269                    NaT 0 days 00:26:20.982000 0 days 00:00:46.836000   \n\n               Sector2Time            Sector3Time     Sector1SessionTime  ...  \\\n0                      NaT                    NaT                    NaT  ...   \n1   0 days 00:00:33.023000 0 days 00:01:22.872000 0 days 00:29:19.179000  ...   \n2   0 days 00:00:27.622000 0 days 00:00:40.594000 0 days 00:31:37.694000  ...   \n3   0 days 00:00:31.618000                    NaT 0 days 00:33:15.764000  ...   \n4   0 days 00:00:42.413000 0 days 00:01:00.765000 0 days 00:51:16.351000  ...   \n..                     ...                    ...                    ...  ...   \n265 0 days 00:00:40.537000 0 days 00:01:05.641000 0 days 00:37:24.416000  ...   \n266 0 days 00:00:36.162000 0 days 00:01:12.979000 0 days 00:39:34.037000  ...   \n267                    NaT                    NaT                    NaT  ...   \n268 0 days 00:00:44.513000 0 days 00:01:14.781000 0 days 00:15:41.497000  ...   \n269                    NaT                    NaT 0 days 00:26:16.005000  ...   \n\n    Compound TyreLife  FreshTyre  Stint           LapStartTime  \\\n0       SOFT      1.0       True      1 0 days 00:17:39.747000   \n1       SOFT      2.0      False      2 0 days 00:28:44.908000   \n2       SOFT      3.0      False      2 0 days 00:31:14.909000   \n3       SOFT      4.0      False      2 0 days 00:32:45.910000   \n4     MEDIUM      1.0       True      3 0 days 00:50:43.059000   \n..       ...      ...        ...    ...                    ...   \n265     SOFT      2.0      False      3 0 days 00:36:47.899000   \n266     SOFT      3.0      False      3 0 days 00:39:10.594000   \n267     SOFT      4.0      False      3 0 days 00:41:23.178000   \n268     SOFT      1.0       True      1 0 days 00:14:55.749000   \n269     SOFT      2.0       True      1 0 days 00:17:40.791000   \n\n                Team Driver TrackStatus  IsAccurate            LapStartDate  \n0    Red Bull Racing    VER          25       False 2021-06-19 13:03:06.950  \n1    Red Bull Racing    VER           1       False 2021-06-19 13:14:12.111  \n2    Red Bull Racing    VER           1        True 2021-06-19 13:16:42.112  \n3    Red Bull Racing    VER          25       False 2021-06-19 13:18:13.113  \n4    Red Bull Racing    VER           1       False 2021-06-19 13:36:10.262  \n..               ...    ...         ...         ...                     ...  \n265     Aston Martin    STR           1       False 2021-06-19 13:22:15.102  \n266     Aston Martin    STR           2        True 2021-06-19 13:24:37.797  \n267     Aston Martin    STR          25       False 2021-06-19 13:26:50.381  \n268       AlphaTauri    TSU           1       False 2021-06-19 13:00:22.952  \n269       AlphaTauri    TSU          25       False 2021-06-19 13:03:07.994  \n\n[270 rows x 27 columns]",
      "text/html": "<div>\n<style scoped>\n    .dataframe tbody tr th:only-of-type {\n        vertical-align: middle;\n    }\n\n    .dataframe tbody tr th {\n        vertical-align: top;\n    }\n\n    .dataframe thead th {\n        text-align: right;\n    }\n</style>\n<table border=\"1\" class=\"dataframe\">\n  <thead>\n    <tr style=\"text-align: right;\">\n      <th></th>\n      <th>Time</th>\n      <th>DriverNumber</th>\n      <th>LapTime</th>\n      <th>LapNumber</th>\n      <th>PitOutTime</th>\n      <th>PitInTime</th>\n      <th>Sector1Time</th>\n      <th>Sector2Time</th>\n      <th>Sector3Time</th>\n      <th>Sector1SessionTime</th>\n      <th>...</th>\n      <th>Compound</th>\n      <th>TyreLife</th>\n      <th>FreshTyre</th>\n      <th>Stint</th>\n      <th>LapStartTime</th>\n      <th>Team</th>\n      <th>Driver</th>\n      <th>TrackStatus</th>\n      <th>IsAccurate</th>\n      <th>LapStartDate</th>\n    </tr>\n  </thead>\n  <tbody>\n    <tr>\n      <th>0</th>\n      <td>0 days 00:28:44.908000</td>\n      <td>33</td>\n      <td>NaT</td>\n      <td>1</td>\n      <td>0 days 00:17:39.747000</td>\n      <td>0 days 00:19:43.510000</td>\n      <td>NaT</td>\n      <td>NaT</td>\n      <td>NaT</td>\n      <td>NaT</td>\n      <td>...</td>\n      <td>SOFT</td>\n      <td>1.0</td>\n      <td>True</td>\n      <td>1</td>\n      <td>0 days 00:17:39.747000</td>\n      <td>Red Bull Racing</td>\n      <td>VER</td>\n      <td>25</td>\n      <td>False</td>\n      <td>2021-06-19 13:03:06.950</td>\n    </tr>\n    <tr>\n      <th>1</th>\n      <td>0 days 00:31:14.909000</td>\n      <td>33</td>\n      <td>NaT</td>\n      <td>2</td>\n      <td>0 days 00:28:44.908000</td>\n      <td>NaT</td>\n      <td>0 days 00:00:35.173000</td>\n      <td>0 days 00:00:33.023000</td>\n      <td>0 days 00:01:22.872000</td>\n      <td>0 days 00:29:19.179000</td>\n      <td>...</td>\n      <td>SOFT</td>\n      <td>2.0</td>\n      <td>False</td>\n      <td>2</td>\n      <td>0 days 00:28:44.908000</td>\n      <td>Red Bull Racing</td>\n      <td>VER</td>\n      <td>1</td>\n      <td>False</td>\n      <td>2021-06-19 13:14:12.111</td>\n    </tr>\n    <tr>\n      <th>2</th>\n      <td>0 days 00:32:45.910000</td>\n      <td>33</td>\n      <td>0 days 00:01:31.001000</td>\n      <td>3</td>\n      <td>NaT</td>\n      <td>NaT</td>\n      <td>0 days 00:00:22.785000</td>\n      <td>0 days 00:00:27.622000</td>\n      <td>0 days 00:00:40.594000</td>\n      <td>0 days 00:31:37.694000</td>\n      <td>...</td>\n      <td>SOFT</td>\n      <td>3.0</td>\n      <td>False</td>\n      <td>2</td>\n      <td>0 days 00:31:14.909000</td>\n      <td>Red Bull Racing</td>\n      <td>VER</td>\n      <td>1</td>\n      <td>True</td>\n      <td>2021-06-19 13:16:42.112</td>\n    </tr>\n    <tr>\n      <th>3</th>\n      <td>0 days 00:50:42.329000</td>\n      <td>33</td>\n      <td>NaT</td>\n      <td>4</td>\n      <td>NaT</td>\n      <td>0 days 00:34:24.631000</td>\n      <td>0 days 00:00:29.710000</td>\n      <td>0 days 00:00:31.618000</td>\n      <td>NaT</td>\n      <td>0 days 00:33:15.764000</td>\n      <td>...</td>\n      <td>SOFT</td>\n      <td>4.0</td>\n      <td>False</td>\n      <td>2</td>\n      <td>0 days 00:32:45.910000</td>\n      <td>Red Bull Racing</td>\n      <td>VER</td>\n      <td>25</td>\n      <td>False</td>\n      <td>2021-06-19 13:18:13.113</td>\n    </tr>\n    <tr>\n      <th>4</th>\n      <td>0 days 00:52:59.529000</td>\n      <td>33</td>\n      <td>0 days 00:02:17.200000</td>\n      <td>5</td>\n      <td>0 days 00:50:43.059000</td>\n      <td>NaT</td>\n      <td>0 days 00:00:34.022000</td>\n      <td>0 days 00:00:42.413000</td>\n      <td>0 days 00:01:00.765000</td>\n      <td>0 days 00:51:16.351000</td>\n      <td>...</td>\n      <td>MEDIUM</td>\n      <td>1.0</td>\n      <td>True</td>\n      <td>3</td>\n      <td>0 days 00:50:43.059000</td>\n      <td>Red Bull Racing</td>\n      <td>VER</td>\n      <td>1</td>\n      <td>False</td>\n      <td>2021-06-19 13:36:10.262</td>\n    </tr>\n    <tr>\n      <th>...</th>\n      <td>...</td>\n      <td>...</td>\n      <td>...</td>\n      <td>...</td>\n      <td>...</td>\n      <td>...</td>\n      <td>...</td>\n      <td>...</td>\n      <td>...</td>\n      <td>...</td>\n      <td>...</td>\n      <td>...</td>\n      <td>...</td>\n      <td>...</td>\n      <td>...</td>\n      <td>...</td>\n      <td>...</td>\n      <td>...</td>\n      <td>...</td>\n      <td>...</td>\n      <td>...</td>\n    </tr>\n    <tr>\n      <th>265</th>\n      <td>0 days 00:39:10.594000</td>\n      <td>18</td>\n      <td>0 days 00:02:22.695000</td>\n      <td>5</td>\n      <td>0 days 00:36:48.913000</td>\n      <td>NaT</td>\n      <td>0 days 00:00:36.517000</td>\n      <td>0 days 00:00:40.537000</td>\n      <td>0 days 00:01:05.641000</td>\n      <td>0 days 00:37:24.416000</td>\n      <td>...</td>\n      <td>SOFT</td>\n      <td>2.0</td>\n      <td>False</td>\n      <td>3</td>\n      <td>0 days 00:36:47.899000</td>\n      <td>Aston Martin</td>\n      <td>STR</td>\n      <td>1</td>\n      <td>False</td>\n      <td>2021-06-19 13:22:15.102</td>\n    </tr>\n    <tr>\n      <th>266</th>\n      <td>0 days 00:41:23.178000</td>\n      <td>18</td>\n      <td>0 days 00:02:12.584000</td>\n      <td>6</td>\n      <td>NaT</td>\n      <td>NaT</td>\n      <td>0 days 00:00:23.443000</td>\n      <td>0 days 00:00:36.162000</td>\n      <td>0 days 00:01:12.979000</td>\n      <td>0 days 00:39:34.037000</td>\n      <td>...</td>\n      <td>SOFT</td>\n      <td>3.0</td>\n      <td>False</td>\n      <td>3</td>\n      <td>0 days 00:39:10.594000</td>\n      <td>Aston Martin</td>\n      <td>STR</td>\n      <td>2</td>\n      <td>True</td>\n      <td>2021-06-19 13:24:37.797</td>\n    </tr>\n    <tr>\n      <th>267</th>\n      <td>0 days 00:41:30.642000</td>\n      <td>18</td>\n      <td>NaT</td>\n      <td>7</td>\n      <td>NaT</td>\n      <td>NaT</td>\n      <td>NaT</td>\n      <td>NaT</td>\n      <td>NaT</td>\n      <td>NaT</td>\n      <td>...</td>\n      <td>SOFT</td>\n      <td>4.0</td>\n      <td>False</td>\n      <td>3</td>\n      <td>0 days 00:41:23.178000</td>\n      <td>Aston Martin</td>\n      <td>STR</td>\n      <td>25</td>\n      <td>False</td>\n      <td>2021-06-19 13:26:50.381</td>\n    </tr>\n    <tr>\n      <th>268</th>\n      <td>0 days 00:17:40.791000</td>\n      <td>22</td>\n      <td>NaT</td>\n      <td>1</td>\n      <td>0 days 00:14:55.749000</td>\n      <td>NaT</td>\n      <td>0 days 00:00:46.836000</td>\n      <td>0 days 00:00:44.513000</td>\n      <td>0 days 00:01:14.781000</td>\n      <td>0 days 00:15:41.497000</td>\n      <td>...</td>\n      <td>SOFT</td>\n      <td>1.0</td>\n      <td>True</td>\n      <td>1</td>\n      <td>0 days 00:14:55.749000</td>\n      <td>AlphaTauri</td>\n      <td>TSU</td>\n      <td>1</td>\n      <td>False</td>\n      <td>2021-06-19 13:00:22.952</td>\n    </tr>\n    <tr>\n      <th>269</th>\n      <td>0 days 00:26:20.982000</td>\n      <td>22</td>\n      <td>NaT</td>\n      <td>2</td>\n      <td>NaT</td>\n      <td>0 days 00:26:20.982000</td>\n      <td>0 days 00:00:46.836000</td>\n      <td>NaT</td>\n      <td>NaT</td>\n      <td>0 days 00:26:16.005000</td>\n      <td>...</td>\n      <td>SOFT</td>\n      <td>2.0</td>\n      <td>True</td>\n      <td>1</td>\n      <td>0 days 00:17:40.791000</td>\n      <td>AlphaTauri</td>\n      <td>TSU</td>\n      <td>25</td>\n      <td>False</td>\n      <td>2021-06-19 13:03:07.994</td>\n    </tr>\n  </tbody>\n</table>\n<p>270 rows × 27 columns</p>\n</div>"
     },
     "execution_count": 9,
     "metadata": {},
     "output_type": "execute_result"
    }
   ],
   "source": [
    "session = ff.get_session(2021, 'French Grand Prix', 'Q')\n",
    "session.load()\n",
    "session.laps"
   ],
   "metadata": {
    "collapsed": false,
    "ExecuteTime": {
     "start_time": "2023-04-03T17:21:02.371830Z",
     "end_time": "2023-04-03T17:21:03.553894Z"
    }
   }
  },
  {
   "cell_type": "code",
   "execution_count": 10,
   "outputs": [
    {
     "name": "stdout",
     "output_type": "stream",
     "text": [
      "Index(['Time', 'DriverNumber', 'LapTime', 'LapNumber', 'PitOutTime',\n",
      "       'PitInTime', 'Sector1Time', 'Sector2Time', 'Sector3Time',\n",
      "       'Sector1SessionTime', 'Sector2SessionTime', 'Sector3SessionTime',\n",
      "       'SpeedI1', 'SpeedI2', 'SpeedFL', 'SpeedST', 'IsPersonalBest',\n",
      "       'Compound', 'TyreLife', 'FreshTyre', 'Stint', 'LapStartTime', 'Team',\n",
      "       'Driver', 'TrackStatus', 'IsAccurate', 'LapStartDate'],\n",
      "      dtype='object')\n",
      "Time                      0 days 01:25:25.050000\n",
      "DriverNumber                                  33\n",
      "LapTime                   0 days 00:01:29.990000\n",
      "LapNumber                                     15\n",
      "PitOutTime                                   NaT\n",
      "PitInTime                                    NaT\n",
      "Sector1Time               0 days 00:00:22.405000\n",
      "Sector2Time               0 days 00:00:27.388000\n",
      "Sector3Time               0 days 00:00:40.197000\n",
      "Sector1SessionTime        0 days 01:24:17.465000\n",
      "Sector2SessionTime        0 days 01:24:44.853000\n",
      "Sector3SessionTime        0 days 01:25:25.050000\n",
      "SpeedI1                                    126.0\n",
      "SpeedI2                                    284.0\n",
      "SpeedFL                                    303.0\n",
      "SpeedST                                    328.0\n",
      "IsPersonalBest                              True\n",
      "Compound                                    SOFT\n",
      "TyreLife                                     2.0\n",
      "FreshTyre                                   True\n",
      "Stint                                          6\n",
      "LapStartTime              0 days 01:23:55.060000\n",
      "Team                             Red Bull Racing\n",
      "Driver                                       VER\n",
      "TrackStatus                                    1\n",
      "IsAccurate                                  True\n",
      "LapStartDate          2021-06-19 14:09:22.263000\n",
      "Name: 14, dtype: object\n"
     ]
    }
   ],
   "source": [
    "print(session.laps.columns)\n",
    "print(session.laps.pick_fastest())"
   ],
   "metadata": {
    "collapsed": false,
    "ExecuteTime": {
     "start_time": "2023-04-03T17:22:35.605838Z",
     "end_time": "2023-04-03T17:22:35.610000Z"
    }
   }
  },
  {
   "cell_type": "markdown",
   "source": [
    "# Sample Plot"
   ],
   "metadata": {
    "collapsed": false
   }
  },
  {
   "cell_type": "code",
   "execution_count": 12,
   "outputs": [
    {
     "name": "stderr",
     "output_type": "stream",
     "text": [
      "core           INFO \tLoading data for Italian Grand Prix - Qualifying [v2.3.1]\n",
      "api            INFO \tNo cached data found for driver_info. Loading data...\n",
      "api            INFO \tFetching driver list...\n",
      "api            INFO \tData has been written to cache!\n",
      "api            INFO \tNo cached data found for timing_data. Loading data...\n",
      "api            INFO \tFetching timing data...\n",
      "api            INFO \tParsing timing data...\n",
      "api         WARNING \tDriver 16: Encountered 1 timing integrity error(s) near lap(s): [6].\n",
      "This might be a bug and should be reported.\n",
      "api            INFO \tData has been written to cache!\n",
      "api            INFO \tNo cached data found for timing_app_data. Loading data...\n",
      "api            INFO \tFetching timing app data...\n",
      "api            INFO \tData has been written to cache!\n",
      "core           INFO \tProcessing timing data...\n",
      "api            INFO \tNo cached data found for session_status_data. Loading data...\n",
      "api            INFO \tFetching session status data...\n",
      "api            INFO \tData has been written to cache!\n",
      "api            INFO \tNo cached data found for track_status_data. Loading data...\n",
      "api            INFO \tFetching track status data...\n",
      "api            INFO \tData has been written to cache!\n",
      "/Users/blank/miniforge3/envs/python310/lib/python3.10/site-packages/fastf1/core.py:1415: FutureWarning: In a future version, object-dtype columns with all-bool values will not be included in reductions with bool_only=True. Explicitly cast to bool dtype instead.\n",
      "  df = pd.concat([df, result], sort=False)\n",
      "/Users/blank/miniforge3/envs/python310/lib/python3.10/site-packages/fastf1/core.py:1415: FutureWarning: In a future version, object-dtype columns with all-bool values will not be included in reductions with bool_only=True. Explicitly cast to bool dtype instead.\n",
      "  df = pd.concat([df, result], sort=False)\n",
      "/Users/blank/miniforge3/envs/python310/lib/python3.10/site-packages/fastf1/core.py:1415: FutureWarning: In a future version, object-dtype columns with all-bool values will not be included in reductions with bool_only=True. Explicitly cast to bool dtype instead.\n",
      "  df = pd.concat([df, result], sort=False)\n",
      "/Users/blank/miniforge3/envs/python310/lib/python3.10/site-packages/fastf1/core.py:1415: FutureWarning: In a future version, object-dtype columns with all-bool values will not be included in reductions with bool_only=True. Explicitly cast to bool dtype instead.\n",
      "  df = pd.concat([df, result], sort=False)\n",
      "/Users/blank/miniforge3/envs/python310/lib/python3.10/site-packages/fastf1/core.py:1415: FutureWarning: In a future version, object-dtype columns with all-bool values will not be included in reductions with bool_only=True. Explicitly cast to bool dtype instead.\n",
      "  df = pd.concat([df, result], sort=False)\n",
      "/Users/blank/miniforge3/envs/python310/lib/python3.10/site-packages/fastf1/core.py:1415: FutureWarning: In a future version, object-dtype columns with all-bool values will not be included in reductions with bool_only=True. Explicitly cast to bool dtype instead.\n",
      "  df = pd.concat([df, result], sort=False)\n",
      "/Users/blank/miniforge3/envs/python310/lib/python3.10/site-packages/fastf1/core.py:1415: FutureWarning: In a future version, object-dtype columns with all-bool values will not be included in reductions with bool_only=True. Explicitly cast to bool dtype instead.\n",
      "  df = pd.concat([df, result], sort=False)\n",
      "/Users/blank/miniforge3/envs/python310/lib/python3.10/site-packages/fastf1/core.py:1492: FutureWarning: iteritems is deprecated and will be removed in a future version. Use .items instead.\n",
      "  for key, value in row.iteritems():\n",
      "/Users/blank/miniforge3/envs/python310/lib/python3.10/site-packages/fastf1/core.py:1415: FutureWarning: In a future version, object-dtype columns with all-bool values will not be included in reductions with bool_only=True. Explicitly cast to bool dtype instead.\n",
      "  df = pd.concat([df, result], sort=False)\n",
      "/Users/blank/miniforge3/envs/python310/lib/python3.10/site-packages/fastf1/core.py:1415: FutureWarning: In a future version, object-dtype columns with all-bool values will not be included in reductions with bool_only=True. Explicitly cast to bool dtype instead.\n",
      "  df = pd.concat([df, result], sort=False)\n",
      "/Users/blank/miniforge3/envs/python310/lib/python3.10/site-packages/fastf1/core.py:1415: FutureWarning: In a future version, object-dtype columns with all-bool values will not be included in reductions with bool_only=True. Explicitly cast to bool dtype instead.\n",
      "  df = pd.concat([df, result], sort=False)\n",
      "/Users/blank/miniforge3/envs/python310/lib/python3.10/site-packages/fastf1/core.py:1415: FutureWarning: In a future version, object-dtype columns with all-bool values will not be included in reductions with bool_only=True. Explicitly cast to bool dtype instead.\n",
      "  df = pd.concat([df, result], sort=False)\n",
      "/Users/blank/miniforge3/envs/python310/lib/python3.10/site-packages/fastf1/core.py:1492: FutureWarning: iteritems is deprecated and will be removed in a future version. Use .items instead.\n",
      "  for key, value in row.iteritems():\n",
      "/Users/blank/miniforge3/envs/python310/lib/python3.10/site-packages/fastf1/core.py:1415: FutureWarning: In a future version, object-dtype columns with all-bool values will not be included in reductions with bool_only=True. Explicitly cast to bool dtype instead.\n",
      "  df = pd.concat([df, result], sort=False)\n",
      "/Users/blank/miniforge3/envs/python310/lib/python3.10/site-packages/fastf1/core.py:1415: FutureWarning: In a future version, object-dtype columns with all-bool values will not be included in reductions with bool_only=True. Explicitly cast to bool dtype instead.\n",
      "  df = pd.concat([df, result], sort=False)\n",
      "/Users/blank/miniforge3/envs/python310/lib/python3.10/site-packages/fastf1/core.py:1492: FutureWarning: iteritems is deprecated and will be removed in a future version. Use .items instead.\n",
      "  for key, value in row.iteritems():\n",
      "/Users/blank/miniforge3/envs/python310/lib/python3.10/site-packages/fastf1/core.py:1415: FutureWarning: In a future version, object-dtype columns with all-bool values will not be included in reductions with bool_only=True. Explicitly cast to bool dtype instead.\n",
      "  df = pd.concat([df, result], sort=False)\n",
      "/Users/blank/miniforge3/envs/python310/lib/python3.10/site-packages/fastf1/core.py:1415: FutureWarning: In a future version, object-dtype columns with all-bool values will not be included in reductions with bool_only=True. Explicitly cast to bool dtype instead.\n",
      "  df = pd.concat([df, result], sort=False)\n",
      "/Users/blank/miniforge3/envs/python310/lib/python3.10/site-packages/fastf1/core.py:1415: FutureWarning: In a future version, object-dtype columns with all-bool values will not be included in reductions with bool_only=True. Explicitly cast to bool dtype instead.\n",
      "  df = pd.concat([df, result], sort=False)\n",
      "/Users/blank/miniforge3/envs/python310/lib/python3.10/site-packages/fastf1/core.py:1415: FutureWarning: In a future version, object-dtype columns with all-bool values will not be included in reductions with bool_only=True. Explicitly cast to bool dtype instead.\n",
      "  df = pd.concat([df, result], sort=False)\n",
      "/Users/blank/miniforge3/envs/python310/lib/python3.10/site-packages/fastf1/core.py:1492: FutureWarning: iteritems is deprecated and will be removed in a future version. Use .items instead.\n",
      "  for key, value in row.iteritems():\n",
      "/Users/blank/miniforge3/envs/python310/lib/python3.10/site-packages/fastf1/core.py:1415: FutureWarning: In a future version, object-dtype columns with all-bool values will not be included in reductions with bool_only=True. Explicitly cast to bool dtype instead.\n",
      "  df = pd.concat([df, result], sort=False)\n",
      "/Users/blank/miniforge3/envs/python310/lib/python3.10/site-packages/fastf1/core.py:1415: FutureWarning: In a future version, object-dtype columns with all-bool values will not be included in reductions with bool_only=True. Explicitly cast to bool dtype instead.\n",
      "  df = pd.concat([df, result], sort=False)\n",
      "api            INFO \tNo cached data found for car_data. Loading data...\n",
      "api            INFO \tFetching car data...\n",
      "api            INFO \tParsing car data...\n",
      "api            INFO \tData has been written to cache!\n",
      "api            INFO \tNo cached data found for position_data. Loading data...\n",
      "api            INFO \tFetching position data...\n",
      "api            INFO \tParsing position data...\n",
      "api            INFO \tData has been written to cache!\n",
      "api            INFO \tNo cached data found for weather_data. Loading data...\n",
      "api            INFO \tFetching weather data...\n",
      "api            INFO \tData has been written to cache!\n",
      "api            INFO \tNo cached data found for race_control_messages. Loading data...\n",
      "api            INFO \tFetching race control messages...\n",
      "api            INFO \tData has been written to cache!\n",
      "core           INFO \tFinished loading data for 20 drivers: ['77', '44', '33', '4', '3', '10', '55', '16', '11', '99', '5', '18', '14', '31', '63', '6', '22', '47', '88', '9']\n"
     ]
    }
   ],
   "source": [
    "session = ff.get_session(2021, 'Monza', 'Q')\n",
    "session.load()\n",
    "vettel = session.get_driver('VET')"
   ],
   "metadata": {
    "collapsed": false,
    "ExecuteTime": {
     "start_time": "2023-04-03T17:35:19.465236Z",
     "end_time": "2023-04-03T17:35:51.468678Z"
    }
   }
  },
  {
   "cell_type": "code",
   "execution_count": 25,
   "outputs": [
    {
     "name": "stdout",
     "output_type": "stream",
     "text": [
      "Time                      0 days 00:55:25.445000\n",
      "DriverNumber                                   5\n",
      "LapTime                   0 days 00:01:20.913000\n",
      "LapNumber                                     13\n",
      "PitOutTime                                   NaT\n",
      "PitInTime                                    NaT\n",
      "Sector1Time               0 days 00:00:27.105000\n",
      "Sector2Time               0 days 00:00:27.011000\n",
      "Sector3Time               0 days 00:00:26.797000\n",
      "Sector1SessionTime        0 days 00:54:31.637000\n",
      "Sector2SessionTime        0 days 00:54:58.648000\n",
      "Sector3SessionTime        0 days 00:55:25.445000\n",
      "SpeedI1                                    317.0\n",
      "SpeedI2                                    327.0\n",
      "SpeedFL                                    306.0\n",
      "SpeedST                                    334.0\n",
      "IsPersonalBest                              True\n",
      "Compound                                    SOFT\n",
      "TyreLife                                     2.0\n",
      "FreshTyre                                   True\n",
      "Stint                                          4\n",
      "LapStartTime              0 days 00:54:04.532000\n",
      "Team                                Aston Martin\n",
      "Driver                                       VET\n",
      "TrackStatus                                    1\n",
      "IsAccurate                                  True\n",
      "LapStartDate          2021-09-10 16:39:04.543000\n",
      "Name: 193, dtype: object\n",
      "                       Date    RPM  Speed  nGear  Throttle  Brake  DRS Source  \\\n",
      "0   2021-09-10 16:39:04.676  11276    313      8       100  False    8    car   \n",
      "1   2021-09-10 16:39:04.916  11334    313      8       100  False    8    car   \n",
      "2   2021-09-10 16:39:05.156  11375    315      8       100  False    8    car   \n",
      "3   2021-09-10 16:39:05.396  11377    317      8       100  False    8    car   \n",
      "4   2021-09-10 16:39:05.636  11458    317      8       100  False    8    car   \n",
      "..                      ...    ...    ...    ...       ...    ...  ...    ...   \n",
      "330 2021-09-10 16:40:24.357  10921    303      8        99  False    8    car   \n",
      "331 2021-09-10 16:40:24.596  10943    304      8       100  False    8    car   \n",
      "332 2021-09-10 16:40:24.836  11035    304      8       100  False    8    car   \n",
      "333 2021-09-10 16:40:25.076  11021    306      8       100  False    8    car   \n",
      "334 2021-09-10 16:40:25.316  11085    307      8       100  False    8    car   \n",
      "\n",
      "                      Time            SessionTime  \n",
      "0   0 days 00:00:00.133000 0 days 00:54:04.665000  \n",
      "1   0 days 00:00:00.373000 0 days 00:54:04.905000  \n",
      "2   0 days 00:00:00.613000 0 days 00:54:05.145000  \n",
      "3   0 days 00:00:00.853000 0 days 00:54:05.385000  \n",
      "4   0 days 00:00:01.093000 0 days 00:54:05.625000  \n",
      "..                     ...                    ...  \n",
      "330 0 days 00:01:19.814000 0 days 00:55:24.346000  \n",
      "331 0 days 00:01:20.053000 0 days 00:55:24.585000  \n",
      "332 0 days 00:01:20.293000 0 days 00:55:24.825000  \n",
      "333 0 days 00:01:20.533000 0 days 00:55:25.065000  \n",
      "334 0 days 00:01:20.773000 0 days 00:55:25.305000  \n",
      "\n",
      "[335 rows x 10 columns]\n"
     ]
    },
    {
     "data": {
      "text/plain": "<Figure size 640x480 with 1 Axes>",
      "image/png": "[encoded data removed]"
     },
     "metadata": {},
     "output_type": "display_data"
    }
   ],
   "source": [
    "plotting.setup_mpl()\n",
    "fast_vettel = session.laps.pick_driver('VET').pick_fastest()\n",
    "print(fast_vettel)\n",
    "vet_car_data = fast_vettel.get_car_data()\n",
    "print(vet_car_data)\n",
    "t = vet_car_data['Time']\n",
    "vCar = vet_car_data['Speed']\n",
    "\n",
    "fig, ax = plt.subplots()\n",
    "ax.plot(t, vCar, label='speed')\n",
    "ax.set_xlabel('time')\n",
    "ax.set_ylabel('speed [Km/h]')\n",
    "ax.set_title('Vettel')\n",
    "ax.legend()\n",
    "plt.show()"
   ],
   "metadata": {
    "collapsed": false,
    "ExecuteTime": {
     "start_time": "2023-04-03T23:49:47.539956Z",
     "end_time": "2023-04-03T23:49:47.684880Z"
    }
   }
  },
  {
   "cell_type": "code",
   "execution_count": null,
   "outputs": [],
   "source": [],
   "metadata": {
    "collapsed": false
   }
  }
 ],
 "metadata": {
  "kernelspec": {
   "display_name": "Python 3",
   "language": "python",
   "name": "python3"
  },
  "language_info": {
   "codemirror_mode": {
    "name": "ipython",
    "version": 2
   },
   "file_extension": ".py",
   "mimetype": "text/x-python",
   "name": "python",
   "nbconvert_exporter": "python",
   "pygments_lexer": "ipython2",
   "version": "2.7.6"
  }
 },
 "nbformat": 4,
 "nbformat_minor": 0
}
