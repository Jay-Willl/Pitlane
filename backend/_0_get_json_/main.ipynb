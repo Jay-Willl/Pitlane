{
 "cells": [
  {
   "cell_type": "code",
   "execution_count": 104,
   "metadata": {
    "collapsed": true,
    "ExecuteTime": {
     "end_time": "2023-06-15T14:50:17.695283Z",
     "start_time": "2023-06-15T14:50:17.692376Z"
    }
   },
   "outputs": [],
   "source": [
    "import fastf1\n",
    "from fastf1.core import Laps\n",
    "import logging\n",
    "import numpy as np\n",
    "import uuid\n",
    "import warnings\n",
    "import altair as alt\n",
    "import pandas as pd\n",
    "import fastf1.plotting as plotting\n",
    "import json\n",
    "import scipy\n",
    "from matplotlib import pyplot as plt"
   ]
  },
  {
   "cell_type": "code",
   "execution_count": 4,
   "outputs": [],
   "source": [
    "fastf1.Cache.enable_cache(\"../../cache\")\n",
    "logging.basicConfig(level=logging.WARNING)  # 设置日志级别为WARNING\n",
    "logger = logging.getLogger('fastf1')\n",
    "logger.setLevel(logging.WARNING)\n",
    "plotting.setup_mpl()"
   ],
   "metadata": {
    "collapsed": false,
    "ExecuteTime": {
     "end_time": "2023-06-14T02:15:21.137160Z",
     "start_time": "2023-06-14T02:15:21.128843Z"
    }
   }
  },
  {
   "cell_type": "markdown",
   "source": [
    "### Utils"
   ],
   "metadata": {
    "collapsed": false
   }
  },
  {
   "cell_type": "markdown",
   "source": [
    "##### 1. print & export"
   ],
   "metadata": {
    "collapsed": false
   }
  },
  {
   "cell_type": "code",
   "execution_count": 5,
   "outputs": [],
   "source": [
    "def print_the_best_driver(session, fastestlap, best_driver):\n",
    "    print(\n",
    "        session.weekend.name\n",
    "        + \" fastest lap is \"\n",
    "        + best_driver\n",
    "        + \" with time \"\n",
    "        + str(fastestlap)\n",
    "    )\n",
    "\n",
    "\n",
    "def export_to_file(content: str, target: str):\n",
    "    with open(target, mode='w') as f:\n",
    "        f.write(content)\n",
    "        f.close()"
   ],
   "metadata": {
    "collapsed": false,
    "ExecuteTime": {
     "end_time": "2023-06-14T02:15:22.565102Z",
     "start_time": "2023-06-14T02:15:22.537156Z"
    }
   }
  },
  {
   "cell_type": "markdown",
   "source": [
    "##### 2. partition sequence"
   ],
   "metadata": {
    "collapsed": false
   }
  },
  {
   "cell_type": "code",
   "execution_count": 6,
   "outputs": [],
   "source": [
    "def partition_lap_telemetry_max(lap):\n",
    "    df = pd.DataFrame(lap.telemetry)\n",
    "    df = df[df[\"Source\"] == \"car\"].reset_index(drop=True)\n",
    "    info_dict = df.to_dict(orient='records')\n",
    "\n",
    "    # partition sequence\n",
    "    threshold = 3\n",
    "    increasing_intervals = []\n",
    "    decreasing_intervals = []\n",
    "    maxima_points = []\n",
    "    minima_points = []\n",
    "    maxima_dict = dict()\n",
    "    minima_dict = dict()\n",
    "\n",
    "    current_interval = [info_dict[0]]\n",
    "    flag = 1 if (info_dict[1]['Speed'] - info_dict[0]['Speed']) > 0 else 0\n",
    "\n",
    "    for i in range(1, len(info_dict)):\n",
    "        diff = info_dict[i]['Speed'] - info_dict[i - 1]['Speed']\n",
    "        if abs(diff) > threshold:\n",
    "            if (flag == 1 and diff >= 0) or (flag == 0 and diff < 0):\n",
    "                current_interval.append(info_dict[i])\n",
    "            elif flag == 1:\n",
    "                increasing_intervals.append(current_interval)\n",
    "                flag = 0\n",
    "                current_interval = [info_dict[i - 1]]\n",
    "                current_interval.append(info_dict[i])\n",
    "            elif flag == 0:\n",
    "                decreasing_intervals.append(current_interval)\n",
    "                flag = 1\n",
    "                current_interval = [info_dict[i - 1]]\n",
    "                current_interval.append(info_dict[i])\n",
    "        else:\n",
    "            current_interval.append(info_dict[i])\n",
    "\n",
    "    index = 1\n",
    "    for interval in increasing_intervals:\n",
    "        # 反向遍历数组, 如果上一个元素速度更快就更换maxima point\n",
    "        idx = -1\n",
    "        temp_maxima = interval[idx]\n",
    "        while True:\n",
    "            idx -= 1\n",
    "            if interval[idx]['Speed'] > temp_maxima['Speed']:\n",
    "                temp_maxima = interval[idx]\n",
    "            else:\n",
    "                break\n",
    "        maxima_points.append(temp_maxima)\n",
    "        maxima_dict[index] = temp_maxima\n",
    "        index += 1\n",
    "    index = 1\n",
    "    for interval in decreasing_intervals:\n",
    "        minima_points.append(interval[-1])\n",
    "        minima_dict[index] = interval[-1]\n",
    "        index += 1\n",
    "\n",
    "    return maxima_dict\n",
    "\n",
    "def partition_lap_telemetry_max_json(lap):\n",
    "    df = pd.DataFrame(lap.telemetry)\n",
    "    df = df[df[\"Source\"] == \"car\"].reset_index(drop=True)\n",
    "    info_dict = df.to_dict(orient='records')\n",
    "\n",
    "    # partition sequence\n",
    "    threshold = 3\n",
    "    increasing_intervals = []\n",
    "    decreasing_intervals = []\n",
    "    maxima_points = []\n",
    "    minima_points = []\n",
    "    maxima_dict = dict()\n",
    "    minima_dict = dict()\n",
    "\n",
    "    current_interval = [info_dict[0]]\n",
    "    flag = 1 if (info_dict[1]['Speed'] - info_dict[0]['Speed']) > 0 else 0\n",
    "\n",
    "    for i in range(1, len(info_dict)):\n",
    "        diff = info_dict[i]['Speed'] - info_dict[i - 1]['Speed']\n",
    "        if abs(diff) > threshold:\n",
    "            if (flag == 1 and diff >= 0) or (flag == 0 and diff < 0):\n",
    "                current_interval.append(info_dict[i])\n",
    "            elif flag == 1:\n",
    "                increasing_intervals.append(current_interval)\n",
    "                flag = 0\n",
    "                current_interval = [info_dict[i - 1]]\n",
    "                current_interval.append(info_dict[i])\n",
    "            elif flag == 0:\n",
    "                decreasing_intervals.append(current_interval)\n",
    "                flag = 1\n",
    "                current_interval = [info_dict[i - 1]]\n",
    "                current_interval.append(info_dict[i])\n",
    "        else:\n",
    "            current_interval.append(info_dict[i])\n",
    "\n",
    "    index = 1\n",
    "    for interval in increasing_intervals:\n",
    "        # 反向遍历数组, 如果上一个元素速度更快就更换maxima point\n",
    "        idx = -1\n",
    "        temp_maxima = interval[idx]\n",
    "        while True:\n",
    "            idx -= 1\n",
    "            if interval[idx]['Speed'] > temp_maxima['Speed']:\n",
    "                temp_maxima = interval[idx]\n",
    "            else:\n",
    "                break\n",
    "        maxima_points.append(temp_maxima)\n",
    "        maxima_dict[index] = temp_maxima\n",
    "        index += 1\n",
    "    index = 1\n",
    "    for interval in decreasing_intervals:\n",
    "        minima_points.append(interval[-1])\n",
    "        minima_dict[index] = interval[-1]\n",
    "        index += 1\n",
    "\n",
    "    return json.dumps(maxima_dict, default=str)\n",
    "\n",
    "def partition_lap_telemetry_min(lap):\n",
    "    df = pd.DataFrame(lap.telemetry)\n",
    "    df = df[df[\"Source\"] == \"car\"].reset_index(drop=True)\n",
    "    info_dict = df.to_dict(orient='records')\n",
    "\n",
    "    # partition sequence\n",
    "    threshold = 3\n",
    "    increasing_intervals = []\n",
    "    decreasing_intervals = []\n",
    "    maxima_points = []\n",
    "    minima_points = []\n",
    "    maxima_dict = dict()\n",
    "    minima_dict = dict()\n",
    "\n",
    "    current_interval = [info_dict[0]]\n",
    "    flag = 1 if (info_dict[1]['Speed'] - info_dict[0]['Speed']) > 0 else 0\n",
    "\n",
    "    for i in range(1, len(info_dict)):\n",
    "        diff = info_dict[i]['Speed'] - info_dict[i - 1]['Speed']\n",
    "        if abs(diff) > threshold:\n",
    "            if (flag == 1 and diff >= 0) or (flag == 0 and diff < 0):\n",
    "                current_interval.append(info_dict[i])\n",
    "            elif flag == 1:\n",
    "                increasing_intervals.append(current_interval)\n",
    "                flag = 0\n",
    "                current_interval = [info_dict[i - 1]]\n",
    "                current_interval.append(info_dict[i])\n",
    "            elif flag == 0:\n",
    "                decreasing_intervals.append(current_interval)\n",
    "                flag = 1\n",
    "                current_interval = [info_dict[i - 1]]\n",
    "                current_interval.append(info_dict[i])\n",
    "        else:\n",
    "            current_interval.append(info_dict[i])\n",
    "\n",
    "    index = 1\n",
    "    for interval in increasing_intervals:\n",
    "        maxima_points.append(interval[-1])\n",
    "        maxima_dict[index] = interval[-1]\n",
    "        index += 1\n",
    "    index = 1\n",
    "    for interval in decreasing_intervals:\n",
    "        minima_points.append(interval[-1])\n",
    "        minima_dict[index] = interval[-1]\n",
    "        index += 1\n",
    "\n",
    "    return minima_dict\n",
    "\n",
    "def partition_lap_telemetry_min_json(lap):\n",
    "    df = pd.DataFrame(lap.telemetry)\n",
    "    df = df[df[\"Source\"] == \"car\"].reset_index(drop=True)\n",
    "    info_dict = df.to_dict(orient='records')\n",
    "\n",
    "    # partition sequence\n",
    "    threshold = 3\n",
    "    increasing_intervals = []\n",
    "    decreasing_intervals = []\n",
    "    maxima_points = []\n",
    "    minima_points = []\n",
    "    maxima_dict = dict()\n",
    "    minima_dict = dict()\n",
    "\n",
    "    current_interval = [info_dict[0]]\n",
    "    flag = 1 if (info_dict[1]['Speed'] - info_dict[0]['Speed']) > 0 else 0\n",
    "\n",
    "    for i in range(1, len(info_dict)):\n",
    "        diff = info_dict[i]['Speed'] - info_dict[i - 1]['Speed']\n",
    "        if abs(diff) > threshold:\n",
    "            if (flag == 1 and diff >= 0) or (flag == 0 and diff < 0):\n",
    "                current_interval.append(info_dict[i])\n",
    "            elif flag == 1:\n",
    "                increasing_intervals.append(current_interval)\n",
    "                flag = 0\n",
    "                current_interval = [info_dict[i - 1]]\n",
    "                current_interval.append(info_dict[i])\n",
    "            elif flag == 0:\n",
    "                decreasing_intervals.append(current_interval)\n",
    "                flag = 1\n",
    "                current_interval = [info_dict[i - 1]]\n",
    "                current_interval.append(info_dict[i])\n",
    "        else:\n",
    "            current_interval.append(info_dict[i])\n",
    "\n",
    "    index = 1\n",
    "    for interval in increasing_intervals:\n",
    "        maxima_points.append(interval[-1])\n",
    "        maxima_dict[index] = interval[-1]\n",
    "        index += 1\n",
    "    index = 1\n",
    "    for interval in decreasing_intervals:\n",
    "        minima_points.append(interval[-1])\n",
    "        minima_dict[index] = interval[-1]\n",
    "        index += 1\n",
    "\n",
    "    return json.dumps(minima_dict, default=str)"
   ],
   "metadata": {
    "collapsed": false,
    "ExecuteTime": {
     "end_time": "2023-06-14T02:15:23.678308Z",
     "start_time": "2023-06-14T02:15:23.671038Z"
    }
   }
  },
  {
   "cell_type": "code",
   "execution_count": 7,
   "outputs": [
    {
     "name": "stdout",
     "output_type": "stream",
     "text": [
      "(array([ 3,  6, 10, 18]),)\n",
      "(array([ 4,  7, 14]),)\n",
      "[[1, 6, 13, 23, 21, 41, 51], [6, 53, 54, 67], [2, 8, 27, 32, 51]]\n",
      "[[51, 6], [67, 52, 20, 3, 2], [51, 41, 33, 20, 1]]\n"
     ]
    }
   ],
   "source": [
    "# test partition\n",
    "def partition_array(sequence, threshold):\n",
    "    increasing_intervals = []\n",
    "    decreasing_intervals = []\n",
    "    current_interval = [sequence[0]]\n",
    "    flag = 1 if (sequence[1] - sequence[0]) > 0 else 0\n",
    "\n",
    "    for i in range(1, len(sequence)):\n",
    "        diff = sequence[i] - sequence[i - 1]\n",
    "\n",
    "        if abs(diff) > threshold:\n",
    "            if (flag == 1 and diff >= 0) or (flag == 0 and diff < 0):\n",
    "                current_interval.append(sequence[i])\n",
    "            elif flag == 1:\n",
    "                increasing_intervals.append(current_interval)\n",
    "                flag = 0\n",
    "                current_interval = [sequence[i - 1]]\n",
    "                current_interval.append(sequence[i])\n",
    "            elif flag == 0:\n",
    "                decreasing_intervals.append(current_interval)\n",
    "                flag = 1\n",
    "                current_interval = [sequence[i - 1]]\n",
    "                current_interval.append(sequence[i])\n",
    "        else:\n",
    "            current_interval.append(sequence[i])\n",
    "\n",
    "    if current_interval:\n",
    "        if sequence[-1] - sequence[-2] > 0:\n",
    "            increasing_intervals.append(current_interval)\n",
    "        else:\n",
    "            decreasing_intervals.append(current_interval)\n",
    "\n",
    "    return increasing_intervals, decreasing_intervals\n",
    "\n",
    "data = np.array([1, 6, 13, 23, 21, 41, 51, 6, 53, 54, 67, 52, 20, 3, 2, 8, 27, 32, 51, 41, 33, 20, 1])\n",
    "maxima = scipy.signal.argrelextrema(data, np.greater)\n",
    "minima = scipy.signal.argrelextrema(data, np.less)\n",
    "print(maxima)\n",
    "print(minima)\n",
    "\n",
    "threshold = 3  # 阈值\n",
    "increasing_intervals, decreasing_intervals = partition_array(data, threshold)\n",
    "print(increasing_intervals)\n",
    "print(decreasing_intervals)"
   ],
   "metadata": {
    "collapsed": false,
    "ExecuteTime": {
     "end_time": "2023-06-14T02:15:24.507484Z",
     "start_time": "2023-06-14T02:15:24.209123Z"
    }
   }
  },
  {
   "cell_type": "markdown",
   "source": [
    "##### 3. object infos"
   ],
   "metadata": {
    "collapsed": false
   }
  },
  {
   "cell_type": "code",
   "execution_count": 25,
   "outputs": [],
   "source": [
    "def fastest_laps_of_drivers(laps):\n",
    "    drivers = pd.unique(laps[\"Driver\"])\n",
    "    info_arr = []\n",
    "    info_dict = dict()\n",
    "    for drv in drivers:\n",
    "        fastest = laps.pick_driver(drv).pick_fastest()\n",
    "        info_arr.append(fastest.to_dict())\n",
    "        info_dict[fastest['DriverNumber']] = fastest.to_dict()\n",
    "    return info_arr\n",
    "\n",
    "\n",
    "def fastest_lap(laps):\n",
    "    drivers = pd.unique(laps[\"Driver\"])\n",
    "    counter = 1\n",
    "    for drv in drivers:\n",
    "        if counter == 1:\n",
    "            fastestlap = laps.pick_driver(drv).pick_fastest()\n",
    "            best_driver = laps.pick_driver(drv).pick_fastest()[\"Driver\"]\n",
    "        else:\n",
    "            try:\n",
    "                if laps.pick_driver(drv).pick_fastest()[\"LapTime\"] <= fastestlap[\"LapTime\"]:\n",
    "                    fastestlap = laps.pick_driver(drv).pick_fastest()\n",
    "                    best_driver = laps.pick_driver(drv).pick_fastest()[\"Driver\"]\n",
    "                else:\n",
    "                    pass\n",
    "            except:\n",
    "                pass\n",
    "        counter = counter + 1\n",
    "    return fastestlap\n",
    "\n",
    "\n",
    "def load_lap_telemetry(lap):\n",
    "    df = pd.DataFrame(lap.telemetry)\n",
    "    df = df[df[\"Source\"] == \"car\"].reset_index(drop=True)\n",
    "    df = df.drop('DistanceToDriverAhead', axis=1)\n",
    "    # print(df.columns)\n",
    "    # print(df.size)\n",
    "    # print(df)\n",
    "    info_dict = df.to_dict(orient='records')\n",
    "    return info_dict\n",
    "\n",
    "def load_lap_telemetry_and_add_driver(lap, driver):\n",
    "    df = pd.DataFrame(lap.telemetry)\n",
    "    df = df[df[\"Source\"] == \"car\"].reset_index(drop=True)\n",
    "    df = df.drop('DistanceToDriverAhead', axis=1)\n",
    "    df['Driver'] = driver\n",
    "    # print(df.columns)\n",
    "    info_dict = df.to_dict(orient='records')\n",
    "    return info_dict"
   ],
   "metadata": {
    "collapsed": false,
    "ExecuteTime": {
     "end_time": "2023-06-14T02:37:52.430691Z",
     "start_time": "2023-06-14T02:37:52.423472Z"
    }
   }
  },
  {
   "cell_type": "markdown",
   "source": [
    "##### 4. json infos"
   ],
   "metadata": {
    "collapsed": false
   }
  },
  {
   "cell_type": "code",
   "execution_count": 9,
   "outputs": [],
   "source": [
    "def fastest_laps_of_drivers_json(laps):\n",
    "    drivers = pd.unique(laps[\"Driver\"])\n",
    "    info_arr = []\n",
    "    info_dict = dict()\n",
    "    for drv in drivers:\n",
    "        fastest = laps.pick_driver(drv).pick_fastest()\n",
    "        info_arr.append(fastest.to_dict())\n",
    "        info_dict[fastest['DriverNumber']] = fastest.to_dict()\n",
    "    return json.dumps(info_dict, default=str)\n",
    "\n",
    "\n",
    "def fastest_lap_json(laps):\n",
    "    drivers = pd.unique(laps[\"Driver\"])\n",
    "    counter = 1\n",
    "    for drv in drivers:\n",
    "        if counter == 1:\n",
    "            fastestlap = laps.pick_driver(drv).pick_fastest()\n",
    "            best_driver = laps.pick_driver(drv).pick_fastest()[\"Driver\"]\n",
    "        else:\n",
    "            try:\n",
    "                if laps.pick_driver(drv).pick_fastest()[\"LapTime\"] <= fastestlap[\"LapTime\"]:\n",
    "                    fastestlap = laps.pick_driver(drv).pick_fastest()\n",
    "                    best_driver = laps.pick_driver(drv).pick_fastest()[\"Driver\"]\n",
    "                else:\n",
    "                    pass\n",
    "            except:\n",
    "                pass\n",
    "        counter = counter + 1\n",
    "    return json.dumps(fastestlap.to_dict(), default=str)\n",
    "\n",
    "\n",
    "def load_lap_telemetry_json(lap):\n",
    "    df = pd.DataFrame(lap.telemetry)\n",
    "    df = df[df[\"Source\"] == \"car\"].reset_index(drop=True)\n",
    "    df = df[\n",
    "        [\n",
    "            \"Date\",\n",
    "            \"RPM\",\n",
    "            \"Speed\",\n",
    "            \"nGear\",\n",
    "            \"Throttle\",\n",
    "            \"Brake\",\n",
    "            \"DRS\",\n",
    "            \"Distance\",\n",
    "            \"X\",\n",
    "            \"Y\",\n",
    "            \"Z\",\n",
    "        ]\n",
    "    ]\n",
    "    # print(df.columns)\n",
    "    # print(df.size)\n",
    "    # print(df)\n",
    "    info_str = df.to_json(orient='records')\n",
    "    return info_str"
   ],
   "metadata": {
    "collapsed": false,
    "ExecuteTime": {
     "end_time": "2023-06-14T02:15:28.237440Z",
     "start_time": "2023-06-14T02:15:28.221039Z"
    }
   }
  },
  {
   "cell_type": "markdown",
   "source": [
    "##### 5. track info json"
   ],
   "metadata": {
    "collapsed": false
   }
  },
  {
   "cell_type": "code",
   "execution_count": 10,
   "outputs": [],
   "source": [
    "def get_track_sample(laps):\n",
    "    lap = fastest_lap(laps)\n",
    "    return load_lap_telemetry_json(lap)"
   ],
   "metadata": {
    "collapsed": false,
    "ExecuteTime": {
     "end_time": "2023-06-14T02:15:29.810226Z",
     "start_time": "2023-06-14T02:15:29.807807Z"
    }
   }
  },
  {
   "cell_type": "code",
   "execution_count": 10,
   "outputs": [],
   "source": [
    "\n",
    "\n"
   ],
   "metadata": {
    "collapsed": false,
    "ExecuteTime": {
     "end_time": "2023-06-14T02:15:30.693664Z",
     "start_time": "2023-06-14T02:15:30.688606Z"
    }
   }
  },
  {
   "cell_type": "code",
   "execution_count": 11,
   "outputs": [],
   "source": [
    "def change_initial_position(df):\n",
    "    df[\"Index\"] = df.index\n",
    "    first_corner = df[df[\"str_cor\"] == 1].groupby([\"str_cor\"])[\"Index\"].min().sum()\n",
    "    df[\"Index\"] = np.where(\n",
    "        df[\"Index\"] < first_corner, df[\"Index\"] + df[\"Index\"].max(), df[\"Index\"]\n",
    "    )\n",
    "    df = df.sort_values(by=[\"Index\"]).reset_index(drop=True)\n",
    "    del df[\"Index\"]\n",
    "    return df\n",
    "\n",
    "\n",
    "def pick_fastest_driver(laps):\n",
    "    drivers = pd.unique(laps[\"Driver\"])\n",
    "    counter = 1\n",
    "    for drv in drivers:\n",
    "        if counter == 1:\n",
    "            fastestlap = laps.pick_driver(drv).pick_fastest()[\"LapTime\"]\n",
    "            best_driver = laps.pick_driver(drv).pick_fastest()[\"Driver\"]\n",
    "        else:\n",
    "            try:\n",
    "                if laps.pick_driver(drv).pick_fastest()[\"LapTime\"] <= fastestlap:\n",
    "                    fastestlap = laps.pick_driver(drv).pick_fastest()[\"LapTime\"]\n",
    "                    best_driver = laps.pick_driver(drv).pick_fastest()[\"Driver\"]\n",
    "                else:\n",
    "                    pass\n",
    "            except:\n",
    "                pass\n",
    "        counter = counter + 1\n",
    "    compound = laps.pick_driver(best_driver).pick_fastest()[\"Compound\"]\n",
    "    return fastestlap, best_driver, compound\n",
    "\n",
    "\n",
    "def flags_strcor_based_on_normal_speed(df):\n",
    "    df[\"normalizedspeed\"] = df[\"Speed\"].rolling(window=4, min_periods=1).mean()\n",
    "    df[\"str_cor\"] = np.where(\n",
    "        (df[\"normalizedspeed\"].shift(1) - df[\"normalizedspeed\"]) > 3, 1, 0\n",
    "    )\n",
    "    df[\"str_cor\"] = np.where(\n",
    "        (df[\"str_cor\"] == 1)\n",
    "        & (df[\"str_cor\"].shift(1) != 1)\n",
    "        & (df[\"str_cor\"].shift(-1) != 1),\n",
    "        0,\n",
    "        (df[\"str_cor\"]),\n",
    "    )\n",
    "    return df\n",
    "\n",
    "\n",
    "def order_data(df):\n",
    "    # Create Order of data\n",
    "    df[\"No\"] = df.index\n",
    "    return df\n",
    "\n",
    "\n",
    "def counter_strcor(df):\n",
    "    df[\"counter_straights\"] = np.nan\n",
    "    df[\"counter_corners\"] = np.nan\n",
    "    for index, rows in df.iterrows():\n",
    "        if df.loc[index, \"No\"] == 0:\n",
    "            if df.loc[index, \"str_cor\"] == 0:\n",
    "                df.at[index, \"counter_straights\"] = 1\n",
    "                df.at[index, \"counter_corners\"] = 0\n",
    "            elif df.loc[index, \"str_cor\"] == 1:\n",
    "                df.at[index, \"counter_straights\"] = 0\n",
    "                df.at[index, \"counter_corners\"] = 1\n",
    "        elif df.loc[index, \"str_cor\"] == previous_str_cor:\n",
    "            df.at[index, \"counter_straights\"] = previous_counter_straights\n",
    "            df.at[index, \"counter_corners\"] = previous_counter_corners\n",
    "        elif df.loc[index, \"str_cor\"] == 1:\n",
    "            df.at[index, \"counter_straights\"] = previous_counter_straights\n",
    "            df.at[index, \"counter_corners\"] = previous_counter_corners + 1\n",
    "        elif df.loc[index, \"str_cor\"] == 0:\n",
    "            df.at[index, \"counter_straights\"] = previous_counter_straights + 1\n",
    "            df.at[index, \"counter_corners\"] = previous_counter_corners\n",
    "        previous_str_cor = df.loc[index, \"str_cor\"]\n",
    "        previous_counter_straights = df.loc[index, \"counter_straights\"]\n",
    "        previous_counter_corners = df.loc[index, \"counter_corners\"]\n",
    "    return df\n",
    "\n",
    "\n",
    "def corner_counter_speeds(df):\n",
    "    corner_analysis = (\n",
    "        df.groupby(\"counter_corners\")\n",
    "        .min(\"Speed\")\n",
    "        .reset_index()[[\"counter_corners\", \"Speed\"]]\n",
    "    )\n",
    "\n",
    "    corner_analysis[\"grp_corner\"] = np.where(\n",
    "        corner_analysis[\"Speed\"] <= 50,\n",
    "        \"50\",\n",
    "        np.where(\n",
    "            corner_analysis[\"Speed\"] <= 100,\n",
    "            \"100\",\n",
    "            np.where(\n",
    "                corner_analysis[\"Speed\"] <= 150,\n",
    "                \"150\",\n",
    "                np.where(\n",
    "                    corner_analysis[\"Speed\"] <= 200,\n",
    "                    \"200\",\n",
    "                    np.where(\n",
    "                        corner_analysis[\"Speed\"] <= 250,\n",
    "                        \"250\",\n",
    "                        np.where(\n",
    "                            corner_analysis[\"Speed\"] <= 300,\n",
    "                            \"300\",\n",
    "                            np.where(corner_analysis[\"Speed\"] <= 350, 350, \"error\"),\n",
    "                        ),\n",
    "                    ),\n",
    "                ),\n",
    "            ),\n",
    "        ),\n",
    "    )\n",
    "\n",
    "    corner_analysis = pd.pivot_table(\n",
    "        corner_analysis, columns=\"grp_corner\", values=\"counter_corners\", aggfunc=\"count\"\n",
    "    ).reset_index()\n",
    "    corner_analysis = corner_analysis[[x for x in corner_analysis.columns if \"0\" in x]]\n",
    "\n",
    "    corner_analysis_columns = [\"cor_\" + x for x in corner_analysis.columns if \"0\" in x]\n",
    "    corner_analysis.columns = corner_analysis_columns\n",
    "    return corner_analysis\n",
    "\n",
    "\n",
    "def straight_counter_speeds(df):\n",
    "    temp_df = (\n",
    "        df.groupby(\"counter_straights\")\n",
    "        .max(\"Speed\")\n",
    "        .reset_index()[[\"counter_straights\", \"Speed\"]]\n",
    "    )\n",
    "\n",
    "    temp_df[\"grp_straights\"] = np.where(\n",
    "        temp_df[\"Speed\"] <= 50,\n",
    "        \"50\",\n",
    "        np.where(\n",
    "            temp_df[\"Speed\"] <= 100,\n",
    "            \"100\",\n",
    "            np.where(\n",
    "                temp_df[\"Speed\"] <= 150,\n",
    "                \"150\",\n",
    "                np.where(\n",
    "                    temp_df[\"Speed\"] <= 200,\n",
    "                    \"200\",\n",
    "                    np.where(\n",
    "                        temp_df[\"Speed\"] <= 250,\n",
    "                        \"250\",\n",
    "                        np.where(\n",
    "                            temp_df[\"Speed\"] <= 300,\n",
    "                            \"300\",\n",
    "                            np.where(temp_df[\"Speed\"] <= 350, 350, \"error\"),\n",
    "                        ),\n",
    "                    ),\n",
    "                ),\n",
    "            ),\n",
    "        ),\n",
    "    )\n",
    "\n",
    "    temp_df = pd.pivot_table(\n",
    "        temp_df, columns=\"grp_straights\", values=\"counter_straights\", aggfunc=\"count\"\n",
    "    ).reset_index()\n",
    "    temp_df = temp_df[[x for x in temp_df.columns if \"0\" in x]]\n",
    "\n",
    "    temp_df_columns = [\"str_\" + x for x in temp_df.columns if \"0\" in x]\n",
    "    temp_df.columns = temp_df_columns\n",
    "    return temp_df\n",
    "\n",
    "\n",
    "def dataframe_creation(laps, best_driver):\n",
    "    df = load_best_lap(laps, best_driver)\n",
    "    df = flags_strcor_based_on_normal_speed(df)\n",
    "    df = change_initial_position(df)\n",
    "    df = order_data(df)\n",
    "    df = counter_strcor(df)\n",
    "    return df\n",
    "\n",
    "\n",
    "def retreive_kpis(session, fastestlap, df):\n",
    "    temporary_df = pd.DataFrame()\n",
    "    df[\"_Full_Throttle\"] = np.where(df[\"Throttle\"] >= 95, 1, 0)\n",
    "    distance = df.Distance.max()\n",
    "    avg_speed = distance / 1000 / float(fastestlap / np.timedelta64(1, \"h\"))\n",
    "    max_speed = df.Speed.max()\n",
    "    perc_full_throttle = df[\"_Full_Throttle\"].sum() / df[\"_Full_Throttle\"].count()\n",
    "    df_corners = corner_counter_speeds(df)\n",
    "    df_straights = straight_counter_speeds(df)\n",
    "    temporary_df = pd.concat([temporary_df, df_corners, df_straights], axis=1)\n",
    "    temporary_df[\"perc_full_throttle\"] = perc_full_throttle\n",
    "    temporary_df[\"distance\"] = distance\n",
    "    temporary_df[\"max_speed\"] = max_speed\n",
    "    temporary_df[\"avg_speed\"] = avg_speed\n",
    "    temporary_df[\"grandprix\"] = session.weekend.name\n",
    "    return temporary_df"
   ],
   "metadata": {
    "collapsed": false,
    "ExecuteTime": {
     "end_time": "2023-06-14T02:15:31.784489Z",
     "start_time": "2023-06-14T02:15:31.778291Z"
    }
   }
  },
  {
   "cell_type": "markdown",
   "source": [
    "### Devs"
   ],
   "metadata": {
    "collapsed": false
   }
  },
  {
   "cell_type": "code",
   "execution_count": null,
   "outputs": [],
   "source": [
    "# testcase predefine\n",
    "qs = fastf1.get_session(2021, 1, \"Q\")\n",
    "laps = qs.load_laps(with_telemetry=True)\n",
    "drivers = qs.drivers\n",
    "r_qs = fastf1.get_session(2021, 1, \"R\")\n",
    "r_qs.load()\n",
    "r_laps = r_qs.laps\n",
    "r_drivers = r_qs.drivers\n",
    "print(r_drivers)"
   ],
   "metadata": {
    "collapsed": false
   }
  },
  {
   "cell_type": "code",
   "execution_count": null,
   "outputs": [],
   "source": [
    "# grand prix standing changes\n",
    "target = '/Users/blank/repo/Pitlane/frontend/src/data/sample_standing.json'\n",
    "df_total = pd.DataFrame()\n",
    "for drv in r_drivers:\n",
    "    drv_laps = r_laps.pick_driver(drv)\n",
    "    df = pd.DataFrame(drv_laps)\n",
    "    print(drv_laps.keys())\n",
    "    # print(drv_laps['Position'])\n",
    "    df_total = pd.concat([df, df_total], axis=0)\n",
    "df_total['LapFinishTime'] = df_total.apply(lambda row: row['LapTime'] + row['LapStartTime'], axis=1)\n",
    "df_total['Position'] = df_total.groupby('LapNumber')['LapFinishTime'].rank(ascending=False)\n",
    "export_to_file(df_total.to_json(orient='records'), target)\n"
   ],
   "metadata": {
    "collapsed": false
   }
  },
  {
   "cell_type": "code",
   "execution_count": null,
   "outputs": [],
   "source": [
    "# track information\n",
    "target = '/Users/blank/repo/Pitlane/frontend/src/data/sample_track.json'\n",
    "content = get_track_sample(laps)\n",
    "print(content)\n",
    "export_to_file(content, target)"
   ],
   "metadata": {
    "collapsed": false
   }
  },
  {
   "cell_type": "code",
   "execution_count": 177,
   "outputs": [],
   "source": [
    "# maxima table data\n",
    "target = '/Users/blank/repo/Pitlane/frontend/src/data/sample_maxima.json'\n",
    "drivers = pd.unique(laps[\"Driver\"])\n",
    "dict_with_laps_partition = dict()\n",
    "maxima_number = 0\n",
    "for drv in drivers:\n",
    "    fastest = laps.pick_driver(drv).pick_fastest()\n",
    "    temp_dict = partition_lap_telemetry_max(fastest)\n",
    "    maxima_number = len(temp_dict)\n",
    "    dict_with_laps_partition[drv] = temp_dict\n",
    "\n",
    "class MaximaInfo:\n",
    "    def __init__(self, Driver, Speed, RPM, Distance):\n",
    "        self.Driver = Driver\n",
    "        self.Speed = Speed\n",
    "        self.RPM = RPM\n",
    "        self.Distance = Distance\n",
    "\n",
    "    def to_json(self):\n",
    "        return {\n",
    "            \"Driver\": self.Driver,\n",
    "            \"Speed\": self.Speed,\n",
    "            \"RPM\": self.RPM,\n",
    "            \"Distance\": self.Distance,\n",
    "            \"uuid\": str(uuid.uuid4())\n",
    "        }\n",
    "\n",
    "def custom_serializer(obj):\n",
    "    if isinstance(obj, MaximaInfo):\n",
    "        # 返回类对象的可序列化表示\n",
    "        return obj.to_json()\n",
    "\n",
    "result_str = '['\n",
    "for i in range(1, maxima_number + 1): # 第 i 个 maxima point\n",
    "    key_list = list(dict_with_laps_partition.keys())\n",
    "    dict_length = len(dict_with_laps_partition)\n",
    "    result_arr = []\n",
    "    for j in range(dict_length): # 第 j 个 driver\n",
    "        temp_key = key_list[j]\n",
    "        # print(temp_key)\n",
    "        # print(dict_with_laps_partition[temp_key])\n",
    "        temp_maxima_obj = MaximaInfo(temp_key, dict_with_laps_partition[temp_key][i]['Speed'],\n",
    "                                dict_with_laps_partition[temp_key][i]['RPM'], dict_with_laps_partition[temp_key][i]['Distance'])\n",
    "        result_arr.append(temp_maxima_obj)\n",
    "        # print(temp_maxima_obj.to_json())\n",
    "    content = json.dumps(result_arr, default=custom_serializer)\n",
    "    if i == maxima_number:\n",
    "        result_str = result_str + \"]\"\n",
    "    else:\n",
    "        result_str = result_str + content + \",\"\n",
    "\n",
    "export_to_file(result_str, target)"
   ],
   "metadata": {
    "collapsed": false,
    "ExecuteTime": {
     "end_time": "2023-06-14T01:34:22.852067Z",
     "start_time": "2023-06-14T01:34:18.396212Z"
    }
   }
  },
  {
   "cell_type": "code",
   "execution_count": null,
   "outputs": [],
   "source": [
    "# minima table data\n"
   ],
   "metadata": {
    "collapsed": false
   }
  },
  {
   "cell_type": "code",
   "execution_count": 108,
   "outputs": [
    {
     "name": "stdout",
     "output_type": "stream",
     "text": [
      "['VER' 'HAM' 'BOT' 'LEC' 'GAS' 'RIC' 'NOR' 'SAI' 'ALO' 'STR' 'PER' 'GIO'\n",
      " 'TSU' 'RAI' 'RUS' 'OCO' 'LAT' 'VET' 'MSC' 'MAZ']\n",
      "<class 'fastf1.core.Laps'>\n"
     ]
    }
   ],
   "source": [
    "# qualify result\n",
    "target = '/Users/blank/repo/Pitlane/frontend/src/data/sample_result.json'\n",
    "drivers = pd.unique(laps['Driver'])\n",
    "print(drivers)\n",
    "result_arr = []\n",
    "fastest_laps = list()\n",
    "for drv in drivers:\n",
    "    fastest_lap = laps.pick_driver(drv).pick_fastest()\n",
    "    fastest_laps.append(fastest_lap)\n",
    "fastest_laps = Laps(fastest_laps).sort_values(by='LapTime').reset_index(drop=True)\n",
    "pole_lap = fastest_laps.pick_fastest()\n",
    "fastest_laps['LapTimeDelta'] = fastest_laps['LapTime'] - pole_lap['LapTime']\n",
    "print(type(fastest_laps))\n",
    "result = fastest_laps.to_json(orient='records')\n",
    "export_to_file(result, target)\n"
   ],
   "metadata": {
    "collapsed": false,
    "ExecuteTime": {
     "end_time": "2023-06-15T14:58:43.521508Z",
     "start_time": "2023-06-15T14:58:43.516826Z"
    }
   }
  },
  {
   "cell_type": "code",
   "execution_count": null,
   "outputs": [],
   "source": [
    "# qualify laps telemetry\n",
    "target = '/Users/blank/repo/Pitlane/frontend/src/data/sample_qualify.json'\n",
    "drivers = pd.unique(laps[\"Driver\"])\n",
    "result_dict = dict()\n",
    "result_arr = []\n",
    "for drv in drivers:\n",
    "    # print(drv)\n",
    "    driver_fastest = laps.pick_driver(drv).pick_fastest()\n",
    "    info_dict = load_lap_telemetry_and_add_driver(driver_fastest, drv)\n",
    "    result_arr.append(info_dict)\n",
    "export_to_file(json.dumps(result_arr, default=str), target)"
   ],
   "metadata": {
    "collapsed": false
   }
  },
  {
   "cell_type": "code",
   "execution_count": 83,
   "outputs": [],
   "source": [
    "# grand prix laps telemetry\n",
    "target = '/Users/blank/repo/Pitlane/frontend/src/data/sample_distribution.json'\n",
    "result_arr = []\n",
    "total_laps_num = 0\n",
    "for drv in r_drivers:\n",
    "    driver_laps = r_laps.pick_drivers(drv).pick_quicklaps()\n",
    "    total_laps_num += len(driver_laps)\n",
    "avg_laps_num = total_laps_num / 20\n",
    "\n",
    "driver_laps = r_laps.pick_drivers(r_drivers).pick_quicklaps()\n",
    "df_total = pd.DataFrame(driver_laps)\n",
    "export_to_file(df_total.to_json(orient='records'), target)\n",
    "\n",
    "# for drv in r_drivers:\n",
    "#     driver_laps = r_laps.pick_drivers(drv).pick_quicklaps()\n",
    "#     print(f'{drv} + \" \" + {len(driver_laps)}')\n",
    "#     if len(driver_laps) == 0 or len(driver_laps) > 2 * avg_laps_num:\n",
    "#         continue\n",
    "#     # print(type(driver_laps))\n",
    "#     # print(driver_laps.to_dict())\n",
    "#     df = pd.DataFrame(driver_laps)\n",
    "#     print(df.head())\n",
    "#     df_total = pd.concat([df, df_total], axis=0)\n",
    "#     # result_arr.append(driver_laps.to_dict())\n",
    "# export_to_file(df_total.to_json(orient='records'), target)"
   ],
   "metadata": {
    "collapsed": false,
    "ExecuteTime": {
     "end_time": "2023-06-14T20:33:08.156691Z",
     "start_time": "2023-06-14T20:33:08.102245Z"
    }
   }
  },
  {
   "cell_type": "markdown",
   "source": [],
   "metadata": {
    "collapsed": false
   }
  },
  {
   "cell_type": "markdown",
   "source": [],
   "metadata": {
    "collapsed": false
   }
  },
  {
   "cell_type": "markdown",
   "source": [
    "### Test"
   ],
   "metadata": {
    "collapsed": false
   }
  },
  {
   "cell_type": "code",
   "execution_count": null,
   "outputs": [],
   "source": [
    "# testcase predefine\n",
    "qs = fastf1.get_session(2021, 5, \"Q\")\n",
    "laps = qs.load_laps(with_telemetry=True)"
   ],
   "metadata": {
    "collapsed": false
   }
  },
  {
   "cell_type": "markdown",
   "source": [
    "##### test telemetry partition"
   ],
   "metadata": {
    "collapsed": false
   }
  },
  {
   "cell_type": "code",
   "execution_count": 179,
   "outputs": [
    {
     "name": "stdout",
     "output_type": "stream",
     "text": [
      "297\n",
      "[{'Date': Timestamp('2021-03-27 15:59:07.635000'), 'SessionTime': Timedelta('0 days 01:14:07.250000'), 'DriverAhead': '', 'DistanceToDriverAhead': 451.0469444444444, 'Time': Timedelta('0 days 00:00:00.169000'), 'RPM': 10549, 'Speed': 297, 'nGear': 8, 'Throttle': 100, 'Brake': False, 'DRS': 12, 'Source': 'car', 'Distance': 14.035000000000002, 'RelativeDistance': 0.002592432964935505, 'Status': 'OnTrack', 'X': -376, 'Y': 1338, 'Z': -159}, {'Date': Timestamp('2021-03-27 15:59:07.875000'), 'SessionTime': Timedelta('0 days 01:14:07.490000'), 'DriverAhead': '10', 'DistanceToDriverAhead': 451.0469444444444, 'Time': Timedelta('0 days 00:00:00.409000'), 'RPM': 10721, 'Speed': 298, 'nGear': 8, 'Throttle': 100, 'Brake': False, 'DRS': 12, 'Source': 'car', 'Distance': 33.901666666666664, 'RelativeDistance': 0.0062620447618754425, 'Status': 'OnTrack', 'X': -367, 'Y': 1536, 'Z': -158}, {'Date': Timestamp('2021-03-27 15:59:08.115000'), 'SessionTime': Timedelta('0 days 01:14:07.730000'), 'DriverAhead': '10', 'DistanceToDriverAhead': 452.24694444444447, 'Time': Timedelta('0 days 00:00:00.649000'), 'RPM': 10869, 'Speed': 300, 'nGear': 8, 'Throttle': 100, 'Brake': False, 'DRS': 12, 'Source': 'car', 'Distance': 53.90166666666667, 'RelativeDistance': 0.009956284825908938, 'Status': 'OnTrack', 'X': -358, 'Y': 1735, 'Z': -158}, {'Date': Timestamp('2021-03-27 15:59:08.355000'), 'SessionTime': Timedelta('0 days 01:14:07.970000'), 'DriverAhead': '10', 'DistanceToDriverAhead': 453.18027777777786, 'Time': Timedelta('0 days 00:00:00.889000'), 'RPM': 10904, 'Speed': 302, 'nGear': 8, 'Throttle': 100, 'Brake': False, 'DRS': 12, 'Source': 'car', 'Distance': 74.035, 'RelativeDistance': 0.013675153157035989, 'Status': 'OnTrack', 'X': -349, 'Y': 1935, 'Z': -159}, {'Date': Timestamp('2021-03-27 15:59:08.595000'), 'SessionTime': Timedelta('0 days 01:14:08.210000'), 'DriverAhead': '10', 'DistanceToDriverAhead': 454.0469444444445, 'Time': Timedelta('0 days 00:00:01.129000'), 'RPM': 10943, 'Speed': 303, 'nGear': 8, 'Throttle': 100, 'Brake': False, 'DRS': 12, 'Source': 'car', 'Distance': 94.235, 'RelativeDistance': 0.017406335621709818, 'Status': 'OnTrack', 'X': -341, 'Y': 2137, 'Z': -159}, {'Date': Timestamp('2021-03-27 15:59:08.835000'), 'SessionTime': Timedelta('0 days 01:14:08.450000'), 'DriverAhead': '10', 'DistanceToDriverAhead': 454.8469444444445, 'Time': Timedelta('0 days 00:00:01.369000'), 'RPM': 10975, 'Speed': 305, 'nGear': 8, 'Throttle': 100, 'Brake': False, 'DRS': 12, 'Source': 'car', 'Distance': 114.56833333333333, 'RelativeDistance': 0.021162146353477202, 'Status': 'OnTrack', 'X': -333, 'Y': 2340, 'Z': -158}, {'Date': Timestamp('2021-03-27 15:59:09.076000'), 'SessionTime': Timedelta('0 days 01:14:08.691000'), 'DriverAhead': '10', 'DistanceToDriverAhead': 455.58333333333337, 'Time': Timedelta('0 days 00:00:01.610000'), 'RPM': 10976, 'Speed': 306, 'nGear': 8, 'Throttle': 100, 'Brake': False, 'DRS': 12, 'Source': 'car', 'Distance': 135.05333333333334, 'RelativeDistance': 0.024945971739063513, 'Status': 'OnTrack', 'X': -324, 'Y': 2545, 'Z': -158}, {'Date': Timestamp('2021-03-27 15:59:09.315000'), 'SessionTime': Timedelta('0 days 01:14:08.930000'), 'DriverAhead': '10', 'DistanceToDriverAhead': 456.24722222222215, 'Time': Timedelta('0 days 00:00:01.849000'), 'RPM': 11015, 'Speed': 306, 'nGear': 8, 'Throttle': 100, 'Brake': False, 'DRS': 12, 'Source': 'car', 'Distance': 155.36833333333334, 'RelativeDistance': 0.028698396084105536, 'Status': 'OnTrack', 'X': -315, 'Y': 2748, 'Z': -158}, {'Date': Timestamp('2021-03-27 15:59:09.555000'), 'SessionTime': Timedelta('0 days 01:14:09.170000'), 'DriverAhead': '10', 'DistanceToDriverAhead': 453.1138888888888, 'Time': Timedelta('0 days 00:00:02.089000'), 'RPM': 11074, 'Speed': 308, 'nGear': 8, 'Throttle': 100, 'Brake': False, 'DRS': 12, 'Source': 'car', 'Distance': 175.90166666666667, 'RelativeDistance': 0.032491149216513256, 'Status': 'OnTrack', 'X': -305, 'Y': 2953, 'Z': -158}, {'Date': Timestamp('2021-03-27 15:59:09.795000'), 'SessionTime': Timedelta('0 days 01:14:09.410000'), 'DriverAhead': '10', 'DistanceToDriverAhead': 448.8472222222222, 'Time': Timedelta('0 days 00:00:02.329000'), 'RPM': 11132, 'Speed': 309, 'nGear': 8, 'Throttle': 100, 'Brake': False, 'DRS': 12, 'Source': 'car', 'Distance': 196.5016666666667, 'RelativeDistance': 0.03629621648246776, 'Status': 'OnTrack', 'X': -296, 'Y': 3151, 'Z': -158}, {'Date': Timestamp('2021-03-27 15:59:10.035000'), 'SessionTime': Timedelta('0 days 01:14:09.650000'), 'DriverAhead': '10', 'DistanceToDriverAhead': 441.5805555555555, 'Time': Timedelta('0 days 00:00:02.569000'), 'RPM': 11126, 'Speed': 310, 'nGear': 8, 'Throttle': 100, 'Brake': False, 'DRS': 12, 'Source': 'car', 'Distance': 217.16833333333335, 'RelativeDistance': 0.04011359788196903, 'Status': 'OnTrack', 'X': -286, 'Y': 3356, 'Z': -158}, {'Date': Timestamp('2021-03-27 15:59:10.275000'), 'SessionTime': Timedelta('0 days 01:14:09.890000'), 'DriverAhead': '10', 'DistanceToDriverAhead': 432.5138888888888, 'Time': Timedelta('0 days 00:00:02.809000'), 'RPM': 11155, 'Speed': 310, 'nGear': 8, 'Throttle': 100, 'Brake': False, 'DRS': 12, 'Source': 'car', 'Distance': 237.83500000000004, 'RelativeDistance': 0.043930979281470314, 'Status': 'OnTrack', 'X': -279, 'Y': 3563, 'Z': -158}, {'Date': Timestamp('2021-03-27 15:59:10.515000'), 'SessionTime': Timedelta('0 days 01:14:10.130000'), 'DriverAhead': '10', 'DistanceToDriverAhead': 421.3138888888888, 'Time': Timedelta('0 days 00:00:03.049000'), 'RPM': 11100, 'Speed': 311, 'nGear': 8, 'Throttle': 100, 'Brake': False, 'DRS': 12, 'Source': 'car', 'Distance': 258.5683333333333, 'RelativeDistance': 0.047760674814518365, 'Status': 'OnTrack', 'X': -270, 'Y': 3770, 'Z': -157}, {'Date': Timestamp('2021-03-27 15:59:10.755000'), 'SessionTime': Timedelta('0 days 01:14:10.370000'), 'DriverAhead': '10', 'DistanceToDriverAhead': 408.9138888888888, 'Time': Timedelta('0 days 00:00:03.289000'), 'RPM': 11112, 'Speed': 312, 'nGear': 8, 'Throttle': 100, 'Brake': False, 'DRS': 12, 'Source': 'car', 'Distance': 279.36833333333334, 'RelativeDistance': 0.0516026844811132, 'Status': 'OnTrack', 'X': -263, 'Y': 3978, 'Z': -158}, {'Date': Timestamp('2021-03-27 15:59:10.995000'), 'SessionTime': Timedelta('0 days 01:14:10.610000'), 'DriverAhead': '10', 'DistanceToDriverAhead': 395.51388888888886, 'Time': Timedelta('0 days 00:00:03.529000'), 'RPM': 11180, 'Speed': 311, 'nGear': 8, 'Throttle': 100, 'Brake': False, 'DRS': 12, 'Source': 'car', 'Distance': 300.10166666666663, 'RelativeDistance': 0.05543238001416125, 'Status': 'OnTrack', 'X': -255, 'Y': 4185, 'Z': -157}, {'Date': Timestamp('2021-03-27 15:59:11.235000'), 'SessionTime': Timedelta('0 days 01:14:10.850000'), 'DriverAhead': '10', 'DistanceToDriverAhead': 381.4472222222222, 'Time': Timedelta('0 days 00:00:03.769000'), 'RPM': 11196, 'Speed': 312, 'nGear': 8, 'Throttle': 100, 'Brake': False, 'DRS': 12, 'Source': 'car', 'Distance': 320.90166666666664, 'RelativeDistance': 0.05927438968075609, 'Status': 'OnTrack', 'X': -248, 'Y': 4393, 'Z': -157}, {'Date': Timestamp('2021-03-27 15:59:11.475000'), 'SessionTime': Timedelta('0 days 01:14:11.090000'), 'DriverAhead': '10', 'DistanceToDriverAhead': 367.38055555555553, 'Time': Timedelta('0 days 00:00:04.009000'), 'RPM': 11214, 'Speed': 312, 'nGear': 8, 'Throttle': 100, 'Brake': False, 'DRS': 12, 'Source': 'car', 'Distance': 341.70166666666665, 'RelativeDistance': 0.06311639934735093, 'Status': 'OnTrack', 'X': -241, 'Y': 4601, 'Z': -158}, {'Date': Timestamp('2021-03-27 15:59:11.715000'), 'SessionTime': Timedelta('0 days 01:14:11.330000'), 'DriverAhead': '10', 'DistanceToDriverAhead': 352.31388888888887, 'Time': Timedelta('0 days 00:00:04.249000'), 'RPM': 11222, 'Speed': 313, 'nGear': 8, 'Throttle': 100, 'Brake': False, 'DRS': 12, 'Source': 'car', 'Distance': 362.56833333333327, 'RelativeDistance': 0.06697072314749253, 'Status': 'OnTrack', 'X': -233, 'Y': 4808, 'Z': -157}, {'Date': Timestamp('2021-03-27 15:59:11.955000'), 'SessionTime': Timedelta('0 days 01:14:11.570000'), 'DriverAhead': '10', 'DistanceToDriverAhead': 337.04722222222216, 'Time': Timedelta('0 days 00:00:04.489000'), 'RPM': 11231, 'Speed': 312, 'nGear': 8, 'Throttle': 100, 'Brake': False, 'DRS': 12, 'Source': 'car', 'Distance': 383.3683333333333, 'RelativeDistance': 0.07081273281408737, 'Status': 'OnTrack', 'X': -226, 'Y': 5019, 'Z': -156}, {'Date': Timestamp('2021-03-27 15:59:12.195000'), 'SessionTime': Timedelta('0 days 01:14:11.810000'), 'DriverAhead': '10', 'DistanceToDriverAhead': 321.7138888888888, 'Time': Timedelta('0 days 00:00:04.729000'), 'RPM': 11218, 'Speed': 313, 'nGear': 8, 'Throttle': 100, 'Brake': False, 'DRS': 12, 'Source': 'car', 'Distance': 404.23499999999996, 'RelativeDistance': 0.07466705661422898, 'Status': 'OnTrack', 'X': -221, 'Y': 5197, 'Z': -155}, {'Date': Timestamp('2021-03-27 15:59:12.435000'), 'SessionTime': Timedelta('0 days 01:14:12.050000'), 'DriverAhead': '10', 'DistanceToDriverAhead': 305.8472222222221, 'Time': Timedelta('0 days 00:00:04.969000'), 'RPM': 11259, 'Speed': 313, 'nGear': 8, 'Throttle': 100, 'Brake': False, 'DRS': 12, 'Source': 'car', 'Distance': 425.10166666666663, 'RelativeDistance': 0.0785213804143706, 'Status': 'OnTrack', 'X': -213, 'Y': 5405, 'Z': -152}, {'Date': Timestamp('2021-03-27 15:59:12.675000'), 'SessionTime': Timedelta('0 days 01:14:12.290000'), 'DriverAhead': '10', 'DistanceToDriverAhead': 289.9805555555555, 'Time': Timedelta('0 days 00:00:05.209000'), 'RPM': 11218, 'Speed': 313, 'nGear': 8, 'Throttle': 100, 'Brake': False, 'DRS': 12, 'Source': 'car', 'Distance': 445.96833333333325, 'RelativeDistance': 0.0823757042145122, 'Status': 'OnTrack', 'X': -207, 'Y': 5613, 'Z': -151}, {'Date': Timestamp('2021-03-27 15:59:12.915000'), 'SessionTime': Timedelta('0 days 01:14:12.530000'), 'DriverAhead': '10', 'DistanceToDriverAhead': 273.8472222222222, 'Time': Timedelta('0 days 00:00:05.449000'), 'RPM': 11224, 'Speed': 313, 'nGear': 8, 'Throttle': 100, 'Brake': False, 'DRS': 12, 'Source': 'car', 'Distance': 466.8349999999999, 'RelativeDistance': 0.0862300280146538, 'Status': 'OnTrack', 'X': -200, 'Y': 5822, 'Z': -149}, {'Date': Timestamp('2021-03-27 15:59:13.155000'), 'SessionTime': Timedelta('0 days 01:14:12.770000'), 'DriverAhead': '10', 'DistanceToDriverAhead': 257.9805555555555, 'Time': Timedelta('0 days 00:00:05.689000'), 'RPM': 11232, 'Speed': 315, 'nGear': 8, 'Throttle': 100, 'Brake': False, 'DRS': 12, 'Source': 'car', 'Distance': 487.8349999999999, 'RelativeDistance': 0.09010898008188897, 'Status': 'OnTrack', 'X': -192, 'Y': 6031, 'Z': -147}, {'Date': Timestamp('2021-03-27 15:59:13.395000'), 'SessionTime': Timedelta('0 days 01:14:13.010000'), 'DriverAhead': '10', 'DistanceToDriverAhead': 242.5138888888888, 'Time': Timedelta('0 days 00:00:05.929000'), 'RPM': 11232, 'Speed': 313, 'nGear': 8, 'Throttle': 100, 'Brake': False, 'DRS': 12, 'Source': 'car', 'Distance': 508.7016666666666, 'RelativeDistance': 0.0939633038820306, 'Status': 'OnTrack', 'X': -186, 'Y': 6241, 'Z': -145}, {'Date': Timestamp('2021-03-27 15:59:13.635000'), 'SessionTime': Timedelta('0 days 01:14:13.250000'), 'DriverAhead': '10', 'DistanceToDriverAhead': 227.38055555555547, 'Time': Timedelta('0 days 00:00:06.169000'), 'RPM': 11326, 'Speed': 314, 'nGear': 8, 'Throttle': 100, 'Brake': False, 'DRS': 12, 'Source': 'car', 'Distance': 529.6349999999999, 'RelativeDistance': 0.09782994181571897, 'Status': 'OnTrack', 'X': -181, 'Y': 6450, 'Z': -142}, {'Date': Timestamp('2021-03-27 15:59:13.875000'), 'SessionTime': Timedelta('0 days 01:14:13.490000'), 'DriverAhead': '10', 'DistanceToDriverAhead': 213.0472222222221, 'Time': Timedelta('0 days 00:00:06.409000'), 'RPM': 11313, 'Speed': 313, 'nGear': 8, 'Throttle': 100, 'Brake': False, 'DRS': 12, 'Source': 'car', 'Distance': 550.5016666666666, 'RelativeDistance': 0.1016842656158606, 'Status': 'OnTrack', 'X': -175, 'Y': 6659, 'Z': -141}, {'Date': Timestamp('2021-03-27 15:59:14.115000'), 'SessionTime': Timedelta('0 days 01:14:13.730000'), 'DriverAhead': '10', 'DistanceToDriverAhead': 199.24722222222204, 'Time': Timedelta('0 days 00:00:06.649000'), 'RPM': 11291, 'Speed': 314, 'nGear': 8, 'Throttle': 100, 'Brake': False, 'DRS': 12, 'Source': 'car', 'Distance': 571.435, 'RelativeDistance': 0.10555090354954899, 'Status': 'OnTrack', 'X': -170, 'Y': 6868, 'Z': -139}, {'Date': Timestamp('2021-03-27 15:59:14.355000'), 'SessionTime': Timedelta('0 days 01:14:13.970000'), 'DriverAhead': '10', 'DistanceToDriverAhead': 186.71388888888862, 'Time': Timedelta('0 days 00:00:06.889000'), 'RPM': 11189, 'Speed': 312, 'nGear': 8, 'Throttle': 100, 'Brake': False, 'DRS': 12, 'Source': 'car', 'Distance': 592.235, 'RelativeDistance': 0.10939291321614383, 'Status': 'OnTrack', 'X': -165, 'Y': 7077, 'Z': -137}, {'Date': Timestamp('2021-03-27 15:59:14.595000'), 'SessionTime': Timedelta('0 days 01:14:14.210000'), 'DriverAhead': '10', 'DistanceToDriverAhead': 174.78055555555534, 'Time': Timedelta('0 days 00:00:07.129000'), 'RPM': 11102, 'Speed': 312, 'nGear': 8, 'Throttle': 60, 'Brake': True, 'DRS': 12, 'Source': 'car', 'Distance': 613.035, 'RelativeDistance': 0.11323492288273866, 'Status': 'OnTrack', 'X': -158, 'Y': 7285, 'Z': -136}, {'Date': Timestamp('2021-03-27 15:59:14.835000'), 'SessionTime': Timedelta('0 days 01:14:14.450000'), 'DriverAhead': '10', 'DistanceToDriverAhead': 166.647222222222, 'Time': Timedelta('0 days 00:00:07.369000'), 'RPM': 9846, 'Speed': 270, 'nGear': 8, 'Throttle': 0, 'Brake': True, 'DRS': 8, 'Source': 'car', 'Distance': 631.035, 'RelativeDistance': 0.1165597389403688, 'Status': 'OnTrack', 'X': -151, 'Y': 7479, 'Z': -134}, {'Date': Timestamp('2021-03-27 15:59:15.075000'), 'SessionTime': Timedelta('0 days 01:14:14.690000'), 'DriverAhead': '10', 'DistanceToDriverAhead': 161.1138888888887, 'Time': Timedelta('0 days 00:00:07.609000'), 'RPM': 9661, 'Speed': 235, 'nGear': 8, 'Throttle': 0, 'Brake': True, 'DRS': 8, 'Source': 'car', 'Distance': 646.7016666666666, 'RelativeDistance': 0.1194535603238617, 'Status': 'OnTrack', 'X': -144, 'Y': 7648, 'Z': -132}, {'Date': Timestamp('2021-03-27 15:59:15.315000'), 'SessionTime': Timedelta('0 days 01:14:14.930000'), 'DriverAhead': '10', 'DistanceToDriverAhead': 158.047222222222, 'Time': Timedelta('0 days 00:00:07.849000'), 'RPM': 10372, 'Speed': 206, 'nGear': 8, 'Throttle': 0, 'Brake': True, 'DRS': 8, 'Source': 'car', 'Distance': 660.435, 'RelativeDistance': 0.12199027183449804, 'Status': 'OnTrack', 'X': -137, 'Y': 7791, 'Z': -131}, {'Date': Timestamp('2021-03-27 15:59:15.555000'), 'SessionTime': Timedelta('0 days 01:14:15.170000'), 'DriverAhead': '10', 'DistanceToDriverAhead': 157.6472222222219, 'Time': Timedelta('0 days 00:00:08.089000'), 'RPM': 10092, 'Speed': 179, 'nGear': 8, 'Throttle': 0, 'Brake': True, 'DRS': 8, 'Source': 'car', 'Distance': 672.3683333333333, 'RelativeDistance': 0.12419450173937137, 'Status': 'OnTrack', 'X': -130, 'Y': 7913, 'Z': -130}, {'Date': Timestamp('2021-03-27 15:59:15.756000'), 'SessionTime': Timedelta('0 days 01:14:15.371000'), 'DriverAhead': '10', 'DistanceToDriverAhead': 159.43388888888853, 'Time': Timedelta('0 days 00:00:08.290000'), 'RPM': 10487, 'Speed': 149, 'nGear': 8, 'Throttle': 0, 'Brake': True, 'DRS': 8, 'Source': 'car', 'Distance': 680.6875, 'RelativeDistance': 0.12573115167933996, 'Status': 'OnTrack', 'X': -121, 'Y': 8003, 'Z': -129}, {'Date': Timestamp('2021-03-27 15:59:15.995000'), 'SessionTime': Timedelta('0 days 01:14:15.610000'), 'DriverAhead': '10', 'DistanceToDriverAhead': 162.95249999999965, 'Time': Timedelta('0 days 00:00:08.529000'), 'RPM': 9927, 'Speed': 132, 'nGear': 5, 'Throttle': 0, 'Brake': True, 'DRS': 8, 'Source': 'car', 'Distance': 689.4508333333333, 'RelativeDistance': 0.12734984453406398, 'Status': 'OnTrack', 'X': -109, 'Y': 8092, 'Z': -128}, {'Date': Timestamp('2021-03-27 15:59:16.235000'), 'SessionTime': Timedelta('0 days 01:14:15.850000'), 'DriverAhead': '10', 'DistanceToDriverAhead': 168.6191666666664, 'Time': Timedelta('0 days 00:00:08.769000'), 'RPM': 10030, 'Speed': 115, 'nGear': 3, 'Throttle': 0, 'Brake': True, 'DRS': 8, 'Source': 'car', 'Distance': 697.1175, 'RelativeDistance': 0.12876596989194347, 'Status': 'OnTrack', 'X': -92, 'Y': 8165, 'Z': -129}, {'Date': Timestamp('2021-03-27 15:59:16.475000'), 'SessionTime': Timedelta('0 days 01:14:16.090000'), 'DriverAhead': '10', 'DistanceToDriverAhead': 175.28583333333302, 'Time': Timedelta('0 days 00:00:09.009000'), 'RPM': 9085, 'Speed': 106, 'nGear': 2, 'Throttle': 0, 'Brake': True, 'DRS': 8, 'Source': 'car', 'Distance': 704.1841666666667, 'RelativeDistance': 0.13007126804790198, 'Status': 'OnTrack', 'X': -67, 'Y': 8223, 'Z': -128}, {'Date': Timestamp('2021-03-27 15:59:16.715000'), 'SessionTime': Timedelta('0 days 01:14:16.330000'), 'DriverAhead': '10', 'DistanceToDriverAhead': 182.685833333333, 'Time': Timedelta('0 days 00:00:09.249000'), 'RPM': 8475, 'Speed': 99, 'nGear': 2, 'Throttle': 0, 'Brake': True, 'DRS': 8, 'Source': 'car', 'Distance': 710.7841666666667, 'RelativeDistance': 0.13129036726903304, 'Status': 'OnTrack', 'X': -35, 'Y': 8273, 'Z': -127}, {'Date': Timestamp('2021-03-27 15:59:16.955000'), 'SessionTime': Timedelta('0 days 01:14:16.570000'), 'DriverAhead': '10', 'DistanceToDriverAhead': 191.1524999999997, 'Time': Timedelta('0 days 00:00:09.489000'), 'RPM': 7641, 'Speed': 90, 'nGear': 2, 'Throttle': 0, 'Brake': True, 'DRS': 8, 'Source': 'car', 'Distance': 716.7841666666667, 'RelativeDistance': 0.13239863928824308, 'Status': 'OnTrack', 'X': 4, 'Y': 8311, 'Z': -127}, {'Date': Timestamp('2021-03-27 15:59:17.195000'), 'SessionTime': Timedelta('0 days 01:14:16.810000'), 'DriverAhead': '10', 'DistanceToDriverAhead': 200.55249999999967, 'Time': Timedelta('0 days 00:00:09.729000'), 'RPM': 7139, 'Speed': 85, 'nGear': 2, 'Throttle': 0, 'Brake': False, 'DRS': 8, 'Source': 'car', 'Distance': 722.4508333333333, 'RelativeDistance': 0.13344534063971925, 'Status': 'OnTrack', 'X': 49, 'Y': 8339, 'Z': -128}, {'Date': Timestamp('2021-03-27 15:59:17.435000'), 'SessionTime': Timedelta('0 days 01:14:17.050000'), 'DriverAhead': '10', 'DistanceToDriverAhead': 210.6191666666664, 'Time': Timedelta('0 days 00:00:09.969000'), 'RPM': 6838, 'Speed': 79, 'nGear': 2, 'Throttle': 0, 'Brake': False, 'DRS': 8, 'Source': 'car', 'Distance': 727.7175, 'RelativeDistance': 0.13441815718991473, 'Status': 'OnTrack', 'X': 96, 'Y': 8353, 'Z': -129}, {'Date': Timestamp('2021-03-27 15:59:17.675000'), 'SessionTime': Timedelta('0 days 01:14:17.290000'), 'DriverAhead': '10', 'DistanceToDriverAhead': 221.41916666666646, 'Time': Timedelta('0 days 00:00:10.209000'), 'RPM': 6557, 'Speed': 75, 'nGear': 2, 'Throttle': 0, 'Brake': False, 'DRS': 8, 'Source': 'car', 'Distance': 732.7175, 'RelativeDistance': 0.1353417172059231, 'Status': 'OnTrack', 'X': 141, 'Y': 8355, 'Z': -129}, {'Date': Timestamp('2021-03-27 15:59:17.915000'), 'SessionTime': Timedelta('0 days 01:14:17.530000'), 'DriverAhead': '10', 'DistanceToDriverAhead': 232.55249999999978, 'Time': Timedelta('0 days 00:00:10.449000'), 'RPM': 6792, 'Speed': 74, 'nGear': 2, 'Throttle': 21, 'Brake': False, 'DRS': 8, 'Source': 'car', 'Distance': 737.6508333333334, 'RelativeDistance': 0.13625296308838472, 'Status': 'OnTrack', 'X': 188, 'Y': 8343, 'Z': -131}, {'Date': Timestamp('2021-03-27 15:59:18.155000'), 'SessionTime': Timedelta('0 days 01:14:17.770000'), 'DriverAhead': '10', 'DistanceToDriverAhead': 243.75249999999983, 'Time': Timedelta('0 days 00:00:10.689000'), 'RPM': 7236, 'Speed': 77, 'nGear': 2, 'Throttle': 27, 'Brake': False, 'DRS': 8, 'Source': 'car', 'Distance': 742.7841666666667, 'RelativeDistance': 0.13720115137148664, 'Status': 'OnTrack', 'X': 233, 'Y': 8320, 'Z': -132}, {'Date': Timestamp('2021-03-27 15:59:18.395000'), 'SessionTime': Timedelta('0 days 01:14:18.010000'), 'DriverAhead': '10', 'DistanceToDriverAhead': 255.08583333333308, 'Time': Timedelta('0 days 00:00:10.929000'), 'RPM': 7679, 'Speed': 81, 'nGear': 2, 'Throttle': 38, 'Brake': False, 'DRS': 8, 'Source': 'car', 'Distance': 748.1841666666667, 'RelativeDistance': 0.13819859618877567, 'Status': 'OnTrack', 'X': 279, 'Y': 8288, 'Z': -133}, {'Date': Timestamp('2021-03-27 15:59:18.635000'), 'SessionTime': Timedelta('0 days 01:14:18.250000'), 'DriverAhead': '10', 'DistanceToDriverAhead': 266.28583333333313, 'Time': Timedelta('0 days 00:00:11.169000'), 'RPM': 8614, 'Speed': 89, 'nGear': 2, 'Throttle': 44, 'Brake': False, 'DRS': 8, 'Source': 'car', 'Distance': 754.1175000000001, 'RelativeDistance': 0.13929455407443897, 'Status': 'OnTrack', 'X': 325, 'Y': 8247, 'Z': -134}, {'Date': Timestamp('2021-03-27 15:59:18.875000'), 'SessionTime': Timedelta('0 days 01:14:18.490000'), 'DriverAhead': '10', 'DistanceToDriverAhead': 277.285833333333, 'Time': Timedelta('0 days 00:00:11.409000'), 'RPM': 9316, 'Speed': 95, 'nGear': 2, 'Throttle': 55, 'Brake': False, 'DRS': 8, 'Source': 'car', 'Distance': 760.4508333333334, 'RelativeDistance': 0.1404643967613829, 'Status': 'OnTrack', 'X': 371, 'Y': 8201, 'Z': -136}, {'Date': Timestamp('2021-03-27 15:59:19.115000'), 'SessionTime': Timedelta('0 days 01:14:18.730000'), 'DriverAhead': '10', 'DistanceToDriverAhead': 287.81916666666643, 'Time': Timedelta('0 days 00:00:11.649000'), 'RPM': 10633, 'Speed': 104, 'nGear': 2, 'Throttle': 70, 'Brake': False, 'DRS': 8, 'Source': 'car', 'Distance': 767.3841666666667, 'RelativeDistance': 0.14174506665024783, 'Status': 'OnTrack', 'X': 418, 'Y': 8149, 'Z': -138}, {'Date': Timestamp('2021-03-27 15:59:19.355000'), 'SessionTime': Timedelta('0 days 01:14:18.970000'), 'DriverAhead': '10', 'DistanceToDriverAhead': 297.95249999999953, 'Time': Timedelta('0 days 00:00:11.889000'), 'RPM': 11200, 'Speed': 118, 'nGear': 2, 'Throttle': 71, 'Brake': False, 'DRS': 8, 'Source': 'car', 'Distance': 775.2508333333334, 'RelativeDistance': 0.1431981344087677, 'Status': 'OnTrack', 'X': 469, 'Y': 8093, 'Z': -139}, {'Date': Timestamp('2021-03-27 15:59:19.595000'), 'SessionTime': Timedelta('0 days 01:14:19.210000'), 'DriverAhead': '10', 'DistanceToDriverAhead': 307.48583333333295, 'Time': Timedelta('0 days 00:00:12.129000'), 'RPM': 11989, 'Speed': 130, 'nGear': 2, 'Throttle': 87, 'Brake': False, 'DRS': 8, 'Source': 'car', 'Distance': 783.9175, 'RelativeDistance': 0.14479897176984885, 'Status': 'OnTrack', 'X': 526, 'Y': 8033, 'Z': -141}, {'Date': Timestamp('2021-03-27 15:59:19.835000'), 'SessionTime': Timedelta('0 days 01:14:19.450000'), 'DriverAhead': '10', 'DistanceToDriverAhead': 316.6858333333329, 'Time': Timedelta('0 days 00:00:12.369000'), 'RPM': 11149, 'Speed': 140, 'nGear': 2, 'Throttle': 89, 'Brake': False, 'DRS': 8, 'Source': 'car', 'Distance': 793.2508333333334, 'RelativeDistance': 0.14652295046639782, 'Status': 'OnTrack', 'X': 594, 'Y': 7974, 'Z': -142}, {'Date': Timestamp('2021-03-27 15:59:20.075000'), 'SessionTime': Timedelta('0 days 01:14:19.690000'), 'DriverAhead': '10', 'DistanceToDriverAhead': 325.15249999999946, 'Time': Timedelta('0 days 00:00:12.609000'), 'RPM': 10856, 'Speed': 152, 'nGear': 3, 'Throttle': 80, 'Brake': False, 'DRS': 8, 'Source': 'car', 'Distance': 803.3841666666667, 'RelativeDistance': 0.14839469876550812, 'Status': 'OnTrack', 'X': 676, 'Y': 7923, 'Z': -142}, {'Date': Timestamp('2021-03-27 15:59:20.315000'), 'SessionTime': Timedelta('0 days 01:14:19.930000'), 'DriverAhead': '10', 'DistanceToDriverAhead': 333.3524999999996, 'Time': Timedelta('0 days 00:00:12.849000'), 'RPM': 10234, 'Speed': 159, 'nGear': 4, 'Throttle': 87, 'Brake': False, 'DRS': 8, 'Source': 'car', 'Distance': 813.9841666666667, 'RelativeDistance': 0.1503526459994459, 'Status': 'OnTrack', 'X': 771, 'Y': 7884, 'Z': -143}, {'Date': Timestamp('2021-03-27 15:59:20.555000'), 'SessionTime': Timedelta('0 days 01:14:20.170000'), 'DriverAhead': '10', 'DistanceToDriverAhead': 341.15249999999946, 'Time': Timedelta('0 days 00:00:13.089000'), 'RPM': 10404, 'Speed': 170, 'nGear': 4, 'Throttle': 95, 'Brake': False, 'DRS': 8, 'Source': 'car', 'Distance': 825.3175000000001, 'RelativeDistance': 0.1524460487023982, 'Status': 'OnTrack', 'X': 878, 'Y': 7861, 'Z': -142}, {'Date': Timestamp('2021-03-27 15:59:20.795000'), 'SessionTime': Timedelta('0 days 01:14:20.410000'), 'DriverAhead': '10', 'DistanceToDriverAhead': 348.685833333333, 'Time': Timedelta('0 days 00:00:13.329000'), 'RPM': 11143, 'Speed': 177, 'nGear': 4, 'Throttle': 84, 'Brake': False, 'DRS': 8, 'Source': 'car', 'Distance': 837.1175000000001, 'RelativeDistance': 0.15462565034017797, 'Status': 'OnTrack', 'X': 996, 'Y': 7856, 'Z': -141}, {'Date': Timestamp('2021-03-27 15:59:21.035000'), 'SessionTime': Timedelta('0 days 01:14:20.650000'), 'DriverAhead': '10', 'DistanceToDriverAhead': 355.61916666666616, 'Time': Timedelta('0 days 00:00:13.569000'), 'RPM': 11736, 'Speed': 188, 'nGear': 4, 'Throttle': 100, 'Brake': False, 'DRS': 8, 'Source': 'car', 'Distance': 849.6508333333334, 'RelativeDistance': 0.15694070744697228, 'Status': 'OnTrack', 'X': 1124, 'Y': 7870, 'Z': -140}, {'Date': Timestamp('2021-03-27 15:59:21.275000'), 'SessionTime': Timedelta('0 days 01:14:20.890000'), 'DriverAhead': '10', 'DistanceToDriverAhead': 362.3524999999996, 'Time': Timedelta('0 days 00:00:13.809000'), 'RPM': 11425, 'Speed': 194, 'nGear': 4, 'Throttle': 100, 'Brake': False, 'DRS': 8, 'Source': 'car', 'Distance': 862.5841666666666, 'RelativeDistance': 0.15932964935504726, 'Status': 'OnTrack', 'X': 1256, 'Y': 7894, 'Z': -136}, {'Date': Timestamp('2021-03-27 15:59:21.515000'), 'SessionTime': Timedelta('0 days 01:14:21.130000'), 'DriverAhead': '10', 'DistanceToDriverAhead': 368.8191666666661, 'Time': Timedelta('0 days 00:00:14.049000'), 'RPM': 10575, 'Speed': 199, 'nGear': 5, 'Throttle': 100, 'Brake': False, 'DRS': 8, 'Source': 'car', 'Distance': 875.8508333333333, 'RelativeDistance': 0.16178016193085615, 'Status': 'OnTrack', 'X': 1388, 'Y': 7924, 'Z': -132}, {'Date': Timestamp('2021-03-27 15:59:21.755000'), 'SessionTime': Timedelta('0 days 01:14:21.370000'), 'DriverAhead': '10', 'DistanceToDriverAhead': 374.8191666666661, 'Time': Timedelta('0 days 00:00:14.289000'), 'RPM': 11177, 'Speed': 209, 'nGear': 5, 'Throttle': 100, 'Brake': False, 'DRS': 8, 'Source': 'car', 'Distance': 889.7841666666667, 'RelativeDistance': 0.16435381584213282, 'Status': 'OnTrack', 'X': 1521, 'Y': 7961, 'Z': -128}, {'Date': Timestamp('2021-03-27 15:59:21.995000'), 'SessionTime': Timedelta('0 days 01:14:21.610000'), 'DriverAhead': '10', 'DistanceToDriverAhead': 380.4858333333325, 'Time': Timedelta('0 days 00:00:14.529000'), 'RPM': 11395, 'Speed': 215, 'nGear': 5, 'Throttle': 100, 'Brake': False, 'DRS': 8, 'Source': 'car', 'Distance': 904.1175000000001, 'RelativeDistance': 0.16700135455469017, 'Status': 'OnTrack', 'X': 1657, 'Y': 8007, 'Z': -122}, {'Date': Timestamp('2021-03-27 15:59:22.196000'), 'SessionTime': Timedelta('0 days 01:14:21.811000'), 'DriverAhead': '10', 'DistanceToDriverAhead': 385.00833333333253, 'Time': Timedelta('0 days 00:00:14.730000'), 'RPM': 11554, 'Speed': 221, 'nGear': 5, 'Throttle': 100, 'Brake': False, 'DRS': 8, 'Source': 'car', 'Distance': 916.4566666666667, 'RelativeDistance': 0.1692805467475295, 'Status': 'OnTrack', 'X': 1775, 'Y': 8043, 'Z': -118}, {'Date': Timestamp('2021-03-27 15:59:22.436000'), 'SessionTime': Timedelta('0 days 01:14:22.051000'), 'DriverAhead': '10', 'DistanceToDriverAhead': 390.074999999999, 'Time': Timedelta('0 days 00:00:14.970000'), 'RPM': 11843, 'Speed': 227, 'nGear': 5, 'Throttle': 100, 'Brake': False, 'DRS': 8, 'Source': 'car', 'Distance': 931.59, 'RelativeDistance': 0.17207585506264816, 'Status': 'OnTrack', 'X': 1919, 'Y': 8069, 'Z': -113}, {'Date': Timestamp('2021-03-27 15:59:22.675000'), 'SessionTime': Timedelta('0 days 01:14:22.290000'), 'DriverAhead': '10', 'DistanceToDriverAhead': 395.05416666666576, 'Time': Timedelta('0 days 00:00:15.209000'), 'RPM': 10645, 'Speed': 230, 'nGear': 6, 'Throttle': 100, 'Brake': False, 'DRS': 8, 'Source': 'car', 'Distance': 946.8594444444444, 'RelativeDistance': 0.17489630473375817, 'Status': 'OnTrack', 'X': 2072, 'Y': 8075, 'Z': -109}, {'Date': Timestamp('2021-03-27 15:59:22.915000'), 'SessionTime': Timedelta('0 days 01:14:22.530000'), 'DriverAhead': '10', 'DistanceToDriverAhead': 399.7874999999992, 'Time': Timedelta('0 days 00:00:15.449000'), 'RPM': 10720, 'Speed': 234, 'nGear': 6, 'Throttle': 100, 'Brake': False, 'DRS': 8, 'Source': 'car', 'Distance': 962.4594444444444, 'RelativeDistance': 0.1777778119837043, 'Status': 'OnTrack', 'X': 2232, 'Y': 8069, 'Z': -104}, {'Date': Timestamp('2021-03-27 15:59:23.155000'), 'SessionTime': Timedelta('0 days 01:14:22.770000'), 'DriverAhead': '10', 'DistanceToDriverAhead': 404.2541666666658, 'Time': Timedelta('0 days 00:00:15.689000'), 'RPM': 11102, 'Speed': 241, 'nGear': 6, 'Throttle': 100, 'Brake': False, 'DRS': 8, 'Source': 'car', 'Distance': 978.5261111111112, 'RelativeDistance': 0.1807455181684779, 'Status': 'OnTrack', 'X': 2369, 'Y': 8059, 'Z': -100}, {'Date': Timestamp('2021-03-27 15:59:23.395000'), 'SessionTime': Timedelta('0 days 01:14:23.010000'), 'DriverAhead': '10', 'DistanceToDriverAhead': 408.18749999999886, 'Time': Timedelta('0 days 00:00:15.929000'), 'RPM': 11213, 'Speed': 245, 'nGear': 6, 'Throttle': 100, 'Brake': False, 'DRS': 14, 'Source': 'car', 'Distance': 994.8594444444445, 'RelativeDistance': 0.18376248088743857, 'Status': 'OnTrack', 'X': 2530, 'Y': 8038, 'Z': -94}, {'Date': Timestamp('2021-03-27 15:59:23.635000'), 'SessionTime': Timedelta('0 days 01:14:23.250000'), 'DriverAhead': '10', 'DistanceToDriverAhead': 408.8541666666656, 'Time': Timedelta('0 days 00:00:16.169000'), 'RPM': 11391, 'Speed': 251, 'nGear': 6, 'Throttle': 100, 'Brake': False, 'DRS': 12, 'Source': 'car', 'Distance': 1011.5927777777779, 'RelativeDistance': 0.18685332840767996, 'Status': 'OnTrack', 'X': 2694, 'Y': 8013, 'Z': -89}, {'Date': Timestamp('2021-03-27 15:59:23.875000'), 'SessionTime': Timedelta('0 days 01:14:23.490000'), 'DriverAhead': '10', 'DistanceToDriverAhead': 407.3208333333321, 'Time': Timedelta('0 days 00:00:16.409000'), 'RPM': 11608, 'Speed': 255, 'nGear': 6, 'Throttle': 100, 'Brake': False, 'DRS': 12, 'Source': 'car', 'Distance': 1028.5927777777779, 'RelativeDistance': 0.18999343246210842, 'Status': 'OnTrack', 'X': 2860, 'Y': 7979, 'Z': -83}, {'Date': Timestamp('2021-03-27 15:59:24.115000'), 'SessionTime': Timedelta('0 days 01:14:23.730000'), 'DriverAhead': '10', 'DistanceToDriverAhead': 403.9874999999986, 'Time': Timedelta('0 days 00:00:16.649000'), 'RPM': 11002, 'Speed': 259, 'nGear': 6, 'Throttle': 100, 'Brake': False, 'DRS': 12, 'Source': 'car', 'Distance': 1045.8594444444448, 'RelativeDistance': 0.19318279305072403, 'Status': 'OnTrack', 'X': 3029, 'Y': 7943, 'Z': -79}, {'Date': Timestamp('2021-03-27 15:59:24.355000'), 'SessionTime': Timedelta('0 days 01:14:23.970000'), 'DriverAhead': '10', 'DistanceToDriverAhead': 398.72083333333194, 'Time': Timedelta('0 days 00:00:16.889000'), 'RPM': 10622, 'Speed': 265, 'nGear': 7, 'Throttle': 100, 'Brake': False, 'DRS': 12, 'Source': 'car', 'Distance': 1063.5261111111113, 'RelativeDistance': 0.19644603844062025, 'Status': 'OnTrack', 'X': 3200, 'Y': 7908, 'Z': -75}, {'Date': Timestamp('2021-03-27 15:59:24.595000'), 'SessionTime': Timedelta('0 days 01:14:24.210000'), 'DriverAhead': '10', 'DistanceToDriverAhead': 392.4541666666653, 'Time': Timedelta('0 days 00:00:17.129000'), 'RPM': 10859, 'Speed': 268, 'nGear': 7, 'Throttle': 100, 'Brake': False, 'DRS': 12, 'Source': 'car', 'Distance': 1081.392777777778, 'RelativeDistance': 0.19974622623115687, 'Status': 'OnTrack', 'X': 3373, 'Y': 7873, 'Z': -72}, {'Date': Timestamp('2021-03-27 15:59:24.835000'), 'SessionTime': Timedelta('0 days 01:14:24.450000'), 'DriverAhead': '10', 'DistanceToDriverAhead': 384.5874999999987, 'Time': Timedelta('0 days 00:00:17.369000'), 'RPM': 11097, 'Speed': 271, 'nGear': 7, 'Throttle': 100, 'Brake': False, 'DRS': 12, 'Source': 'car', 'Distance': 1099.4594444444447, 'RelativeDistance': 0.2030833564223338, 'Status': 'OnTrack', 'X': 3550, 'Y': 7837, 'Z': -68}, {'Date': Timestamp('2021-03-27 15:59:25.075000'), 'SessionTime': Timedelta('0 days 01:14:24.690000'), 'DriverAhead': '10', 'DistanceToDriverAhead': 376.1874999999984, 'Time': Timedelta('0 days 00:00:17.609000'), 'RPM': 11098, 'Speed': 275, 'nGear': 7, 'Throttle': 100, 'Brake': False, 'DRS': 12, 'Source': 'car', 'Distance': 1117.7927777777782, 'RelativeDistance': 0.20646974314769787, 'Status': 'OnTrack', 'X': 3728, 'Y': 7800, 'Z': -64}, {'Date': Timestamp('2021-03-27 15:59:25.315000'), 'SessionTime': Timedelta('0 days 01:14:24.930000'), 'DriverAhead': '10', 'DistanceToDriverAhead': 367.1208333333318, 'Time': Timedelta('0 days 00:00:17.849000'), 'RPM': 11324, 'Speed': 279, 'nGear': 7, 'Throttle': 100, 'Brake': False, 'DRS': 12, 'Source': 'car', 'Distance': 1136.392777777778, 'RelativeDistance': 0.20990538640724898, 'Status': 'OnTrack', 'X': 3910, 'Y': 7763, 'Z': -61}, {'Date': Timestamp('2021-03-27 15:59:25.555000'), 'SessionTime': Timedelta('0 days 01:14:25.170000'), 'DriverAhead': '10', 'DistanceToDriverAhead': 357.254166666665, 'Time': Timedelta('0 days 00:00:18.089000'), 'RPM': 11427, 'Speed': 282, 'nGear': 7, 'Throttle': 100, 'Brake': False, 'DRS': 12, 'Source': 'car', 'Distance': 1155.192777777778, 'RelativeDistance': 0.21337797206744047, 'Status': 'OnTrack', 'X': 4093, 'Y': 7727, 'Z': -58}, {'Date': Timestamp('2021-03-27 15:59:25.795000'), 'SessionTime': Timedelta('0 days 01:14:25.410000'), 'DriverAhead': '10', 'DistanceToDriverAhead': 347.1208333333316, 'Time': Timedelta('0 days 00:00:18.329000'), 'RPM': 11474, 'Speed': 285, 'nGear': 7, 'Throttle': 100, 'Brake': False, 'DRS': 12, 'Source': 'car', 'Distance': 1174.1927777777782, 'RelativeDistance': 0.21688750012827232, 'Status': 'OnTrack', 'X': 4279, 'Y': 7689, 'Z': -55}, {'Date': Timestamp('2021-03-27 15:59:26.035000'), 'SessionTime': Timedelta('0 days 01:14:25.650000'), 'DriverAhead': '10', 'DistanceToDriverAhead': 336.3208333333316, 'Time': Timedelta('0 days 00:00:18.569000'), 'RPM': 11550, 'Speed': 288, 'nGear': 7, 'Throttle': 100, 'Brake': False, 'DRS': 12, 'Source': 'car', 'Distance': 1193.392777777778, 'RelativeDistance': 0.22043397058974445, 'Status': 'OnTrack', 'X': 4451, 'Y': 7655, 'Z': -50}, {'Date': Timestamp('2021-03-27 15:59:26.275000'), 'SessionTime': Timedelta('0 days 01:14:25.890000'), 'DriverAhead': '10', 'DistanceToDriverAhead': 325.45416666666483, 'Time': Timedelta('0 days 00:00:18.809000'), 'RPM': 11250, 'Speed': 290, 'nGear': 7, 'Throttle': 100, 'Brake': False, 'DRS': 12, 'Source': 'car', 'Distance': 1212.7261111111115, 'RelativeDistance': 0.22400506931831018, 'Status': 'OnTrack', 'X': 4640, 'Y': 7618, 'Z': -47}, {'Date': Timestamp('2021-03-27 15:59:26.515000'), 'SessionTime': Timedelta('0 days 01:14:26.130000'), 'DriverAhead': '10', 'DistanceToDriverAhead': 314.52083333333167, 'Time': Timedelta('0 days 00:00:19.049000'), 'RPM': 10534, 'Speed': 291, 'nGear': 8, 'Throttle': 100, 'Brake': False, 'DRS': 12, 'Source': 'car', 'Distance': 1232.1261111111114, 'RelativeDistance': 0.22758848218042266, 'Status': 'OnTrack', 'X': 4830, 'Y': 7580, 'Z': -44}, {'Date': Timestamp('2021-03-27 15:59:26.755000'), 'SessionTime': Timedelta('0 days 01:14:26.370000'), 'DriverAhead': '10', 'DistanceToDriverAhead': 303.7208333333315, 'Time': Timedelta('0 days 00:00:19.289000'), 'RPM': 10679, 'Speed': 293, 'nGear': 8, 'Throttle': 100, 'Brake': False, 'DRS': 12, 'Source': 'car', 'Distance': 1251.659444444445, 'RelativeDistance': 0.23119652330962873, 'Status': 'OnTrack', 'X': 5021, 'Y': 7542, 'Z': -39}, {'Date': Timestamp('2021-03-27 15:59:26.995000'), 'SessionTime': Timedelta('0 days 01:14:26.610000'), 'DriverAhead': '10', 'DistanceToDriverAhead': 292.98749999999836, 'Time': Timedelta('0 days 00:00:19.529000'), 'RPM': 10674, 'Speed': 296, 'nGear': 8, 'Throttle': 100, 'Brake': False, 'DRS': 12, 'Source': 'car', 'Distance': 1271.392777777778, 'RelativeDistance': 0.23484150683947508, 'Status': 'OnTrack', 'X': 5215, 'Y': 7504, 'Z': -36}, {'Date': Timestamp('2021-03-27 15:59:27.235000'), 'SessionTime': Timedelta('0 days 01:14:26.850000'), 'DriverAhead': '10', 'DistanceToDriverAhead': 282.5874999999985, 'Time': Timedelta('0 days 00:00:19.769000'), 'RPM': 10752, 'Speed': 298, 'nGear': 8, 'Throttle': 100, 'Brake': False, 'DRS': 12, 'Source': 'car', 'Distance': 1291.2594444444446, 'RelativeDistance': 0.238511118636415, 'Status': 'OnTrack', 'X': 5410, 'Y': 7467, 'Z': -32}, {'Date': Timestamp('2021-03-27 15:59:27.475000'), 'SessionTime': Timedelta('0 days 01:14:27.090000'), 'DriverAhead': '10', 'DistanceToDriverAhead': 272.5208333333319, 'Time': Timedelta('0 days 00:00:20.009000'), 'RPM': 10782, 'Speed': 299, 'nGear': 8, 'Throttle': 100, 'Brake': False, 'DRS': 12, 'Source': 'car', 'Distance': 1311.192777777778, 'RelativeDistance': 0.24219304456690172, 'Status': 'OnTrack', 'X': 5605, 'Y': 7431, 'Z': -29}, {'Date': Timestamp('2021-03-27 15:59:27.715000'), 'SessionTime': Timedelta('0 days 01:14:27.330000'), 'DriverAhead': '10', 'DistanceToDriverAhead': 262.5208333333321, 'Time': Timedelta('0 days 00:00:20.249000'), 'RPM': 10782, 'Speed': 300, 'nGear': 8, 'Throttle': 100, 'Brake': False, 'DRS': 12, 'Source': 'car', 'Distance': 1331.1927777777778, 'RelativeDistance': 0.24588728463093518, 'Status': 'OnTrack', 'X': 5802, 'Y': 7394, 'Z': -25}, {'Date': Timestamp('2021-03-27 15:59:27.955000'), 'SessionTime': Timedelta('0 days 01:14:27.570000'), 'DriverAhead': '10', 'DistanceToDriverAhead': 253.38749999999868, 'Time': Timedelta('0 days 00:00:20.489000'), 'RPM': 10793, 'Speed': 302, 'nGear': 8, 'Throttle': 100, 'Brake': False, 'DRS': 12, 'Source': 'car', 'Distance': 1351.3261111111112, 'RelativeDistance': 0.24960615296206223, 'Status': 'OnTrack', 'X': 5999, 'Y': 7358, 'Z': -21}, {'Date': Timestamp('2021-03-27 15:59:28.195000'), 'SessionTime': Timedelta('0 days 01:14:27.810000'), 'DriverAhead': '10', 'DistanceToDriverAhead': 245.05416666666542, 'Time': Timedelta('0 days 00:00:20.729000'), 'RPM': 10874, 'Speed': 303, 'nGear': 8, 'Throttle': 100, 'Brake': False, 'DRS': 12, 'Source': 'car', 'Distance': 1371.526111111111, 'RelativeDistance': 0.25333733542673603, 'Status': 'OnTrack', 'X': 6199, 'Y': 7321, 'Z': -17}, {'Date': Timestamp('2021-03-27 15:59:28.435000'), 'SessionTime': Timedelta('0 days 01:14:28.050000'), 'DriverAhead': '10', 'DistanceToDriverAhead': 237.4541666666653, 'Time': Timedelta('0 days 00:00:20.969000'), 'RPM': 10940, 'Speed': 305, 'nGear': 8, 'Throttle': 100, 'Brake': False, 'DRS': 12, 'Source': 'car', 'Distance': 1391.8594444444445, 'RelativeDistance': 0.2570931461585034, 'Status': 'OnTrack', 'X': 6376, 'Y': 7289, 'Z': -14}, {'Date': Timestamp('2021-03-27 15:59:28.675000'), 'SessionTime': Timedelta('0 days 01:14:28.290000'), 'DriverAhead': '10', 'DistanceToDriverAhead': 230.18749999999864, 'Time': Timedelta('0 days 00:00:21.209000'), 'RPM': 10547, 'Speed': 306, 'nGear': 8, 'Throttle': 100, 'Brake': True, 'DRS': 8, 'Source': 'car', 'Distance': 1412.2594444444444, 'RelativeDistance': 0.2608612710238176, 'Status': 'OnTrack', 'X': 6576, 'Y': 7253, 'Z': -10}, {'Date': Timestamp('2021-03-27 15:59:28.876000'), 'SessionTime': Timedelta('0 days 01:14:28.491000'), 'DriverAhead': '10', 'DistanceToDriverAhead': 226.11166666666531, 'Time': Timedelta('0 days 00:00:21.410000'), 'RPM': 9842, 'Speed': 275, 'nGear': 8, 'Throttle': 0, 'Brake': True, 'DRS': 8, 'Source': 'car', 'Distance': 1427.6136111111111, 'RelativeDistance': 0.26369736990631, 'Status': 'OnTrack', 'X': 6734, 'Y': 7223, 'Z': -7}, {'Date': Timestamp('2021-03-27 15:59:29.116000'), 'SessionTime': Timedelta('0 days 01:14:28.731000'), 'DriverAhead': '10', 'DistanceToDriverAhead': 223.84499999999866, 'Time': Timedelta('0 days 00:00:21.650000'), 'RPM': 9762, 'Speed': 244, 'nGear': 8, 'Throttle': 0, 'Brake': True, 'DRS': 8, 'Source': 'car', 'Distance': 1443.8802777777778, 'RelativeDistance': 0.26670201849172387, 'Status': 'OnTrack', 'X': 6902, 'Y': 7193, 'Z': -3}, {'Date': Timestamp('2021-03-27 15:59:29.355000'), 'SessionTime': Timedelta('0 days 01:14:28.970000'), 'DriverAhead': '10', 'DistanceToDriverAhead': 224.57527777777636, 'Time': Timedelta('0 days 00:00:21.889000'), 'RPM': 10711, 'Speed': 208, 'nGear': 8, 'Throttle': 0, 'Brake': True, 'DRS': 8, 'Source': 'car', 'Distance': 1457.6891666666668, 'RelativeDistance': 0.26925268602037994, 'Status': 'OnTrack', 'X': 7046, 'Y': 7162, 'Z': -1}, {'Date': Timestamp('2021-03-27 15:59:29.595000'), 'SessionTime': Timedelta('0 days 01:14:29.210000'), 'DriverAhead': '10', 'DistanceToDriverAhead': 226.84194444444302, 'Time': Timedelta('0 days 00:00:22.129000'), 'RPM': 9502, 'Speed': 188, 'nGear': 6, 'Throttle': 0, 'Brake': True, 'DRS': 8, 'Source': 'car', 'Distance': 1470.2225000000003, 'RelativeDistance': 0.2715677431271743, 'Status': 'OnTrack', 'X': 7167, 'Y': 7124, 'Z': 0}, {'Date': Timestamp('2021-03-27 15:59:29.835000'), 'SessionTime': Timedelta('0 days 01:14:29.450000'), 'DriverAhead': '10', 'DistanceToDriverAhead': 231.37527777777632, 'Time': Timedelta('0 days 00:00:22.369000'), 'RPM': 10186, 'Speed': 165, 'nGear': 4, 'Throttle': 0, 'Brake': True, 'DRS': 8, 'Source': 'car', 'Distance': 1481.2225000000003, 'RelativeDistance': 0.2735995751623927, 'Status': 'OnTrack', 'X': 7269, 'Y': 7077, 'Z': 1}, {'Date': Timestamp('2021-03-27 15:59:30.075000'), 'SessionTime': Timedelta('0 days 01:14:29.690000'), 'DriverAhead': '10', 'DistanceToDriverAhead': 237.04194444444283, 'Time': Timedelta('0 days 00:00:22.609000'), 'RPM': 9039, 'Speed': 153, 'nGear': 4, 'Throttle': 0, 'Brake': True, 'DRS': 8, 'Source': 'car', 'Distance': 1491.4225000000004, 'RelativeDistance': 0.2754836375950498, 'Status': 'OnTrack', 'X': 7355, 'Y': 7024, 'Z': 2}, {'Date': Timestamp('2021-03-27 15:59:30.355000'), 'SessionTime': Timedelta('0 days 01:14:29.970000'), 'DriverAhead': '10', 'DistanceToDriverAhead': 245.2863888888876, 'Time': Timedelta('0 days 00:00:22.889000'), 'RPM': 8359, 'Speed': 141, 'nGear': 4, 'Throttle': 0, 'Brake': True, 'DRS': 8, 'Source': 'car', 'Distance': 1502.3891666666668, 'RelativeDistance': 0.2775093125634948, 'Status': 'OnTrack', 'X': 7431, 'Y': 6954, 'Z': 5}, {'Date': Timestamp('2021-03-27 15:59:30.595000'), 'SessionTime': Timedelta('0 days 01:14:30.210000'), 'DriverAhead': '10', 'DistanceToDriverAhead': 252.95305555555433, 'Time': Timedelta('0 days 00:00:23.129000'), 'RPM': 8137, 'Speed': 136, 'nGear': 4, 'Throttle': 2, 'Brake': False, 'DRS': 8, 'Source': 'car', 'Distance': 1511.4558333333337, 'RelativeDistance': 0.2791840347258567, 'Status': 'OnTrack', 'X': 7474, 'Y': 6888, 'Z': 6}, {'Date': Timestamp('2021-03-27 15:59:30.835000'), 'SessionTime': Timedelta('0 days 01:14:30.450000'), 'DriverAhead': '10', 'DistanceToDriverAhead': 261.419722222221, 'Time': Timedelta('0 days 00:00:23.369000'), 'RPM': 7718, 'Speed': 128, 'nGear': 4, 'Throttle': 7, 'Brake': False, 'DRS': 8, 'Source': 'car', 'Distance': 1519.989166666667, 'RelativeDistance': 0.2807602438198443, 'Status': 'OnTrack', 'X': 7498, 'Y': 6810, 'Z': 6}, {'Date': Timestamp('2021-03-27 15:59:31.075000'), 'SessionTime': Timedelta('0 days 01:14:30.690000'), 'DriverAhead': '10', 'DistanceToDriverAhead': 270.15305555555415, 'Time': Timedelta('0 days 00:00:23.609000'), 'RPM': 7784, 'Speed': 126, 'nGear': 4, 'Throttle': 15, 'Brake': False, 'DRS': 8, 'Source': 'car', 'Distance': 1528.389166666667, 'RelativeDistance': 0.2823118246467384, 'Status': 'OnTrack', 'X': 7506, 'Y': 6724, 'Z': 8}, {'Date': Timestamp('2021-03-27 15:59:31.315000'), 'SessionTime': Timedelta('0 days 01:14:30.930000'), 'DriverAhead': '10', 'DistanceToDriverAhead': 279.01972222222093, 'Time': Timedelta('0 days 00:00:23.849000'), 'RPM': 7782, 'Speed': 125, 'nGear': 4, 'Throttle': 36, 'Brake': False, 'DRS': 8, 'Source': 'car', 'Distance': 1536.7225000000003, 'RelativeDistance': 0.2838510913400857, 'Status': 'OnTrack', 'X': 7499, 'Y': 6636, 'Z': 8}, {'Date': Timestamp('2021-03-27 15:59:31.555000'), 'SessionTime': Timedelta('0 days 01:14:31.170000'), 'DriverAhead': '10', 'DistanceToDriverAhead': 286.95305555555433, 'Time': Timedelta('0 days 00:00:24.089000'), 'RPM': 8212, 'Speed': 129, 'nGear': 4, 'Throttle': 39, 'Brake': False, 'DRS': 8, 'Source': 'car', 'Distance': 1545.3225000000002, 'RelativeDistance': 0.28543961456762, 'Status': 'OnTrack', 'X': 7478, 'Y': 6549, 'Z': 7}, {'Date': Timestamp('2021-03-27 15:59:31.795000'), 'SessionTime': Timedelta('0 days 01:14:31.410000'), 'DriverAhead': '10', 'DistanceToDriverAhead': 294.08638888888754, 'Time': Timedelta('0 days 00:00:24.329000'), 'RPM': 8330, 'Speed': 132, 'nGear': 4, 'Throttle': 49, 'Brake': False, 'DRS': 8, 'Source': 'car', 'Distance': 1554.1225000000004, 'RelativeDistance': 0.2870650801957948, 'Status': 'OnTrack', 'X': 7449, 'Y': 6465, 'Z': 6}, {'Date': Timestamp('2021-03-27 15:59:32.035000'), 'SessionTime': Timedelta('0 days 01:14:31.650000'), 'DriverAhead': '10', 'DistanceToDriverAhead': 299.81972222222066, 'Time': Timedelta('0 days 00:00:24.569000'), 'RPM': 9166, 'Speed': 142, 'nGear': 4, 'Throttle': 71, 'Brake': False, 'DRS': 8, 'Source': 'car', 'Distance': 1563.589166666667, 'RelativeDistance': 0.28881368715943734, 'Status': 'OnTrack', 'X': 7404, 'Y': 6382, 'Z': 4}, {'Date': Timestamp('2021-03-27 15:59:32.275000'), 'SessionTime': Timedelta('0 days 01:14:31.890000'), 'DriverAhead': '10', 'DistanceToDriverAhead': 304.553055555554, 'Time': Timedelta('0 days 00:00:24.809000'), 'RPM': 9427, 'Speed': 147, 'nGear': 4, 'Throttle': 71, 'Brake': False, 'DRS': 8, 'Source': 'car', 'Distance': 1573.3891666666673, 'RelativeDistance': 0.2906238647908138, 'Status': 'OnTrack', 'X': 7361, 'Y': 6317, 'Z': 1}, {'Date': Timestamp('2021-03-27 15:59:32.515000'), 'SessionTime': Timedelta('0 days 01:14:32.130000'), 'DriverAhead': '10', 'DistanceToDriverAhead': 308.35305555555396, 'Time': Timedelta('0 days 00:00:25.049000'), 'RPM': 9947, 'Speed': 154, 'nGear': 4, 'Throttle': 92, 'Brake': False, 'DRS': 8, 'Source': 'car', 'Distance': 1583.655833333334, 'RelativeDistance': 0.29252024135701765, 'Status': 'OnTrack', 'X': 7306, 'Y': 6256, 'Z': 0}, {'Date': Timestamp('2021-03-27 15:59:32.755000'), 'SessionTime': Timedelta('0 days 01:14:32.370000'), 'DriverAhead': '10', 'DistanceToDriverAhead': 310.81972222222066, 'Time': Timedelta('0 days 00:00:25.289000'), 'RPM': 10596, 'Speed': 169, 'nGear': 4, 'Throttle': 100, 'Brake': False, 'DRS': 8, 'Source': 'car', 'Distance': 1594.9225000000006, 'RelativeDistance': 0.2946013299264232, 'Status': 'OnTrack', 'X': 7225, 'Y': 6178, 'Z': -3}, {'Date': Timestamp('2021-03-27 15:59:32.995000'), 'SessionTime': Timedelta('0 days 01:14:32.610000'), 'DriverAhead': '10', 'DistanceToDriverAhead': 313.0863888888873, 'Time': Timedelta('0 days 00:00:25.529000'), 'RPM': 11130, 'Speed': 177, 'nGear': 4, 'Throttle': 100, 'Brake': False, 'DRS': 8, 'Source': 'car', 'Distance': 1606.7225000000005, 'RelativeDistance': 0.29678093156420293, 'Status': 'OnTrack', 'X': 7135, 'Y': 6103, 'Z': -4}, {'Date': Timestamp('2021-03-27 15:59:33.235000'), 'SessionTime': Timedelta('0 days 01:14:32.850000'), 'DriverAhead': '10', 'DistanceToDriverAhead': 314.9530555555539, 'Time': Timedelta('0 days 00:00:25.769000'), 'RPM': 11665, 'Speed': 189, 'nGear': 4, 'Throttle': 100, 'Brake': False, 'DRS': 8, 'Source': 'car', 'Distance': 1619.3225000000004, 'RelativeDistance': 0.29910830280454404, 'Status': 'OnTrack', 'X': 7036, 'Y': 6029, 'Z': -5}, {'Date': Timestamp('2021-03-27 15:59:33.475000'), 'SessionTime': Timedelta('0 days 01:14:33.090000'), 'DriverAhead': '10', 'DistanceToDriverAhead': 316.35305555555374, 'Time': Timedelta('0 days 00:00:26.009000'), 'RPM': 12145, 'Speed': 196, 'nGear': 4, 'Throttle': 100, 'Brake': False, 'DRS': 8, 'Source': 'car', 'Distance': 1632.3891666666673, 'RelativeDistance': 0.3015218729797126, 'Status': 'OnTrack', 'X': 6928, 'Y': 5955, 'Z': -6}, {'Date': Timestamp('2021-03-27 15:59:33.715000'), 'SessionTime': Timedelta('0 days 01:14:33.330000'), 'DriverAhead': '10', 'DistanceToDriverAhead': 317.2863888888869, 'Time': Timedelta('0 days 00:00:26.249000'), 'RPM': 10745, 'Speed': 203, 'nGear': 5, 'Throttle': 100, 'Brake': False, 'DRS': 8, 'Source': 'car', 'Distance': 1645.9225000000006, 'RelativeDistance': 0.3040216420897086, 'Status': 'OnTrack', 'X': 6818, 'Y': 5880, 'Z': -8}, {'Date': Timestamp('2021-03-27 15:59:33.955000'), 'SessionTime': Timedelta('0 days 01:14:33.570000'), 'DriverAhead': '10', 'DistanceToDriverAhead': 318.48638888888695, 'Time': Timedelta('0 days 00:00:26.489000'), 'RPM': 11239, 'Speed': 213, 'nGear': 5, 'Throttle': 100, 'Brake': False, 'DRS': 8, 'Source': 'car', 'Distance': 1660.1225000000006, 'RelativeDistance': 0.30664455253517237, 'Status': 'OnTrack', 'X': 6704, 'Y': 5800, 'Z': -9}, {'Date': Timestamp('2021-03-27 15:59:34.195000'), 'SessionTime': Timedelta('0 days 01:14:33.810000'), 'DriverAhead': '10', 'DistanceToDriverAhead': 319.3530555555535, 'Time': Timedelta('0 days 00:00:26.729000'), 'RPM': 11237, 'Speed': 219, 'nGear': 5, 'Throttle': 100, 'Brake': False, 'DRS': 8, 'Source': 'car', 'Distance': 1674.7225000000005, 'RelativeDistance': 0.3093413477819168, 'Status': 'OnTrack', 'X': 6588, 'Y': 5714, 'Z': -10}, {'Date': Timestamp('2021-03-27 15:59:34.435000'), 'SessionTime': Timedelta('0 days 01:14:34.050000'), 'DriverAhead': '10', 'DistanceToDriverAhead': 319.8197222222202, 'Time': Timedelta('0 days 00:00:26.969000'), 'RPM': 11801, 'Speed': 227, 'nGear': 5, 'Throttle': 100, 'Brake': False, 'DRS': 8, 'Source': 'car', 'Distance': 1689.855833333334, 'RelativeDistance': 0.3121366560970355, 'Status': 'OnTrack', 'X': 6471, 'Y': 5623, 'Z': -12}, {'Date': Timestamp('2021-03-27 15:59:34.675000'), 'SessionTime': Timedelta('0 days 01:14:34.290000'), 'DriverAhead': '10', 'DistanceToDriverAhead': 320.1530555555539, 'Time': Timedelta('0 days 00:00:27.209000'), 'RPM': 11933, 'Speed': 232, 'nGear': 5, 'Throttle': 100, 'Brake': False, 'DRS': 8, 'Source': 'car', 'Distance': 1705.3225000000004, 'RelativeDistance': 0.31499353507988803, 'Status': 'OnTrack', 'X': 6355, 'Y': 5525, 'Z': -14}, {'Date': Timestamp('2021-03-27 15:59:34.915000'), 'SessionTime': Timedelta('0 days 01:14:34.530000'), 'DriverAhead': '10', 'DistanceToDriverAhead': 320.61972222222016, 'Time': Timedelta('0 days 00:00:27.449000'), 'RPM': 11068, 'Speed': 234, 'nGear': 6, 'Throttle': 100, 'Brake': False, 'DRS': 8, 'Source': 'car', 'Distance': 1720.9225000000006, 'RelativeDistance': 0.3178750423298342, 'Status': 'OnTrack', 'X': 6241, 'Y': 5417, 'Z': -15}, {'Date': Timestamp('2021-03-27 15:59:35.155000'), 'SessionTime': Timedelta('0 days 01:14:34.770000'), 'DriverAhead': '10', 'DistanceToDriverAhead': 320.75305555555383, 'Time': Timedelta('0 days 00:00:27.689000'), 'RPM': 11061, 'Speed': 242, 'nGear': 6, 'Throttle': 100, 'Brake': False, 'DRS': 8, 'Source': 'car', 'Distance': 1737.0558333333338, 'RelativeDistance': 0.3208550626481545, 'Status': 'OnTrack', 'X': 6145, 'Y': 5312, 'Z': -18}, {'Date': Timestamp('2021-03-27 15:59:35.356000'), 'SessionTime': Timedelta('0 days 01:14:34.971000'), 'DriverAhead': '10', 'DistanceToDriverAhead': 320.92055555555385, 'Time': Timedelta('0 days 00:00:27.890000'), 'RPM': 11225, 'Speed': 246, 'nGear': 6, 'Throttle': 100, 'Brake': False, 'DRS': 8, 'Source': 'car', 'Distance': 1750.790833333334, 'RelativeDistance': 0.32339208201212954, 'Status': 'OnTrack', 'X': 6063, 'Y': 5215, 'Z': -20}, {'Date': Timestamp('2021-03-27 15:59:35.596000'), 'SessionTime': Timedelta('0 days 01:14:35.211000'), 'DriverAhead': '10', 'DistanceToDriverAhead': 320.9872222222209, 'Time': Timedelta('0 days 00:00:28.130000'), 'RPM': 11303, 'Speed': 250, 'nGear': 6, 'Throttle': 100, 'Brake': False, 'DRS': 8, 'Source': 'car', 'Distance': 1767.4575000000004, 'RelativeDistance': 0.3264706153988241, 'Status': 'OnTrack', 'X': 5962, 'Y': 5081, 'Z': -22}, {'Date': Timestamp('2021-03-27 15:59:35.836000'), 'SessionTime': Timedelta('0 days 01:14:35.451000'), 'DriverAhead': '10', 'DistanceToDriverAhead': 321.05388888888706, 'Time': Timedelta('0 days 00:00:28.370000'), 'RPM': 11668, 'Speed': 254, 'nGear': 6, 'Throttle': 100, 'Brake': False, 'DRS': 8, 'Source': 'car', 'Distance': 1784.3908333333338, 'RelativeDistance': 0.3295984053197058, 'Status': 'OnTrack', 'X': 5867, 'Y': 4942, 'Z': -24}, {'Date': Timestamp('2021-03-27 15:59:36.075000'), 'SessionTime': Timedelta('0 days 01:14:35.690000'), 'DriverAhead': '10', 'DistanceToDriverAhead': 321.18666666666513, 'Time': Timedelta('0 days 00:00:28.609000'), 'RPM': 11727, 'Speed': 257, 'nGear': 6, 'Throttle': 100, 'Brake': False, 'DRS': 8, 'Source': 'car', 'Distance': 1801.4527777777782, 'RelativeDistance': 0.3327499512565548, 'Status': 'OnTrack', 'X': 5778, 'Y': 4796, 'Z': -26}, {'Date': Timestamp('2021-03-27 15:59:36.315000'), 'SessionTime': Timedelta('0 days 01:14:35.930000'), 'DriverAhead': '10', 'DistanceToDriverAhead': 321.3199999999981, 'Time': Timedelta('0 days 00:00:28.849000'), 'RPM': 11845, 'Speed': 260, 'nGear': 6, 'Throttle': 94, 'Brake': True, 'DRS': 8, 'Source': 'car', 'Distance': 1818.7861111111115, 'RelativeDistance': 0.33595162597871714, 'Status': 'OnTrack', 'X': 5688, 'Y': 4647, 'Z': -28}, {'Date': Timestamp('2021-03-27 15:59:36.555000'), 'SessionTime': Timedelta('0 days 01:14:36.170000'), 'DriverAhead': '10', 'DistanceToDriverAhead': 320.2533333333315, 'Time': Timedelta('0 days 00:00:29.089000'), 'RPM': 11156, 'Speed': 249, 'nGear': 6, 'Throttle': 0, 'Brake': True, 'DRS': 8, 'Source': 'car', 'Distance': 1835.3861111111114, 'RelativeDistance': 0.33901784523186496, 'Status': 'OnTrack', 'X': 5592, 'Y': 4508, 'Z': -30}, {'Date': Timestamp('2021-03-27 15:59:36.795000'), 'SessionTime': Timedelta('0 days 01:14:36.410000'), 'DriverAhead': '10', 'DistanceToDriverAhead': 318.0533333333317, 'Time': Timedelta('0 days 00:00:29.329000'), 'RPM': 10511, 'Speed': 238, 'nGear': 6, 'Throttle': 0, 'Brake': True, 'DRS': 8, 'Source': 'car', 'Distance': 1851.2527777777782, 'RelativeDistance': 0.3419486090159982, 'Status': 'OnTrack', 'X': 5486, 'Y': 4390, 'Z': -32}, {'Date': Timestamp('2021-03-27 15:59:37.035000'), 'SessionTime': Timedelta('0 days 01:14:36.650000'), 'DriverAhead': '10', 'DistanceToDriverAhead': 314.4533333333318, 'Time': Timedelta('0 days 00:00:29.569000'), 'RPM': 10089, 'Speed': 225, 'nGear': 6, 'Throttle': 4, 'Brake': True, 'DRS': 8, 'Source': 'car', 'Distance': 1866.2527777777782, 'RelativeDistance': 0.3447192890640233, 'Status': 'OnTrack', 'X': 5370, 'Y': 4297, 'Z': -34}, {'Date': Timestamp('2021-03-27 15:59:37.275000'), 'SessionTime': Timedelta('0 days 01:14:36.890000'), 'DriverAhead': '10', 'DistanceToDriverAhead': 310.51999999999816, 'Time': Timedelta('0 days 00:00:29.809000'), 'RPM': 9895, 'Speed': 221, 'nGear': 6, 'Throttle': 18, 'Brake': False, 'DRS': 8, 'Source': 'car', 'Distance': 1880.9861111111115, 'RelativeDistance': 0.34744071257786135, 'Status': 'OnTrack', 'X': 5244, 'Y': 4230, 'Z': -36}, {'Date': Timestamp('2021-03-27 15:59:37.515000'), 'SessionTime': Timedelta('0 days 01:14:37.130000'), 'DriverAhead': '10', 'DistanceToDriverAhead': 305.25333333333174, 'Time': Timedelta('0 days 00:00:30.049000'), 'RPM': 9709, 'Speed': 212, 'nGear': 6, 'Throttle': 55, 'Brake': False, 'DRS': 8, 'Source': 'car', 'Distance': 1895.1194444444448, 'RelativeDistance': 0.3500513088897783, 'Status': 'OnTrack', 'X': 5109, 'Y': 4191, 'Z': -39}, {'Date': Timestamp('2021-03-27 15:59:37.755000'), 'SessionTime': Timedelta('0 days 01:14:37.370000'), 'DriverAhead': '10', 'DistanceToDriverAhead': 299.1866666666649, 'Time': Timedelta('0 days 00:00:30.289000'), 'RPM': 9854, 'Speed': 213, 'nGear': 6, 'Throttle': 77, 'Brake': False, 'DRS': 8, 'Source': 'car', 'Distance': 1909.3194444444448, 'RelativeDistance': 0.3526742193352421, 'Status': 'OnTrack', 'X': 4962, 'Y': 4178, 'Z': -42}, {'Date': Timestamp('2021-03-27 15:59:37.995000'), 'SessionTime': Timedelta('0 days 01:14:37.610000'), 'DriverAhead': '10', 'DistanceToDriverAhead': 292.45333333333156, 'Time': Timedelta('0 days 00:00:30.529000'), 'RPM': 10008, 'Speed': 215, 'nGear': 6, 'Throttle': 96, 'Brake': False, 'DRS': 8, 'Source': 'car', 'Distance': 1923.652777777778, 'RelativeDistance': 0.3553217580477994, 'Status': 'OnTrack', 'X': 4810, 'Y': 4180, 'Z': -44}, {'Date': Timestamp('2021-03-27 15:59:38.235000'), 'SessionTime': Timedelta('0 days 01:14:37.850000'), 'DriverAhead': '10', 'DistanceToDriverAhead': 284.7866666666646, 'Time': Timedelta('0 days 00:00:30.769000'), 'RPM': 10253, 'Speed': 218, 'nGear': 6, 'Throttle': 100, 'Brake': False, 'DRS': 8, 'Source': 'car', 'Distance': 1938.1861111111114, 'RelativeDistance': 0.3580062391609971, 'Status': 'OnTrack', 'X': 4659, 'Y': 4187, 'Z': -48}, {'Date': Timestamp('2021-03-27 15:59:38.475000'), 'SessionTime': Timedelta('0 days 01:14:38.090000'), 'DriverAhead': '10', 'DistanceToDriverAhead': 276.25333333333106, 'Time': Timedelta('0 days 00:00:31.009000'), 'RPM': 10391, 'Speed': 227, 'nGear': 6, 'Throttle': 100, 'Brake': False, 'DRS': 8, 'Source': 'car', 'Distance': 1953.3194444444448, 'RelativeDistance': 0.3608015474761158, 'Status': 'OnTrack', 'X': 4508, 'Y': 4188, 'Z': -53}, {'Date': Timestamp('2021-03-27 15:59:38.715000'), 'SessionTime': Timedelta('0 days 01:14:38.330000'), 'DriverAhead': '10', 'DistanceToDriverAhead': 266.9199999999978, 'Time': Timedelta('0 days 00:00:31.249000'), 'RPM': 10510, 'Speed': 231, 'nGear': 6, 'Throttle': 75, 'Brake': False, 'DRS': 8, 'Source': 'car', 'Distance': 1968.7194444444447, 'RelativeDistance': 0.36364611232542154, 'Status': 'OnTrack', 'X': 4383, 'Y': 4177, 'Z': -56}, {'Date': Timestamp('2021-03-27 15:59:38.955000'), 'SessionTime': Timedelta('0 days 01:14:38.570000'), 'DriverAhead': '10', 'DistanceToDriverAhead': 257.1866666666642, 'Time': Timedelta('0 days 00:00:31.489000'), 'RPM': 10520, 'Speed': 231, 'nGear': 6, 'Throttle': 65, 'Brake': False, 'DRS': 8, 'Source': 'car', 'Distance': 1984.1194444444448, 'RelativeDistance': 0.3664906771747274, 'Status': 'OnTrack', 'X': 4236, 'Y': 4151, 'Z': -61}, {'Date': Timestamp('2021-03-27 15:59:39.235000'), 'SessionTime': Timedelta('0 days 01:14:38.850000'), 'DriverAhead': '10', 'DistanceToDriverAhead': 245.51999999999794, 'Time': Timedelta('0 days 00:00:31.769000'), 'RPM': 10799, 'Speed': 231, 'nGear': 6, 'Throttle': 79, 'Brake': False, 'DRS': 8, 'Source': 'car', 'Distance': 2002.0861111111112, 'RelativeDistance': 0.3698093361655841, 'Status': 'OnTrack', 'X': 4068, 'Y': 4094, 'Z': -67}, {'Date': Timestamp('2021-03-27 15:59:39.475000'), 'SessionTime': Timedelta('0 days 01:14:39.090000'), 'DriverAhead': '10', 'DistanceToDriverAhead': 235.11999999999762, 'Time': Timedelta('0 days 00:00:32.009000'), 'RPM': 10859, 'Speed': 234, 'nGear': 6, 'Throttle': 100, 'Brake': False, 'DRS': 8, 'Source': 'car', 'Distance': 2017.6861111111114, 'RelativeDistance': 0.3726908434155302, 'Status': 'OnTrack', 'X': 3929, 'Y': 4024, 'Z': -73}, {'Date': Timestamp('2021-03-27 15:59:39.715000'), 'SessionTime': Timedelta('0 days 01:14:39.330000'), 'DriverAhead': '10', 'DistanceToDriverAhead': 224.25333333333083, 'Time': Timedelta('0 days 00:00:32.249000'), 'RPM': 10957, 'Speed': 238, 'nGear': 6, 'Throttle': 100, 'Brake': False, 'DRS': 8, 'Source': 'car', 'Distance': 2033.5527777777781, 'RelativeDistance': 0.3756216071996635, 'Status': 'OnTrack', 'X': 3798, 'Y': 3937, 'Z': -80}, {'Date': Timestamp('2021-03-27 15:59:39.995000'), 'SessionTime': Timedelta('0 days 01:14:39.610000'), 'DriverAhead': '10', 'DistanceToDriverAhead': 211.65333333333092, 'Time': Timedelta('0 days 00:00:32.529000'), 'RPM': 11112, 'Speed': 242, 'nGear': 6, 'Throttle': 100, 'Brake': False, 'DRS': 8, 'Source': 'car', 'Distance': 2052.3750000000005, 'RelativeDistance': 0.37909829757103725, 'Status': 'OnTrack', 'X': 3657, 'Y': 3810, 'Z': -90}, {'Date': Timestamp('2021-03-27 15:59:40.235000'), 'SessionTime': Timedelta('0 days 01:14:39.850000'), 'DriverAhead': '10', 'DistanceToDriverAhead': 201.11999999999762, 'Time': Timedelta('0 days 00:00:32.769000'), 'RPM': 11300, 'Speed': 246, 'nGear': 6, 'Throttle': 100, 'Brake': False, 'DRS': 8, 'Source': 'car', 'Distance': 2068.775, 'RelativeDistance': 0.38212757442354467, 'Status': 'OnTrack', 'X': 3549, 'Y': 3682, 'Z': -100}, {'Date': Timestamp('2021-03-27 15:59:40.475000'), 'SessionTime': Timedelta('0 days 01:14:40.090000'), 'DriverAhead': '10', 'DistanceToDriverAhead': 190.38666666666404, 'Time': Timedelta('0 days 00:00:33.009000'), 'RPM': 11672, 'Speed': 249, 'nGear': 6, 'Throttle': 100, 'Brake': False, 'DRS': 8, 'Source': 'car', 'Distance': 2085.3750000000005, 'RelativeDistance': 0.38519379367669254, 'Status': 'OnTrack', 'X': 3451, 'Y': 3542, 'Z': -109}, {'Date': Timestamp('2021-03-27 15:59:40.715000'), 'SessionTime': Timedelta('0 days 01:14:40.330000'), 'DriverAhead': '10', 'DistanceToDriverAhead': 179.91999999999734, 'Time': Timedelta('0 days 00:00:33.249000'), 'RPM': 11688, 'Speed': 254, 'nGear': 6, 'Throttle': 100, 'Brake': False, 'DRS': 8, 'Source': 'car', 'Distance': 2102.308333333334, 'RelativeDistance': 0.38832158359757424, 'Status': 'OnTrack', 'X': 3358, 'Y': 3396, 'Z': -115}, {'Date': Timestamp('2021-03-27 15:59:40.955000'), 'SessionTime': Timedelta('0 days 01:14:40.570000'), 'DriverAhead': '10', 'DistanceToDriverAhead': 169.85333333333074, 'Time': Timedelta('0 days 00:00:33.489000'), 'RPM': 11796, 'Speed': 259, 'nGear': 6, 'Throttle': 100, 'Brake': False, 'DRS': 8, 'Source': 'car', 'Distance': 2119.5750000000003, 'RelativeDistance': 0.39151094418618976, 'Status': 'OnTrack', 'X': 3270, 'Y': 3247, 'Z': -123}, {'Date': Timestamp('2021-03-27 15:59:41.195000'), 'SessionTime': Timedelta('0 days 01:14:40.810000'), 'DriverAhead': '10', 'DistanceToDriverAhead': 160.11999999999762, 'Time': Timedelta('0 days 00:00:33.729000'), 'RPM': 11667, 'Speed': 262, 'nGear': 6, 'Throttle': 58, 'Brake': True, 'DRS': 8, 'Source': 'car', 'Distance': 2137.041666666667, 'RelativeDistance': 0.39473724717544567, 'Status': 'OnTrack', 'X': 3182, 'Y': 3097, 'Z': -132}, {'Date': Timestamp('2021-03-27 15:59:41.435000'), 'SessionTime': Timedelta('0 days 01:14:41.050000'), 'DriverAhead': '10', 'DistanceToDriverAhead': 153.38666666666404, 'Time': Timedelta('0 days 00:00:33.969000'), 'RPM': 10756, 'Speed': 231, 'nGear': 6, 'Throttle': 0, 'Brake': True, 'DRS': 8, 'Source': 'car', 'Distance': 2152.441666666667, 'RelativeDistance': 0.3975818120247515, 'Status': 'OnTrack', 'X': 3095, 'Y': 2951, 'Z': -138}, {'Date': Timestamp('2021-03-27 15:59:41.675000'), 'SessionTime': Timedelta('0 days 01:14:41.290000'), 'DriverAhead': '10', 'DistanceToDriverAhead': 149.11999999999716, 'Time': Timedelta('0 days 00:00:34.209000'), 'RPM': 10426, 'Speed': 206, 'nGear': 6, 'Throttle': 0, 'Brake': True, 'DRS': 8, 'Source': 'car', 'Distance': 2166.1750000000006, 'RelativeDistance': 0.4001185235353879, 'Status': 'OnTrack', 'X': 3021, 'Y': 2839, 'Z': -141}, {'Date': Timestamp('2021-03-27 15:59:41.915000'), 'SessionTime': Timedelta('0 days 01:14:41.530000'), 'DriverAhead': '10', 'DistanceToDriverAhead': 147.11999999999716, 'Time': Timedelta('0 days 00:00:34.449000'), 'RPM': 10679, 'Speed': 183, 'nGear': 5, 'Throttle': 0, 'Brake': True, 'DRS': 8, 'Source': 'car', 'Distance': 2178.3750000000005, 'RelativeDistance': 0.4023720099744483, 'Status': 'OnTrack', 'X': 2969, 'Y': 2768, 'Z': -144}, {'Date': Timestamp('2021-03-27 15:59:42.116000'), 'SessionTime': Timedelta('0 days 01:14:41.731000'), 'DriverAhead': '10', 'DistanceToDriverAhead': 147.11999999999716, 'Time': Timedelta('0 days 00:00:34.650000'), 'RPM': 9728, 'Speed': 163, 'nGear': 4, 'Throttle': 0, 'Brake': True, 'DRS': 8, 'Source': 'car', 'Distance': 2187.475833333334, 'RelativeDistance': 0.40405304313025286, 'Status': 'OnTrack', 'X': 2907, 'Y': 2690, 'Z': -146}, {'Date': Timestamp('2021-03-27 15:59:42.356000'), 'SessionTime': Timedelta('0 days 01:14:41.971000'), 'DriverAhead': '10', 'DistanceToDriverAhead': 149.65333333333047, 'Time': Timedelta('0 days 00:00:34.890000'), 'RPM': 9850, 'Speed': 139, 'nGear': 3, 'Throttle': 0, 'Brake': True, 'DRS': 8, 'Source': 'car', 'Distance': 2196.7425000000007, 'RelativeDistance': 0.40576470769325507, 'Status': 'OnTrack', 'X': 2845, 'Y': 2615, 'Z': -148}, {'Date': Timestamp('2021-03-27 15:59:42.596000'), 'SessionTime': Timedelta('0 days 01:14:42.211000'), 'DriverAhead': '10', 'DistanceToDriverAhead': 153.58666666666386, 'Time': Timedelta('0 days 00:00:35.130000'), 'RPM': 8714, 'Speed': 126, 'nGear': 3, 'Throttle': 0, 'Brake': True, 'DRS': 8, 'Source': 'car', 'Distance': 2205.142500000001, 'RelativeDistance': 0.4073162885201492, 'Status': 'OnTrack', 'X': 2786, 'Y': 2553, 'Z': -149}, {'Date': Timestamp('2021-03-27 15:59:42.835000'), 'SessionTime': Timedelta('0 days 01:14:42.450000'), 'DriverAhead': '10', 'DistanceToDriverAhead': 158.9641666666639, 'Time': Timedelta('0 days 00:00:35.369000'), 'RPM': 7945, 'Speed': 112, 'nGear': 3, 'Throttle': 0, 'Brake': True, 'DRS': 8, 'Source': 'car', 'Distance': 2212.578055555556, 'RelativeDistance': 0.40868972488173316, 'Status': 'OnTrack', 'X': 2731, 'Y': 2509, 'Z': -150}, {'Date': Timestamp('2021-03-27 15:59:43.075000'), 'SessionTime': Timedelta('0 days 01:14:42.690000'), 'DriverAhead': '10', 'DistanceToDriverAhead': 165.56416666666382, 'Time': Timedelta('0 days 00:00:35.609000'), 'RPM': 7249, 'Speed': 104, 'nGear': 3, 'Throttle': 0, 'Brake': True, 'DRS': 8, 'Source': 'car', 'Distance': 2219.5113888888895, 'RelativeDistance': 0.4099703947705981, 'Status': 'OnTrack', 'X': 2673, 'Y': 2478, 'Z': -150}, {'Date': Timestamp('2021-03-27 15:59:43.315000'), 'SessionTime': Timedelta('0 days 01:14:42.930000'), 'DriverAhead': '10', 'DistanceToDriverAhead': 172.83083333333025, 'Time': Timedelta('0 days 00:00:35.849000'), 'RPM': 6889, 'Speed': 101, 'nGear': 3, 'Throttle': 0, 'Brake': True, 'DRS': 8, 'Source': 'car', 'Distance': 2226.2447222222227, 'RelativeDistance': 0.41121412225882265, 'Status': 'OnTrack', 'X': 2611, 'Y': 2457, 'Z': -151}, {'Date': Timestamp('2021-03-27 15:59:43.555000'), 'SessionTime': Timedelta('0 days 01:14:43.170000'), 'DriverAhead': '10', 'DistanceToDriverAhead': 181.23083333333034, 'Time': Timedelta('0 days 00:00:36.089000'), 'RPM': 6314, 'Speed': 92, 'nGear': 3, 'Throttle': 0, 'Brake': True, 'DRS': 8, 'Source': 'car', 'Distance': 2232.378055555556, 'RelativeDistance': 0.41234702254512623, 'Status': 'OnTrack', 'X': 2552, 'Y': 2450, 'Z': -152}, {'Date': Timestamp('2021-03-27 15:59:43.795000'), 'SessionTime': Timedelta('0 days 01:14:43.410000'), 'DriverAhead': '10', 'DistanceToDriverAhead': 190.16416666666373, 'Time': Timedelta('0 days 00:00:36.329000'), 'RPM': 6183, 'Speed': 89, 'nGear': 3, 'Throttle': 0, 'Brake': False, 'DRS': 8, 'Source': 'car', 'Distance': 2238.3113888888893, 'RelativeDistance': 0.41344298043078953, 'Status': 'OnTrack', 'X': 2499, 'Y': 2454, 'Z': -153}, {'Date': Timestamp('2021-03-27 15:59:44.035000'), 'SessionTime': Timedelta('0 days 01:14:43.650000'), 'DriverAhead': '10', 'DistanceToDriverAhead': 199.9641666666639, 'Time': Timedelta('0 days 00:00:36.569000'), 'RPM': 5972, 'Speed': 83, 'nGear': 3, 'Throttle': 0, 'Brake': False, 'DRS': 8, 'Source': 'car', 'Distance': 2243.8447222222226, 'RelativeDistance': 0.4144650535151721, 'Status': 'OnTrack', 'X': 2454, 'Y': 2470, 'Z': -153}, {'Date': Timestamp('2021-03-27 15:59:44.275000'), 'SessionTime': Timedelta('0 days 01:14:43.890000'), 'DriverAhead': '10', 'DistanceToDriverAhead': 210.2974999999974, 'Time': Timedelta('0 days 00:00:36.809000'), 'RPM': 6324, 'Speed': 80, 'nGear': 3, 'Throttle': 0, 'Brake': False, 'DRS': 8, 'Source': 'car', 'Distance': 2249.1780555555556, 'RelativeDistance': 0.41545018419891433, 'Status': 'OnTrack', 'X': 2416, 'Y': 2502, 'Z': -152}, {'Date': Timestamp('2021-03-27 15:59:44.515000'), 'SessionTime': Timedelta('0 days 01:14:44.130000'), 'DriverAhead': '10', 'DistanceToDriverAhead': 220.8974999999973, 'Time': Timedelta('0 days 00:00:37.049000'), 'RPM': 6208, 'Speed': 80, 'nGear': 3, 'Throttle': 20, 'Brake': False, 'DRS': 8, 'Source': 'car', 'Distance': 2254.511388888889, 'RelativeDistance': 0.4164353148826566, 'Status': 'OnTrack', 'X': 2382, 'Y': 2547, 'Z': -153}, {'Date': Timestamp('2021-03-27 15:59:44.755000'), 'SessionTime': Timedelta('0 days 01:14:44.370000'), 'DriverAhead': '10', 'DistanceToDriverAhead': 231.6974999999975, 'Time': Timedelta('0 days 00:00:37.289000'), 'RPM': 6559, 'Speed': 83, 'nGear': 3, 'Throttle': 28, 'Brake': False, 'DRS': 8, 'Source': 'car', 'Distance': 2260.0447222222224, 'RelativeDistance': 0.41745738796703924, 'Status': 'OnTrack', 'X': 2353, 'Y': 2599, 'Z': -153}, {'Date': Timestamp('2021-03-27 15:59:44.995000'), 'SessionTime': Timedelta('0 days 01:14:44.610000'), 'DriverAhead': '10', 'DistanceToDriverAhead': 242.4308333333306, 'Time': Timedelta('0 days 00:00:37.529000'), 'RPM': 6808, 'Speed': 87, 'nGear': 3, 'Throttle': 40, 'Brake': False, 'DRS': 8, 'Source': 'car', 'Distance': 2265.8447222222226, 'RelativeDistance': 0.41852871758560894, 'Status': 'OnTrack', 'X': 2329, 'Y': 2656, 'Z': -152}, {'Date': Timestamp('2021-03-27 15:59:45.235000'), 'SessionTime': Timedelta('0 days 01:14:44.850000'), 'DriverAhead': '10', 'DistanceToDriverAhead': 253.03083333333052, 'Time': Timedelta('0 days 00:00:37.769000'), 'RPM': 7366, 'Speed': 95, 'nGear': 3, 'Throttle': 43, 'Brake': False, 'DRS': 8, 'Source': 'car', 'Distance': 2272.1780555555556, 'RelativeDistance': 0.41969856027255287, 'Status': 'OnTrack', 'X': 2309, 'Y': 2716, 'Z': -151}, {'Date': Timestamp('2021-03-27 15:59:45.475000'), 'SessionTime': Timedelta('0 days 01:14:45.090000'), 'DriverAhead': '10', 'DistanceToDriverAhead': 263.36416666666355, 'Time': Timedelta('0 days 00:00:38.009000'), 'RPM': 8001, 'Speed': 101, 'nGear': 3, 'Throttle': 56, 'Brake': False, 'DRS': 8, 'Source': 'car', 'Distance': 2278.911388888889, 'RelativeDistance': 0.4209422877607775, 'Status': 'OnTrack', 'X': 2296, 'Y': 2781, 'Z': -151}, {'Date': Timestamp('2021-03-27 15:59:45.715000'), 'SessionTime': Timedelta('0 days 01:14:45.330000'), 'DriverAhead': '10', 'DistanceToDriverAhead': 273.43083333333016, 'Time': Timedelta('0 days 00:00:38.249000'), 'RPM': 8166, 'Speed': 108, 'nGear': 3, 'Throttle': 61, 'Brake': False, 'DRS': 8, 'Source': 'car', 'Distance': 2286.1113888888895, 'RelativeDistance': 0.4222722141838296, 'Status': 'OnTrack', 'X': 2287, 'Y': 2853, 'Z': -150}, {'Date': Timestamp('2021-03-27 15:59:45.955000'), 'SessionTime': Timedelta('0 days 01:14:45.570000'), 'DriverAhead': '10', 'DistanceToDriverAhead': 282.6974999999966, 'Time': Timedelta('0 days 00:00:38.489000'), 'RPM': 9493, 'Speed': 121, 'nGear': 3, 'Throttle': 81, 'Brake': False, 'DRS': 8, 'Source': 'car', 'Distance': 2294.178055555556, 'RelativeDistance': 0.42376222434298977, 'Status': 'OnTrack', 'X': 2284, 'Y': 2931, 'Z': -148}, {'Date': Timestamp('2021-03-27 15:59:46.195000'), 'SessionTime': Timedelta('0 days 01:14:45.810000'), 'DriverAhead': '10', 'DistanceToDriverAhead': 291.3641666666631, 'Time': Timedelta('0 days 00:00:38.729000'), 'RPM': 10638, 'Speed': 133, 'nGear': 3, 'Throttle': 100, 'Brake': False, 'DRS': 8, 'Source': 'car', 'Distance': 2303.044722222223, 'RelativeDistance': 0.4254000041047113, 'Status': 'OnTrack', 'X': 2288, 'Y': 3017, 'Z': -147}, {'Date': Timestamp('2021-03-27 15:59:46.435000'), 'SessionTime': Timedelta('0 days 01:14:46.050000'), 'DriverAhead': '10', 'DistanceToDriverAhead': 298.63083333333, 'Time': Timedelta('0 days 00:00:38.969000'), 'RPM': 11507, 'Speed': 150, 'nGear': 3, 'Throttle': 100, 'Brake': False, 'DRS': 8, 'Source': 'car', 'Distance': 2313.044722222223, 'RelativeDistance': 0.42724712413672805, 'Status': 'OnTrack', 'X': 2299, 'Y': 3112, 'Z': -144}, {'Date': Timestamp('2021-03-27 15:59:46.675000'), 'SessionTime': Timedelta('0 days 01:14:46.290000'), 'DriverAhead': '10', 'DistanceToDriverAhead': 303.7641666666632, 'Time': Timedelta('0 days 00:00:39.209000'), 'RPM': 12073, 'Speed': 161, 'nGear': 3, 'Throttle': 100, 'Brake': False, 'DRS': 8, 'Source': 'car', 'Distance': 2323.7780555555564, 'RelativeDistance': 0.4292296996377594, 'Status': 'OnTrack', 'X': 2315, 'Y': 3216, 'Z': -141}, {'Date': Timestamp('2021-03-27 15:59:46.915000'), 'SessionTime': Timedelta('0 days 01:14:46.530000'), 'DriverAhead': '10', 'DistanceToDriverAhead': 306.7641666666632, 'Time': Timedelta('0 days 00:00:39.449000'), 'RPM': 11817, 'Speed': 169, 'nGear': 3, 'Throttle': 100, 'Brake': False, 'DRS': 8, 'Source': 'car', 'Distance': 2335.044722222223, 'RelativeDistance': 0.4313107882071649, 'Status': 'OnTrack', 'X': 2334, 'Y': 3326, 'Z': -138}, {'Date': Timestamp('2021-03-27 15:59:47.155000'), 'SessionTime': Timedelta('0 days 01:14:46.770000'), 'DriverAhead': '10', 'DistanceToDriverAhead': 306.6974999999966, 'Time': Timedelta('0 days 00:00:39.689000'), 'RPM': 11324, 'Speed': 182, 'nGear': 4, 'Throttle': 100, 'Brake': False, 'DRS': 8, 'Source': 'car', 'Distance': 2347.178055555556, 'RelativeDistance': 0.4335519605126785, 'Status': 'OnTrack', 'X': 2357, 'Y': 3440, 'Z': -134}, {'Date': Timestamp('2021-03-27 15:59:47.395000'), 'SessionTime': Timedelta('0 days 01:14:47.010000'), 'DriverAhead': '10', 'DistanceToDriverAhead': 304.8974999999964, 'Time': Timedelta('0 days 00:00:39.929000'), 'RPM': 11762, 'Speed': 190, 'nGear': 4, 'Throttle': 100, 'Brake': False, 'DRS': 8, 'Source': 'car', 'Distance': 2359.844722222223, 'RelativeDistance': 0.4358916458865665, 'Status': 'OnTrack', 'X': 2384, 'Y': 3561, 'Z': -130}, {'Date': Timestamp('2021-03-27 15:59:47.635000'), 'SessionTime': Timedelta('0 days 01:14:47.250000'), 'DriverAhead': '10', 'DistanceToDriverAhead': 300.8308333333298, 'Time': Timedelta('0 days 00:00:40.169000'), 'RPM': 12010, 'Speed': 200, 'nGear': 4, 'Throttle': 100, 'Brake': False, 'DRS': 8, 'Source': 'car', 'Distance': 2373.178055555556, 'RelativeDistance': 0.4383544725959221, 'Status': 'OnTrack', 'X': 2412, 'Y': 3688, 'Z': -125}, {'Date': Timestamp('2021-03-27 15:59:47.875000'), 'SessionTime': Timedelta('0 days 01:14:47.490000'), 'DriverAhead': '10', 'DistanceToDriverAhead': 295.6974999999961, 'Time': Timedelta('0 days 00:00:40.409000'), 'RPM': 10781, 'Speed': 205, 'nGear': 4, 'Throttle': 100, 'Brake': False, 'DRS': 8, 'Source': 'car', 'Distance': 2386.844722222223, 'RelativeDistance': 0.4408788699730117, 'Status': 'OnTrack', 'X': 2442, 'Y': 3819, 'Z': -121}, {'Date': Timestamp('2021-03-27 15:59:48.115000'), 'SessionTime': Timedelta('0 days 01:14:47.730000'), 'DriverAhead': '10', 'DistanceToDriverAhead': 289.43083333332925, 'Time': Timedelta('0 days 00:00:40.649000'), 'RPM': 11124, 'Speed': 212, 'nGear': 5, 'Throttle': 100, 'Brake': False, 'DRS': 8, 'Source': 'car', 'Distance': 2400.9780555555567, 'RelativeDistance': 0.44348946628492875, 'Status': 'OnTrack', 'X': 2471, 'Y': 3955, 'Z': -117}, {'Date': Timestamp('2021-03-27 15:59:48.355000'), 'SessionTime': Timedelta('0 days 01:14:47.970000'), 'DriverAhead': '10', 'DistanceToDriverAhead': 281.8308333333289, 'Time': Timedelta('0 days 00:00:40.889000'), 'RPM': 11502, 'Speed': 220, 'nGear': 5, 'Throttle': 100, 'Brake': False, 'DRS': 8, 'Source': 'car', 'Distance': 2415.6447222222237, 'RelativeDistance': 0.44619857566522003, 'Status': 'OnTrack', 'X': 2501, 'Y': 4097, 'Z': -114}, {'Date': Timestamp('2021-03-27 15:59:48.556000'), 'SessionTime': Timedelta('0 days 01:14:48.171000'), 'DriverAhead': '10', 'DistanceToDriverAhead': 274.96333333332905, 'Time': Timedelta('0 days 00:00:41.090000'), 'RPM': 11795, 'Speed': 222, 'nGear': 5, 'Throttle': 100, 'Brake': False, 'DRS': 8, 'Source': 'car', 'Distance': 2428.0397222222236, 'RelativeDistance': 0.4484880809449048, 'Status': 'OnTrack', 'X': 2530, 'Y': 4217, 'Z': -111}, {'Date': Timestamp('2021-03-27 15:59:48.796000'), 'SessionTime': Timedelta('0 days 01:14:48.411000'), 'DriverAhead': '10', 'DistanceToDriverAhead': 266.02999999999565, 'Time': Timedelta('0 days 00:00:41.330000'), 'RPM': 11272, 'Speed': 227, 'nGear': 5, 'Throttle': 100, 'Brake': False, 'DRS': 8, 'Source': 'car', 'Distance': 2443.173055555557, 'RelativeDistance': 0.4512833892600235, 'Status': 'OnTrack', 'X': 2565, 'Y': 4363, 'Z': -109}, {'Date': Timestamp('2021-03-27 15:59:49.036000'), 'SessionTime': Timedelta('0 days 01:14:48.651000'), 'DriverAhead': '10', 'DistanceToDriverAhead': 256.22999999999547, 'Time': Timedelta('0 days 00:00:41.570000'), 'RPM': 10703, 'Speed': 235, 'nGear': 6, 'Throttle': 100, 'Brake': False, 'DRS': 8, 'Source': 'car', 'Distance': 2458.839722222224, 'RelativeDistance': 0.4541772106435164, 'Status': 'OnTrack', 'X': 2599, 'Y': 4513, 'Z': -107}, {'Date': Timestamp('2021-03-27 15:59:49.276000'), 'SessionTime': Timedelta('0 days 01:14:48.891000'), 'DriverAhead': '10', 'DistanceToDriverAhead': 245.9633333333286, 'Time': Timedelta('0 days 00:00:41.810000'), 'RPM': 10929, 'Speed': 239, 'nGear': 6, 'Throttle': 100, 'Brake': False, 'DRS': 8, 'Source': 'car', 'Distance': 2474.773055555557, 'RelativeDistance': 0.45712028856119646, 'Status': 'OnTrack', 'X': 2631, 'Y': 4667, 'Z': -104}, {'Date': Timestamp('2021-03-27 15:59:49.515000'), 'SessionTime': Timedelta('0 days 01:14:49.130000'), 'DriverAhead': '10', 'DistanceToDriverAhead': 235.14194444444, 'Time': Timedelta('0 days 00:00:42.049000'), 'RPM': 11073, 'Speed': 243, 'nGear': 6, 'Throttle': 100, 'Brake': False, 'DRS': 8, 'Source': 'car', 'Distance': 2490.905555555557, 'RelativeDistance': 0.4601001549528474, 'Status': 'OnTrack', 'X': 2662, 'Y': 4824, 'Z': -104}, {'Date': Timestamp('2021-03-27 15:59:49.755000'), 'SessionTime': Timedelta('0 days 01:14:49.370000'), 'DriverAhead': '10', 'DistanceToDriverAhead': 223.4752777777735, 'Time': Timedelta('0 days 00:00:42.289000'), 'RPM': 11275, 'Speed': 248, 'nGear': 6, 'Throttle': 100, 'Brake': False, 'DRS': 8, 'Source': 'car', 'Distance': 2507.4388888888902, 'RelativeDistance': 0.4631540600724484, 'Status': 'OnTrack', 'X': 2692, 'Y': 4985, 'Z': -103}, {'Date': Timestamp('2021-03-27 15:59:49.995000'), 'SessionTime': Timedelta('0 days 01:14:49.610000'), 'DriverAhead': '10', 'DistanceToDriverAhead': 211.80861111110653, 'Time': Timedelta('0 days 00:00:42.529000'), 'RPM': 11420, 'Speed': 251, 'nGear': 6, 'Throttle': 100, 'Brake': False, 'DRS': 8, 'Source': 'car', 'Distance': 2524.172222222224, 'RelativeDistance': 0.46624490759268983, 'Status': 'OnTrack', 'X': 2718, 'Y': 5149, 'Z': -104}, {'Date': Timestamp('2021-03-27 15:59:50.235000'), 'SessionTime': Timedelta('0 days 01:14:49.850000'), 'DriverAhead': '10', 'DistanceToDriverAhead': 200.3419444444403, 'Time': Timedelta('0 days 00:00:42.769000'), 'RPM': 11568, 'Speed': 255, 'nGear': 6, 'Throttle': 100, 'Brake': False, 'DRS': 8, 'Source': 'car', 'Distance': 2541.1722222222234, 'RelativeDistance': 0.4693850116471182, 'Status': 'OnTrack', 'X': 2739, 'Y': 5316, 'Z': -105}, {'Date': Timestamp('2021-03-27 15:59:50.475000'), 'SessionTime': Timedelta('0 days 01:14:50.090000'), 'DriverAhead': '10', 'DistanceToDriverAhead': 189.0086111111068, 'Time': Timedelta('0 days 00:00:43.009000'), 'RPM': 11832, 'Speed': 259, 'nGear': 6, 'Throttle': 100, 'Brake': False, 'DRS': 8, 'Source': 'car', 'Distance': 2558.4388888888902, 'RelativeDistance': 0.47257437223573384, 'Status': 'OnTrack', 'X': 2754, 'Y': 5486, 'Z': -106}, {'Date': Timestamp('2021-03-27 15:59:50.715000'), 'SessionTime': Timedelta('0 days 01:14:50.330000'), 'DriverAhead': '10', 'DistanceToDriverAhead': 178.14194444444, 'Time': Timedelta('0 days 00:00:43.249000'), 'RPM': 11894, 'Speed': 259, 'nGear': 6, 'Throttle': 100, 'Brake': False, 'DRS': 8, 'Source': 'car', 'Distance': 2575.705555555557, 'RelativeDistance': 0.4757637328243495, 'Status': 'OnTrack', 'X': 2757, 'Y': 5656, 'Z': -109}, {'Date': Timestamp('2021-03-27 15:59:50.955000'), 'SessionTime': Timedelta('0 days 01:14:50.570000'), 'DriverAhead': '10', 'DistanceToDriverAhead': 168.27527777777368, 'Time': Timedelta('0 days 00:00:43.489000'), 'RPM': 11633, 'Speed': 260, 'nGear': 6, 'Throttle': 100, 'Brake': False, 'DRS': 8, 'Source': 'car', 'Distance': 2593.03888888889, 'RelativeDistance': 0.4789654075465118, 'Status': 'OnTrack', 'X': 2741, 'Y': 5825, 'Z': -113}, {'Date': Timestamp('2021-03-27 15:59:51.195000'), 'SessionTime': Timedelta('0 days 01:14:50.810000'), 'DriverAhead': '10', 'DistanceToDriverAhead': 160.0086111111068, 'Time': Timedelta('0 days 00:00:43.729000'), 'RPM': 10975, 'Speed': 246, 'nGear': 6, 'Throttle': 0, 'Brake': True, 'DRS': 8, 'Source': 'car', 'Distance': 2609.4388888888902, 'RelativeDistance': 0.48199468439901927, 'Status': 'OnTrack', 'X': 2700, 'Y': 5988, 'Z': -116}, {'Date': Timestamp('2021-03-27 15:59:51.435000'), 'SessionTime': Timedelta('0 days 01:14:51.050000'), 'DriverAhead': '10', 'DistanceToDriverAhead': 153.94194444443974, 'Time': Timedelta('0 days 00:00:43.969000'), 'RPM': 10196, 'Speed': 228, 'nGear': 6, 'Throttle': 0, 'Brake': True, 'DRS': 8, 'Source': 'car', 'Distance': 2624.6388888888905, 'RelativeDistance': 0.48480230684768477, 'Status': 'OnTrack', 'X': 2643, 'Y': 6138, 'Z': -120}, {'Date': Timestamp('2021-03-27 15:59:51.675000'), 'SessionTime': Timedelta('0 days 01:14:51.290000'), 'DriverAhead': '10', 'DistanceToDriverAhead': 150.40861111110644, 'Time': Timedelta('0 days 00:00:44.209000'), 'RPM': 10444, 'Speed': 202, 'nGear': 5, 'Throttle': 0, 'Brake': True, 'DRS': 8, 'Source': 'car', 'Distance': 2638.105555555557, 'RelativeDistance': 0.48728976182413397, 'Status': 'OnTrack', 'X': 2577, 'Y': 6265, 'Z': -124}, {'Date': Timestamp('2021-03-27 15:59:51.915000'), 'SessionTime': Timedelta('0 days 01:14:51.530000'), 'DriverAhead': '10', 'DistanceToDriverAhead': 148.27527777777323, 'Time': Timedelta('0 days 00:00:44.449000'), 'RPM': 10697, 'Speed': 192, 'nGear': 4, 'Throttle': 0, 'Brake': True, 'DRS': 8, 'Source': 'car', 'Distance': 2650.905555555557, 'RelativeDistance': 0.48965407546511536, 'Status': 'OnTrack', 'X': 2506, 'Y': 6368, 'Z': -129}, {'Date': Timestamp('2021-03-27 15:59:52.155000'), 'SessionTime': Timedelta('0 days 01:14:51.770000'), 'DriverAhead': '10', 'DistanceToDriverAhead': 149.4086111111069, 'Time': Timedelta('0 days 00:00:44.689000'), 'RPM': 11618, 'Speed': 158, 'nGear': 4, 'Throttle': 0, 'Brake': True, 'DRS': 8, 'Source': 'car', 'Distance': 2661.4388888888902, 'RelativeDistance': 0.49159970856550633, 'Status': 'OnTrack', 'X': 2429, 'Y': 6453, 'Z': -132}, {'Date': Timestamp('2021-03-27 15:59:52.395000'), 'SessionTime': Timedelta('0 days 01:14:52.010000'), 'DriverAhead': '10', 'DistanceToDriverAhead': 152.20861111110707, 'Time': Timedelta('0 days 00:00:44.929000'), 'RPM': 10080, 'Speed': 143, 'nGear': 3, 'Throttle': 0, 'Brake': True, 'DRS': 8, 'Source': 'car', 'Distance': 2670.9722222222235, 'RelativeDistance': 0.4933606296626956, 'Status': 'OnTrack', 'X': 2355, 'Y': 6518, 'Z': -134}, {'Date': Timestamp('2021-03-27 15:59:52.635000'), 'SessionTime': Timedelta('0 days 01:14:52.250000'), 'DriverAhead': '10', 'DistanceToDriverAhead': 157.27527777777368, 'Time': Timedelta('0 days 00:00:45.169000'), 'RPM': 10321, 'Speed': 123, 'nGear': 3, 'Throttle': 0, 'Brake': True, 'DRS': 8, 'Source': 'car', 'Distance': 2679.1722222222234, 'RelativeDistance': 0.4948752680889493, 'Status': 'OnTrack', 'X': 2285, 'Y': 6566, 'Z': -136}, {'Date': Timestamp('2021-03-27 15:59:52.875000'), 'SessionTime': Timedelta('0 days 01:14:52.490000'), 'DriverAhead': '10', 'DistanceToDriverAhead': 163.60861111110717, 'Time': Timedelta('0 days 00:00:45.409000'), 'RPM': 10050, 'Speed': 112, 'nGear': 2, 'Throttle': 0, 'Brake': True, 'DRS': 8, 'Source': 'car', 'Distance': 2686.63888888889, 'RelativeDistance': 0.4962544510461885, 'Status': 'OnTrack', 'X': 2219, 'Y': 6598, 'Z': -137}, {'Date': Timestamp('2021-03-27 15:59:53.115000'), 'SessionTime': Timedelta('0 days 01:14:52.730000'), 'DriverAhead': '10', 'DistanceToDriverAhead': 171.00861111110726, 'Time': Timedelta('0 days 00:00:45.649000'), 'RPM': 8655, 'Speed': 103, 'nGear': 2, 'Throttle': 0, 'Brake': True, 'DRS': 8, 'Source': 'car', 'Distance': 2693.505555555557, 'RelativeDistance': 0.4975228068015067, 'Status': 'OnTrack', 'X': 2157, 'Y': 6617, 'Z': -137}, {'Date': Timestamp('2021-03-27 15:59:53.355000'), 'SessionTime': Timedelta('0 days 01:14:52.970000'), 'DriverAhead': '10', 'DistanceToDriverAhead': 179.80861111110698, 'Time': Timedelta('0 days 00:00:45.889000'), 'RPM': 8186, 'Speed': 93, 'nGear': 2, 'Throttle': 0, 'Brake': True, 'DRS': 8, 'Source': 'car', 'Distance': 2699.705555555557, 'RelativeDistance': 0.4986680212213571, 'Status': 'OnTrack', 'X': 2102, 'Y': 6622, 'Z': -138}, {'Date': Timestamp('2021-03-27 15:59:53.595000'), 'SessionTime': Timedelta('0 days 01:14:53.210000'), 'DriverAhead': '10', 'DistanceToDriverAhead': 189.3419444444403, 'Time': Timedelta('0 days 00:00:46.129000'), 'RPM': 7483, 'Speed': 88, 'nGear': 2, 'Throttle': 0, 'Brake': True, 'DRS': 8, 'Source': 'car', 'Distance': 2705.5722222222234, 'RelativeDistance': 0.49975166497347356, 'Status': 'OnTrack', 'X': 2051, 'Y': 6613, 'Z': -139}, {'Date': Timestamp('2021-03-27 15:59:53.835000'), 'SessionTime': Timedelta('0 days 01:14:53.450000'), 'DriverAhead': '10', 'DistanceToDriverAhead': 199.80861111110698, 'Time': Timedelta('0 days 00:00:46.369000'), 'RPM': 7085, 'Speed': 83, 'nGear': 2, 'Throttle': 0, 'Brake': False, 'DRS': 8, 'Source': 'car', 'Distance': 2711.1055555555567, 'RelativeDistance': 0.5007737380578562, 'Status': 'OnTrack', 'X': 2005, 'Y': 6592, 'Z': -139}, {'Date': Timestamp('2021-03-27 15:59:54.075000'), 'SessionTime': Timedelta('0 days 01:14:53.690000'), 'DriverAhead': '10', 'DistanceToDriverAhead': 210.74194444444038, 'Time': Timedelta('0 days 00:00:46.609000'), 'RPM': 7063, 'Speed': 82, 'nGear': 2, 'Throttle': 0, 'Brake': False, 'DRS': 8, 'Source': 'car', 'Distance': 2716.5722222222234, 'RelativeDistance': 0.501783497008692, 'Status': 'OnTrack', 'X': 1966, 'Y': 6559, 'Z': -140}, {'Date': Timestamp('2021-03-27 15:59:54.315000'), 'SessionTime': Timedelta('0 days 01:14:53.930000'), 'DriverAhead': '10', 'DistanceToDriverAhead': 222.27527777777368, 'Time': Timedelta('0 days 00:00:46.849000'), 'RPM': 7292, 'Speed': 78, 'nGear': 2, 'Throttle': 29, 'Brake': False, 'DRS': 8, 'Source': 'car', 'Distance': 2721.7722222222233, 'RelativeDistance': 0.5027439994253406, 'Status': 'OnTrack', 'X': 1934, 'Y': 6517, 'Z': -140}, {'Date': Timestamp('2021-03-27 15:59:54.555000'), 'SessionTime': Timedelta('0 days 01:14:54.170000'), 'DriverAhead': '10', 'DistanceToDriverAhead': 234.00861111110726, 'Time': Timedelta('0 days 00:00:47.089000'), 'RPM': 7907, 'Speed': 82, 'nGear': 2, 'Throttle': 30, 'Brake': False, 'DRS': 8, 'Source': 'car', 'Distance': 2727.23888888889, 'RelativeDistance': 0.5037537583761765, 'Status': 'OnTrack', 'X': 1909, 'Y': 6466, 'Z': -142}, {'Date': Timestamp('2021-03-27 15:59:54.795000'), 'SessionTime': Timedelta('0 days 01:14:54.410000'), 'DriverAhead': '10', 'DistanceToDriverAhead': 245.87527777777404, 'Time': Timedelta('0 days 00:00:47.329000'), 'RPM': 8270, 'Speed': 84, 'nGear': 2, 'Throttle': 31, 'Brake': False, 'DRS': 8, 'Source': 'car', 'Distance': 2732.83888888889, 'RelativeDistance': 0.5047881455941059, 'Status': 'OnTrack', 'X': 1889, 'Y': 6408, 'Z': -141}, {'Date': Timestamp('2021-03-27 15:59:55.035000'), 'SessionTime': Timedelta('0 days 01:14:54.650000'), 'DriverAhead': '10', 'DistanceToDriverAhead': 257.54194444444056, 'Time': Timedelta('0 days 00:00:47.569000'), 'RPM': 8949, 'Speed': 93, 'nGear': 2, 'Throttle': 47, 'Brake': False, 'DRS': 8, 'Source': 'car', 'Distance': 2739.03888888889, 'RelativeDistance': 0.5059333600139563, 'Status': 'OnTrack', 'X': 1873, 'Y': 6346, 'Z': -141}, {'Date': Timestamp('2021-03-27 15:59:55.236000'), 'SessionTime': Timedelta('0 days 01:14:54.851000'), 'DriverAhead': '10', 'DistanceToDriverAhead': 267.2011111111069, 'Time': Timedelta('0 days 00:00:47.770000'), 'RPM': 9739, 'Speed': 100, 'nGear': 2, 'Throttle': 57, 'Brake': False, 'DRS': 8, 'Source': 'car', 'Distance': 2744.6222222222236, 'RelativeDistance': 0.506964668698499, 'Status': 'OnTrack', 'X': 1862, 'Y': 6290, 'Z': -142}, {'Date': Timestamp('2021-03-27 15:59:55.476000'), 'SessionTime': Timedelta('0 days 01:14:55.091000'), 'DriverAhead': '10', 'DistanceToDriverAhead': 278.3344444444401, 'Time': Timedelta('0 days 00:00:48.010000'), 'RPM': 10530, 'Speed': 108, 'nGear': 2, 'Throttle': 67, 'Brake': False, 'DRS': 8, 'Source': 'car', 'Distance': 2751.8222222222234, 'RelativeDistance': 0.5082945951215511, 'Status': 'OnTrack', 'X': 1850, 'Y': 6218, 'Z': -141}, {'Date': Timestamp('2021-03-27 15:59:55.716000'), 'SessionTime': Timedelta('0 days 01:14:55.331000'), 'DriverAhead': '10', 'DistanceToDriverAhead': 289.5344444444404, 'Time': Timedelta('0 days 00:00:48.250000'), 'RPM': 11517, 'Speed': 112, 'nGear': 2, 'Throttle': 88, 'Brake': False, 'DRS': 8, 'Source': 'car', 'Distance': 2759.28888888889, 'RelativeDistance': 0.5096737780787902, 'Status': 'OnTrack', 'X': 1842, 'Y': 6153, 'Z': -140}, {'Date': Timestamp('2021-03-27 15:59:55.956000'), 'SessionTime': Timedelta('0 days 01:14:55.571000'), 'DriverAhead': '10', 'DistanceToDriverAhead': 299.5344444444404, 'Time': Timedelta('0 days 00:00:48.490000'), 'RPM': 11237, 'Speed': 135, 'nGear': 2, 'Throttle': 100, 'Brake': False, 'DRS': 8, 'Source': 'car', 'Distance': 2768.28888888889, 'RelativeDistance': 0.5113361861076052, 'Status': 'OnTrack', 'X': 1835, 'Y': 6093, 'Z': -140}, {'Date': Timestamp('2021-03-27 15:59:56.195000'), 'SessionTime': Timedelta('0 days 01:14:55.810000'), 'DriverAhead': '10', 'DistanceToDriverAhead': 308.9616666666625, 'Time': Timedelta('0 days 00:00:48.729000'), 'RPM': 11446, 'Speed': 146, 'nGear': 3, 'Throttle': 100, 'Brake': False, 'DRS': 8, 'Source': 'car', 'Distance': 2777.981666666668, 'RelativeDistance': 0.5131265585075273, 'Status': 'OnTrack', 'X': 1823, 'Y': 5997, 'Z': -140}, {'Date': Timestamp('2021-03-27 15:59:56.435000'), 'SessionTime': Timedelta('0 days 01:14:56.050000'), 'DriverAhead': '10', 'DistanceToDriverAhead': 317.5616666666624, 'Time': Timedelta('0 days 00:00:48.969000'), 'RPM': 11964, 'Speed': 163, 'nGear': 3, 'Throttle': 100, 'Brake': False, 'DRS': 14, 'Source': 'car', 'Distance': 2788.8483333333347, 'RelativeDistance': 0.5151337622756522, 'Status': 'OnTrack', 'X': 1813, 'Y': 5896, 'Z': -139}, {'Date': Timestamp('2021-03-27 15:59:56.675000'), 'SessionTime': Timedelta('0 days 01:14:56.290000'), 'DriverAhead': '10', 'DistanceToDriverAhead': 325.69499999999607, 'Time': Timedelta('0 days 00:00:49.209000'), 'RPM': 10713, 'Speed': 173, 'nGear': 3, 'Throttle': 100, 'Brake': False, 'DRS': 12, 'Source': 'car', 'Distance': 2800.381666666668, 'RelativeDistance': 0.5172641073792448, 'Status': 'OnTrack', 'X': 1802, 'Y': 5784, 'Z': -138}, {'Date': Timestamp('2021-03-27 15:59:56.915000'), 'SessionTime': Timedelta('0 days 01:14:56.530000'), 'DriverAhead': '10', 'DistanceToDriverAhead': 333.294999999996, 'Time': Timedelta('0 days 00:00:49.449000'), 'RPM': 10713, 'Speed': 183, 'nGear': 4, 'Throttle': 100, 'Brake': False, 'DRS': 12, 'Source': 'car', 'Distance': 2812.581666666668, 'RelativeDistance': 0.5195175938183052, 'Status': 'OnTrack', 'X': 1791, 'Y': 5665, 'Z': -139}, {'Date': Timestamp('2021-03-27 15:59:57.155000'), 'SessionTime': Timedelta('0 days 01:14:56.770000'), 'DriverAhead': '10', 'DistanceToDriverAhead': 340.294999999996, 'Time': Timedelta('0 days 00:00:49.689000'), 'RPM': 12237, 'Speed': 196, 'nGear': 4, 'Throttle': 100, 'Brake': False, 'DRS': 12, 'Source': 'car', 'Distance': 2825.6483333333344, 'RelativeDistance': 0.5219311639934737, 'Status': 'OnTrack', 'X': 1781, 'Y': 5539, 'Z': -138}, {'Date': Timestamp('2021-03-27 15:59:57.395000'), 'SessionTime': Timedelta('0 days 01:14:57.010000'), 'DriverAhead': '10', 'DistanceToDriverAhead': 346.96166666666295, 'Time': Timedelta('0 days 00:00:49.929000'), 'RPM': 11740, 'Speed': 203, 'nGear': 5, 'Throttle': 100, 'Brake': False, 'DRS': 12, 'Source': 'car', 'Distance': 2839.1816666666678, 'RelativeDistance': 0.5244309331034698, 'Status': 'OnTrack', 'X': 1771, 'Y': 5406, 'Z': -138}, {'Date': Timestamp('2021-03-27 15:59:57.635000'), 'SessionTime': Timedelta('0 days 01:14:57.250000'), 'DriverAhead': '10', 'DistanceToDriverAhead': 352.96166666666295, 'Time': Timedelta('0 days 00:00:50.169000'), 'RPM': 11196, 'Speed': 215, 'nGear': 5, 'Throttle': 100, 'Brake': False, 'DRS': 12, 'Source': 'car', 'Distance': 2853.515000000001, 'RelativeDistance': 0.5270784718160271, 'Status': 'OnTrack', 'X': 1762, 'Y': 5268, 'Z': -139}, {'Date': Timestamp('2021-03-27 15:59:57.875000'), 'SessionTime': Timedelta('0 days 01:14:57.490000'), 'DriverAhead': '10', 'DistanceToDriverAhead': 358.69499999999607, 'Time': Timedelta('0 days 00:00:50.409000'), 'RPM': 11496, 'Speed': 222, 'nGear': 5, 'Throttle': 100, 'Brake': False, 'DRS': 12, 'Source': 'car', 'Distance': 2868.315000000001, 'RelativeDistance': 0.5298122094634118, 'Status': 'OnTrack', 'X': 1754, 'Y': 5123, 'Z': -138}, {'Date': Timestamp('2021-03-27 15:59:58.115000'), 'SessionTime': Timedelta('0 days 01:14:57.730000'), 'DriverAhead': '10', 'DistanceToDriverAhead': 364.09499999999616, 'Time': Timedelta('0 days 00:00:50.649000'), 'RPM': 11968, 'Speed': 228, 'nGear': 5, 'Throttle': 100, 'Brake': False, 'DRS': 12, 'Source': 'car', 'Distance': 2883.5150000000012, 'RelativeDistance': 0.5326198319120773, 'Status': 'OnTrack', 'X': 1745, 'Y': 4974, 'Z': -139}, {'Date': Timestamp('2021-03-27 15:59:58.355000'), 'SessionTime': Timedelta('0 days 01:14:57.970000'), 'DriverAhead': '10', 'DistanceToDriverAhead': 369.02833333332956, 'Time': Timedelta('0 days 00:00:50.889000'), 'RPM': 11053, 'Speed': 236, 'nGear': 5, 'Throttle': 100, 'Brake': False, 'DRS': 12, 'Source': 'car', 'Distance': 2899.248333333335, 'RelativeDistance': 0.5355259674291171, 'Status': 'OnTrack', 'X': 1736, 'Y': 4819, 'Z': -138}, {'Date': Timestamp('2021-03-27 15:59:58.595000'), 'SessionTime': Timedelta('0 days 01:14:58.210000'), 'DriverAhead': '10', 'DistanceToDriverAhead': 373.7616666666627, 'Time': Timedelta('0 days 00:00:51.129000'), 'RPM': 11122, 'Speed': 242, 'nGear': 6, 'Throttle': 100, 'Brake': False, 'DRS': 12, 'Source': 'car', 'Distance': 2915.381666666668, 'RelativeDistance': 0.5385059877474374, 'Status': 'OnTrack', 'X': 1727, 'Y': 4661, 'Z': -139}, {'Date': Timestamp('2021-03-27 15:59:58.835000'), 'SessionTime': Timedelta('0 days 01:14:58.450000'), 'DriverAhead': '10', 'DistanceToDriverAhead': 377.9616666666625, 'Time': Timedelta('0 days 00:00:51.369000'), 'RPM': 11419, 'Speed': 250, 'nGear': 6, 'Throttle': 100, 'Brake': False, 'DRS': 12, 'Source': 'car', 'Distance': 2932.048333333335, 'RelativeDistance': 0.541584521134132, 'Status': 'OnTrack', 'X': 1719, 'Y': 4497, 'Z': -138}, {'Date': Timestamp('2021-03-27 15:59:59.075000'), 'SessionTime': Timedelta('0 days 01:14:58.690000'), 'DriverAhead': '10', 'DistanceToDriverAhead': 382.16166666666277, 'Time': Timedelta('0 days 00:00:51.609000'), 'RPM': 11545, 'Speed': 254, 'nGear': 6, 'Throttle': 100, 'Brake': False, 'DRS': 12, 'Source': 'car', 'Distance': 2948.9816666666684, 'RelativeDistance': 0.5447123110550137, 'Status': 'OnTrack', 'X': 1711, 'Y': 4330, 'Z': -139}, {'Date': Timestamp('2021-03-27 15:59:59.315000'), 'SessionTime': Timedelta('0 days 01:14:58.930000'), 'DriverAhead': '10', 'DistanceToDriverAhead': 384.8283333333293, 'Time': Timedelta('0 days 00:00:51.849000'), 'RPM': 11837, 'Speed': 259, 'nGear': 6, 'Throttle': 100, 'Brake': False, 'DRS': 12, 'Source': 'car', 'Distance': 2966.248333333335, 'RelativeDistance': 0.5479016716436292, 'Status': 'OnTrack', 'X': 1702, 'Y': 4150, 'Z': -138}, {'Date': Timestamp('2021-03-27 15:59:59.555000'), 'SessionTime': Timedelta('0 days 01:14:59.170000'), 'DriverAhead': '10', 'DistanceToDriverAhead': 384.3616666666626, 'Time': Timedelta('0 days 00:00:52.089000'), 'RPM': 10954, 'Speed': 263, 'nGear': 6, 'Throttle': 100, 'Brake': False, 'DRS': 12, 'Source': 'car', 'Distance': 2983.781666666668, 'RelativeDistance': 0.551140288766432, 'Status': 'OnTrack', 'X': 1694, 'Y': 3973, 'Z': -139}, {'Date': Timestamp('2021-03-27 15:59:59.835000'), 'SessionTime': Timedelta('0 days 01:14:59.450000'), 'DriverAhead': '10', 'DistanceToDriverAhead': 380.628333333329, 'Time': Timedelta('0 days 00:00:52.369000'), 'RPM': 11093, 'Speed': 271, 'nGear': 7, 'Throttle': 100, 'Brake': False, 'DRS': 12, 'Source': 'car', 'Distance': 3004.859444444446, 'RelativeDistance': 0.555033607322805, 'Status': 'OnTrack', 'X': 1684, 'Y': 3764, 'Z': -139}, {'Date': Timestamp('2021-03-27 16:00:00.075000'), 'SessionTime': Timedelta('0 days 01:14:59.690000'), 'DriverAhead': '10', 'DistanceToDriverAhead': 376.2949999999955, 'Time': Timedelta('0 days 00:00:52.609000'), 'RPM': 11062, 'Speed': 274, 'nGear': 7, 'Throttle': 100, 'Brake': False, 'DRS': 12, 'Source': 'car', 'Distance': 3023.126111111113, 'RelativeDistance': 0.5584076799146224, 'Status': 'OnTrack', 'X': 1675, 'Y': 3583, 'Z': -138}, {'Date': Timestamp('2021-03-27 16:00:00.315000'), 'SessionTime': Timedelta('0 days 01:14:59.930000'), 'DriverAhead': '10', 'DistanceToDriverAhead': 370.8949999999959, 'Time': Timedelta('0 days 00:00:52.849000'), 'RPM': 11243, 'Speed': 278, 'nGear': 7, 'Throttle': 100, 'Brake': False, 'DRS': 12, 'Source': 'car', 'Distance': 3041.659444444446, 'RelativeDistance': 0.5618310090406267, 'Status': 'OnTrack', 'X': 1666, 'Y': 3399, 'Z': -139}, {'Date': Timestamp('2021-03-27 16:00:00.595000'), 'SessionTime': Timedelta('0 days 01:15:00.210000'), 'DriverAhead': '10', 'DistanceToDriverAhead': 363.1949999999956, 'Time': Timedelta('0 days 00:00:53.129000'), 'RPM': 11333, 'Speed': 283, 'nGear': 7, 'Throttle': 100, 'Brake': False, 'DRS': 12, 'Source': 'car', 'Distance': 3063.6705555555573, 'RelativeDistance': 0.5658967254666547, 'Status': 'OnTrack', 'X': 1656, 'Y': 3181, 'Z': -139}, {'Date': Timestamp('2021-03-27 16:00:00.835000'), 'SessionTime': Timedelta('0 days 01:15:00.450000'), 'DriverAhead': '10', 'DistanceToDriverAhead': 355.5949999999957, 'Time': Timedelta('0 days 00:00:53.369000'), 'RPM': 11536, 'Speed': 286, 'nGear': 7, 'Throttle': 100, 'Brake': False, 'DRS': 12, 'Source': 'car', 'Distance': 3082.737222222224, 'RelativeDistance': 0.5694185676610333, 'Status': 'OnTrack', 'X': 1648, 'Y': 2991, 'Z': -139}, {'Date': Timestamp('2021-03-27 16:00:01.075000'), 'SessionTime': Timedelta('0 days 01:15:00.690000'), 'DriverAhead': '10', 'DistanceToDriverAhead': 347.39499999999543, 'Time': Timedelta('0 days 00:00:53.609000'), 'RPM': 11681, 'Speed': 290, 'nGear': 7, 'Throttle': 100, 'Brake': False, 'DRS': 12, 'Source': 'car', 'Distance': 3102.0705555555573, 'RelativeDistance': 0.572989666389599, 'Status': 'OnTrack', 'X': 1640, 'Y': 2800, 'Z': -139}, {'Date': Timestamp('2021-03-27 16:00:01.315000'), 'SessionTime': Timedelta('0 days 01:15:00.930000'), 'DriverAhead': '10', 'DistanceToDriverAhead': 338.6616666666623, 'Time': Timedelta('0 days 00:00:53.849000'), 'RPM': 11695, 'Speed': 292, 'nGear': 7, 'Throttle': 100, 'Brake': False, 'DRS': 12, 'Source': 'car', 'Distance': 3121.5372222222236, 'RelativeDistance': 0.5765853933852582, 'Status': 'OnTrack', 'X': 1632, 'Y': 2605, 'Z': -139}, {'Date': Timestamp('2021-03-27 16:00:01.555000'), 'SessionTime': Timedelta('0 days 01:15:01.170000'), 'DriverAhead': '10', 'DistanceToDriverAhead': 329.128333333329, 'Time': Timedelta('0 days 00:00:54.089000'), 'RPM': 10715, 'Speed': 296, 'nGear': 8, 'Throttle': 100, 'Brake': False, 'DRS': 12, 'Source': 'car', 'Distance': 3141.270555555557, 'RelativeDistance': 0.5802303769151046, 'Status': 'OnTrack', 'X': 1622, 'Y': 2410, 'Z': -139}, {'Date': Timestamp('2021-03-27 16:00:01.756000'), 'SessionTime': Timedelta('0 days 01:15:01.371000'), 'DriverAhead': '10', 'DistanceToDriverAhead': 320.80916666666235, 'Time': Timedelta('0 days 00:00:54.290000'), 'RPM': 10759, 'Speed': 297, 'nGear': 8, 'Throttle': 100, 'Brake': False, 'DRS': 12, 'Source': 'car', 'Distance': 3157.853055555557, 'RelativeDistance': 0.5832933637081964, 'Status': 'OnTrack', 'X': 1615, 'Y': 2245, 'Z': -138}, {'Date': Timestamp('2021-03-27 16:00:01.996000'), 'SessionTime': Timedelta('0 days 01:15:01.611000'), 'DriverAhead': '10', 'DistanceToDriverAhead': 310.94249999999556, 'Time': Timedelta('0 days 00:00:54.530000'), 'RPM': 10816, 'Speed': 300, 'nGear': 8, 'Throttle': 100, 'Brake': False, 'DRS': 12, 'Source': 'car', 'Distance': 3177.853055555557, 'RelativeDistance': 0.5869876037722299, 'Status': 'OnTrack', 'X': 1605, 'Y': 2046, 'Z': -139}, {'Date': Timestamp('2021-03-27 16:00:02.236000'), 'SessionTime': Timedelta('0 days 01:15:01.851000'), 'DriverAhead': '10', 'DistanceToDriverAhead': 301.3424999999952, 'Time': Timedelta('0 days 00:00:54.770000'), 'RPM': 10937, 'Speed': 303, 'nGear': 8, 'Throttle': 100, 'Brake': False, 'DRS': 12, 'Source': 'car', 'Distance': 3198.0530555555574, 'RelativeDistance': 0.5907187862369038, 'Status': 'OnTrack', 'X': 1595, 'Y': 1846, 'Z': -139}, {'Date': Timestamp('2021-03-27 16:00:02.476000'), 'SessionTime': Timedelta('0 days 01:15:02.091000'), 'DriverAhead': '10', 'DistanceToDriverAhead': 291.9424999999951, 'Time': Timedelta('0 days 00:00:55.010000'), 'RPM': 10883, 'Speed': 304, 'nGear': 8, 'Throttle': 100, 'Brake': False, 'DRS': 12, 'Source': 'car', 'Distance': 3218.319722222224, 'RelativeDistance': 0.5944622828351244, 'Status': 'OnTrack', 'X': 1584, 'Y': 1644, 'Z': -138}, {'Date': Timestamp('2021-03-27 16:00:02.716000'), 'SessionTime': Timedelta('0 days 01:15:02.331000'), 'DriverAhead': '10', 'DistanceToDriverAhead': 283.1424999999949, 'Time': Timedelta('0 days 00:00:55.250000'), 'RPM': 11018, 'Speed': 305, 'nGear': 8, 'Throttle': 100, 'Brake': False, 'DRS': 12, 'Source': 'car', 'Distance': 3238.6530555555573, 'RelativeDistance': 0.5982180935668917, 'Status': 'OnTrack', 'X': 1575, 'Y': 1442, 'Z': -139}, {'Date': Timestamp('2021-03-27 16:00:02.955000'), 'SessionTime': Timedelta('0 days 01:15:02.570000'), 'DriverAhead': '10', 'DistanceToDriverAhead': 274.84388888888407, 'Time': Timedelta('0 days 00:00:55.489000'), 'RPM': 11148, 'Speed': 308, 'nGear': 8, 'Throttle': 100, 'Brake': False, 'DRS': 12, 'Source': 'car', 'Distance': 3259.100833333335, 'RelativeDistance': 0.6019950435612477, 'Status': 'OnTrack', 'X': 1565, 'Y': 1238, 'Z': -138}, {'Date': Timestamp('2021-03-27 16:00:03.195000'), 'SessionTime': Timedelta('0 days 01:15:02.810000'), 'DriverAhead': '10', 'DistanceToDriverAhead': 266.9105555555507, 'Time': Timedelta('0 days 00:00:55.729000'), 'RPM': 11151, 'Speed': 309, 'nGear': 8, 'Throttle': 100, 'Brake': False, 'DRS': 12, 'Source': 'car', 'Distance': 3279.700833333335, 'RelativeDistance': 0.6058001108272023, 'Status': 'OnTrack', 'X': 1554, 'Y': 1032, 'Z': -139}, {'Date': Timestamp('2021-03-27 16:00:03.435000'), 'SessionTime': Timedelta('0 days 01:15:03.050000'), 'DriverAhead': '10', 'DistanceToDriverAhead': 259.2438888888837, 'Time': Timedelta('0 days 00:00:55.969000'), 'RPM': 11202, 'Speed': 311, 'nGear': 8, 'Throttle': 100, 'Brake': False, 'DRS': 12, 'Source': 'car', 'Distance': 3300.4341666666687, 'RelativeDistance': 0.6096298063602504, 'Status': 'OnTrack', 'X': 1543, 'Y': 825, 'Z': -138}, {'Date': Timestamp('2021-03-27 16:00:03.675000'), 'SessionTime': Timedelta('0 days 01:15:03.290000'), 'DriverAhead': '10', 'DistanceToDriverAhead': 252.1105555555505, 'Time': Timedelta('0 days 00:00:56.209000'), 'RPM': 11284, 'Speed': 313, 'nGear': 8, 'Throttle': 100, 'Brake': False, 'DRS': 12, 'Source': 'car', 'Distance': 3321.3008333333355, 'RelativeDistance': 0.613484130160392, 'Status': 'OnTrack', 'X': 1531, 'Y': 618, 'Z': -139}, {'Date': Timestamp('2021-03-27 16:00:03.915000'), 'SessionTime': Timedelta('0 days 01:15:03.530000'), 'DriverAhead': '10', 'DistanceToDriverAhead': 245.51055555555104, 'Time': Timedelta('0 days 00:00:56.449000'), 'RPM': 11257, 'Speed': 311, 'nGear': 8, 'Throttle': 93, 'Brake': True, 'DRS': 8, 'Source': 'car', 'Distance': 3342.034166666668, 'RelativeDistance': 0.61731382569344, 'Status': 'OnTrack', 'X': 1520, 'Y': 408, 'Z': -138}, {'Date': Timestamp('2021-03-27 16:00:04.155000'), 'SessionTime': Timedelta('0 days 01:15:03.770000'), 'DriverAhead': '10', 'DistanceToDriverAhead': 242.37722222221782, 'Time': Timedelta('0 days 00:00:56.689000'), 'RPM': 10342, 'Speed': 267, 'nGear': 8, 'Throttle': 0, 'Brake': True, 'DRS': 8, 'Source': 'car', 'Distance': 3359.8341666666684, 'RelativeDistance': 0.6206016993504297, 'Status': 'OnTrack', 'X': 1516, 'Y': 238, 'Z': -139}, {'Date': Timestamp('2021-03-27 16:00:04.395000'), 'SessionTime': Timedelta('0 days 01:15:04.010000'), 'DriverAhead': '10', 'DistanceToDriverAhead': 241.2438888888846, 'Time': Timedelta('0 days 00:00:56.929000'), 'RPM': 10419, 'Speed': 241, 'nGear': 8, 'Throttle': 0, 'Brake': True, 'DRS': 8, 'Source': 'car', 'Distance': 3375.900833333335, 'RelativeDistance': 0.6235694055352033, 'Status': 'OnTrack', 'X': 1518, 'Y': 73, 'Z': -138}, {'Date': Timestamp('2021-03-27 16:00:04.635000'), 'SessionTime': Timedelta('0 days 01:15:04.250000'), 'DriverAhead': '10', 'DistanceToDriverAhead': 242.37722222221782, 'Time': Timedelta('0 days 00:00:57.169000'), 'RPM': 10948, 'Speed': 213, 'nGear': 8, 'Throttle': 1, 'Brake': True, 'DRS': 8, 'Source': 'car', 'Distance': 3390.100833333335, 'RelativeDistance': 0.6261923159806672, 'Status': 'OnTrack', 'X': 1532, 'Y': -73, 'Z': -138}, {'Date': Timestamp('2021-03-27 16:00:04.875000'), 'SessionTime': Timedelta('0 days 01:15:04.490000'), 'DriverAhead': '10', 'DistanceToDriverAhead': 244.71055555555085, 'Time': Timedelta('0 days 00:00:57.409000'), 'RPM': 10317, 'Speed': 199, 'nGear': 6, 'Throttle': 1, 'Brake': True, 'DRS': 8, 'Source': 'car', 'Distance': 3403.3675000000017, 'RelativeDistance': 0.628642828556476, 'Status': 'OnTrack', 'X': 1557, 'Y': -204, 'Z': -139}, {'Date': Timestamp('2021-03-27 16:00:05.115000'), 'SessionTime': Timedelta('0 days 01:15:04.730000'), 'DriverAhead': '10', 'DistanceToDriverAhead': 248.04388888888434, 'Time': Timedelta('0 days 00:00:57.649000'), 'RPM': 11071, 'Speed': 188, 'nGear': 4, 'Throttle': 3, 'Brake': True, 'DRS': 8, 'Source': 'car', 'Distance': 3415.900833333335, 'RelativeDistance': 0.6309578856632704, 'Status': 'OnTrack', 'X': 1594, 'Y': -319, 'Z': -138}, {'Date': Timestamp('2021-03-27 16:00:05.355000'), 'SessionTime': Timedelta('0 days 01:15:04.970000'), 'DriverAhead': '10', 'DistanceToDriverAhead': 252.44388888888443, 'Time': Timedelta('0 days 00:00:57.889000'), 'RPM': 10612, 'Speed': 177, 'nGear': 4, 'Throttle': 2, 'Brake': True, 'DRS': 8, 'Source': 'car', 'Distance': 3427.700833333335, 'RelativeDistance': 0.6331374873010501, 'Status': 'OnTrack', 'X': 1641, 'Y': -415, 'Z': -137}, {'Date': Timestamp('2021-03-27 16:00:05.595000'), 'SessionTime': Timedelta('0 days 01:15:05.210000'), 'DriverAhead': '10', 'DistanceToDriverAhead': 257.44388888888443, 'Time': Timedelta('0 days 00:00:58.129000'), 'RPM': 10087, 'Speed': 172, 'nGear': 4, 'Throttle': 4, 'Brake': False, 'DRS': 8, 'Source': 'car', 'Distance': 3439.1675000000014, 'RelativeDistance': 0.6352555182710959, 'Status': 'OnTrack', 'X': 1703, 'Y': -492, 'Z': -136}, {'Date': Timestamp('2021-03-27 16:00:05.835000'), 'SessionTime': Timedelta('0 days 01:15:05.450000'), 'DriverAhead': '10', 'DistanceToDriverAhead': 263.177222222218, 'Time': Timedelta('0 days 00:00:58.369000'), 'RPM': 9774, 'Speed': 165, 'nGear': 4, 'Throttle': 4, 'Brake': False, 'DRS': 8, 'Source': 'car', 'Distance': 3450.1675000000014, 'RelativeDistance': 0.6372873503063143, 'Status': 'OnTrack', 'X': 1789, 'Y': -557, 'Z': -135}, {'Date': Timestamp('2021-03-27 16:00:06.075000'), 'SessionTime': Timedelta('0 days 01:15:05.690000'), 'DriverAhead': '10', 'DistanceToDriverAhead': 269.5772222222181, 'Time': Timedelta('0 days 00:00:58.609000'), 'RPM': 9932, 'Speed': 158, 'nGear': 4, 'Throttle': 53, 'Brake': False, 'DRS': 8, 'Source': 'car', 'Distance': 3460.7008333333347, 'RelativeDistance': 0.6392329834067053, 'Status': 'OnTrack', 'X': 1894, 'Y': -608, 'Z': -133}, {'Date': Timestamp('2021-03-27 16:00:06.315000'), 'SessionTime': Timedelta('0 days 01:15:05.930000'), 'DriverAhead': '10', 'DistanceToDriverAhead': 275.8438888888845, 'Time': Timedelta('0 days 00:00:58.849000'), 'RPM': 10477, 'Speed': 162, 'nGear': 4, 'Throttle': 78, 'Brake': False, 'DRS': 8, 'Source': 'car', 'Distance': 3471.5008333333344, 'RelativeDistance': 0.6412278730412834, 'Status': 'OnTrack', 'X': 2004, 'Y': -645, 'Z': -132}, {'Date': Timestamp('2021-03-27 16:00:06.555000'), 'SessionTime': Timedelta('0 days 01:15:06.170000'), 'DriverAhead': '10', 'DistanceToDriverAhead': 281.71055555555176, 'Time': Timedelta('0 days 00:00:59.089000'), 'RPM': 10850, 'Speed': 169, 'nGear': 4, 'Throttle': 82, 'Brake': False, 'DRS': 8, 'Source': 'car', 'Distance': 3482.7675000000013, 'RelativeDistance': 0.643308961610689, 'Status': 'OnTrack', 'X': 2114, 'Y': -669, 'Z': -130}, {'Date': Timestamp('2021-03-27 16:00:06.795000'), 'SessionTime': Timedelta('0 days 01:15:06.410000'), 'DriverAhead': '10', 'DistanceToDriverAhead': 287.5105555555515, 'Time': Timedelta('0 days 00:00:59.329000'), 'RPM': 10864, 'Speed': 172, 'nGear': 4, 'Throttle': 76, 'Brake': False, 'DRS': 8, 'Source': 'car', 'Distance': 3494.234166666668, 'RelativeDistance': 0.6454269925807348, 'Status': 'OnTrack', 'X': 2225, 'Y': -676, 'Z': -129}, {'Date': Timestamp('2021-03-27 16:00:07.035000'), 'SessionTime': Timedelta('0 days 01:15:06.650000'), 'DriverAhead': '10', 'DistanceToDriverAhead': 292.64388888888425, 'Time': Timedelta('0 days 00:00:59.569000'), 'RPM': 11342, 'Speed': 183, 'nGear': 4, 'Throttle': 100, 'Brake': False, 'DRS': 8, 'Source': 'car', 'Distance': 3506.4341666666683, 'RelativeDistance': 0.6476804790197953, 'Status': 'OnTrack', 'X': 2343, 'Y': -665, 'Z': -126}, {'Date': Timestamp('2021-03-27 16:00:07.275000'), 'SessionTime': Timedelta('0 days 01:15:06.890000'), 'DriverAhead': '10', 'DistanceToDriverAhead': 297.4438888888849, 'Time': Timedelta('0 days 00:00:59.809000'), 'RPM': 11929, 'Speed': 190, 'nGear': 4, 'Throttle': 100, 'Brake': False, 'DRS': 8, 'Source': 'car', 'Distance': 3519.100833333335, 'RelativeDistance': 0.6500201643936832, 'Status': 'OnTrack', 'X': 2469, 'Y': -637, 'Z': -123}, {'Date': Timestamp('2021-03-27 16:00:07.515000'), 'SessionTime': Timedelta('0 days 01:15:07.130000'), 'DriverAhead': '10', 'DistanceToDriverAhead': 302.17722222221755, 'Time': Timedelta('0 days 00:01:00.049000'), 'RPM': 11438, 'Speed': 192, 'nGear': 4, 'Throttle': 100, 'Brake': False, 'DRS': 8, 'Source': 'car', 'Distance': 3531.900833333335, 'RelativeDistance': 0.6523844780346646, 'Status': 'OnTrack', 'X': 2593, 'Y': -590, 'Z': -120}, {'Date': Timestamp('2021-03-27 16:00:07.755000'), 'SessionTime': Timedelta('0 days 01:15:07.370000'), 'DriverAhead': '10', 'DistanceToDriverAhead': 306.24388888888416, 'Time': Timedelta('0 days 00:01:00.289000'), 'RPM': 10741, 'Speed': 204, 'nGear': 5, 'Throttle': 100, 'Brake': False, 'DRS': 8, 'Source': 'car', 'Distance': 3545.500833333335, 'RelativeDistance': 0.6548965612782074, 'Status': 'OnTrack', 'X': 2715, 'Y': -529, 'Z': -118}, {'Date': Timestamp('2021-03-27 16:00:07.995000'), 'SessionTime': Timedelta('0 days 01:15:07.610000'), 'DriverAhead': '10', 'DistanceToDriverAhead': 310.1105555555514, 'Time': Timedelta('0 days 00:01:00.529000'), 'RPM': 11072, 'Speed': 209, 'nGear': 5, 'Throttle': 100, 'Brake': False, 'DRS': 8, 'Source': 'car', 'Distance': 3559.4341666666683, 'RelativeDistance': 0.657470215189484, 'Status': 'OnTrack', 'X': 2828, 'Y': -454, 'Z': -114}, {'Date': Timestamp('2021-03-27 16:00:08.235000'), 'SessionTime': Timedelta('0 days 01:15:07.850000'), 'DriverAhead': '10', 'DistanceToDriverAhead': 313.5105555555515, 'Time': Timedelta('0 days 00:01:00.769000'), 'RPM': 11386, 'Speed': 217, 'nGear': 5, 'Throttle': 100, 'Brake': False, 'DRS': 8, 'Source': 'car', 'Distance': 3573.9008333333345, 'RelativeDistance': 0.6601423821691349, 'Status': 'OnTrack', 'X': 2923, 'Y': -375, 'Z': -111}, {'Date': Timestamp('2021-03-27 16:00:08.436000'), 'SessionTime': Timedelta('0 days 01:15:08.051000'), 'DriverAhead': '10', 'DistanceToDriverAhead': 316.1347222222189, 'Time': Timedelta('0 days 00:01:00.970000'), 'RPM': 11493, 'Speed': 221, 'nGear': 5, 'Throttle': 100, 'Brake': False, 'DRS': 8, 'Source': 'car', 'Distance': 3586.240000000001, 'RelativeDistance': 0.6624215743619742, 'Status': 'OnTrack', 'X': 3005, 'Y': -296, 'Z': -107}, {'Date': Timestamp('2021-03-27 16:00:08.676000'), 'SessionTime': Timedelta('0 days 01:15:08.291000'), 'DriverAhead': '10', 'DistanceToDriverAhead': 319.13472222221844, 'Time': Timedelta('0 days 00:01:01.210000'), 'RPM': 11797, 'Speed': 225, 'nGear': 5, 'Throttle': 100, 'Brake': False, 'DRS': 8, 'Source': 'car', 'Distance': 3601.240000000001, 'RelativeDistance': 0.6651922544099993, 'Status': 'OnTrack', 'X': 3103, 'Y': -182, 'Z': -103}, {'Date': Timestamp('2021-03-27 16:00:08.916000'), 'SessionTime': Timedelta('0 days 01:15:08.531000'), 'DriverAhead': '10', 'DistanceToDriverAhead': 321.8680555555511, 'Time': Timedelta('0 days 00:01:01.450000'), 'RPM': 10696, 'Speed': 229, 'nGear': 5, 'Throttle': 100, 'Brake': False, 'DRS': 8, 'Source': 'car', 'Distance': 3616.506666666668, 'RelativeDistance': 0.6680121909922117, 'Status': 'OnTrack', 'X': 3190, 'Y': -58, 'Z': -98}, {'Date': Timestamp('2021-03-27 16:00:09.156000'), 'SessionTime': Timedelta('0 days 01:15:08.771000'), 'DriverAhead': '10', 'DistanceToDriverAhead': 324.4680555555524, 'Time': Timedelta('0 days 00:01:01.690000'), 'RPM': 10688, 'Speed': 234, 'nGear': 6, 'Throttle': 100, 'Brake': False, 'DRS': 8, 'Source': 'car', 'Distance': 3632.1066666666675, 'RelativeDistance': 0.6708936982421576, 'Status': 'OnTrack', 'X': 3266, 'Y': 77, 'Z': -91}, {'Date': Timestamp('2021-03-27 16:00:09.396000'), 'SessionTime': Timedelta('0 days 01:15:09.011000'), 'DriverAhead': '10', 'DistanceToDriverAhead': 326.868055555552, 'Time': Timedelta('0 days 00:01:01.930000'), 'RPM': 10868, 'Speed': 237, 'nGear': 6, 'Throttle': 100, 'Brake': False, 'DRS': 8, 'Source': 'car', 'Distance': 3647.9066666666677, 'RelativeDistance': 0.6738121478927441, 'Status': 'OnTrack', 'X': 3333, 'Y': 223, 'Z': -85}, {'Date': Timestamp('2021-03-27 16:00:09.635000'), 'SessionTime': Timedelta('0 days 01:15:09.250000'), 'DriverAhead': '10', 'DistanceToDriverAhead': 329.05888888888603, 'Time': Timedelta('0 days 00:01:02.169000'), 'RPM': 11083, 'Speed': 243, 'nGear': 6, 'Throttle': 100, 'Brake': False, 'DRS': 8, 'Source': 'car', 'Distance': 3664.0391666666674, 'RelativeDistance': 0.6767920142843951, 'Status': 'OnTrack', 'X': 3393, 'Y': 375, 'Z': -79}, {'Date': Timestamp('2021-03-27 16:00:09.875000'), 'SessionTime': Timedelta('0 days 01:15:09.490000'), 'DriverAhead': '10', 'DistanceToDriverAhead': 329.7922222222187, 'Time': Timedelta('0 days 00:01:02.409000'), 'RPM': 11219, 'Speed': 246, 'nGear': 6, 'Throttle': 100, 'Brake': False, 'DRS': 8, 'Source': 'car', 'Distance': 3680.4391666666675, 'RelativeDistance': 0.6798212911369026, 'Status': 'OnTrack', 'X': 3451, 'Y': 530, 'Z': -74}, {'Date': Timestamp('2021-03-27 16:00:10.115000'), 'SessionTime': Timedelta('0 days 01:15:09.730000'), 'DriverAhead': '10', 'DistanceToDriverAhead': 328.52555555555136, 'Time': Timedelta('0 days 00:01:02.649000'), 'RPM': 11411, 'Speed': 250, 'nGear': 6, 'Throttle': 100, 'Brake': False, 'DRS': 8, 'Source': 'car', 'Distance': 3697.1058333333344, 'RelativeDistance': 0.6828998245235972, 'Status': 'OnTrack', 'X': 3514, 'Y': 683, 'Z': -68}, {'Date': Timestamp('2021-03-27 16:00:10.355000'), 'SessionTime': Timedelta('0 days 01:15:09.970000'), 'DriverAhead': '10', 'DistanceToDriverAhead': 325.19222222221833, 'Time': Timedelta('0 days 00:01:02.889000'), 'RPM': 11628, 'Speed': 254, 'nGear': 6, 'Throttle': 100, 'Brake': False, 'DRS': 8, 'Source': 'car', 'Distance': 3714.039166666668, 'RelativeDistance': 0.6860276144444789, 'Status': 'OnTrack', 'X': 3588, 'Y': 832, 'Z': -63}, {'Date': Timestamp('2021-03-27 16:00:10.595000'), 'SessionTime': Timedelta('0 days 01:15:10.210000'), 'DriverAhead': '10', 'DistanceToDriverAhead': 320.8588888888853, 'Time': Timedelta('0 days 00:01:03.129000'), 'RPM': 11667, 'Speed': 255, 'nGear': 6, 'Throttle': 100, 'Brake': False, 'DRS': 8, 'Source': 'car', 'Distance': 3731.0391666666674, 'RelativeDistance': 0.6891677184989073, 'Status': 'OnTrack', 'X': 3678, 'Y': 975, 'Z': -57}, {'Date': Timestamp('2021-03-27 16:00:10.835000'), 'SessionTime': Timedelta('0 days 01:15:10.450000'), 'DriverAhead': '10', 'DistanceToDriverAhead': 315.3922222222186, 'Time': Timedelta('0 days 00:01:03.369000'), 'RPM': 11689, 'Speed': 257, 'nGear': 6, 'Throttle': 100, 'Brake': False, 'DRS': 8, 'Source': 'car', 'Distance': 3748.172500000001, 'RelativeDistance': 0.6923324508204294, 'Status': 'OnTrack', 'X': 3781, 'Y': 1112, 'Z': -52}, {'Date': Timestamp('2021-03-27 16:00:11.075000'), 'SessionTime': Timedelta('0 days 01:15:10.690000'), 'DriverAhead': '10', 'DistanceToDriverAhead': 309.32555555555155, 'Time': Timedelta('0 days 00:01:03.609000'), 'RPM': 11837, 'Speed': 258, 'nGear': 6, 'Throttle': 100, 'Brake': False, 'DRS': 8, 'Source': 'car', 'Distance': 3765.3725000000013, 'RelativeDistance': 0.6955094972754983, 'Status': 'OnTrack', 'X': 3896, 'Y': 1237, 'Z': -46}, {'Date': Timestamp('2021-03-27 16:00:11.315000'), 'SessionTime': Timedelta('0 days 01:15:10.930000'), 'DriverAhead': '10', 'DistanceToDriverAhead': 302.72555555555164, 'Time': Timedelta('0 days 00:01:03.849000'), 'RPM': 11750, 'Speed': 259, 'nGear': 6, 'Throttle': 100, 'Brake': False, 'DRS': 8, 'Source': 'car', 'Distance': 3782.6391666666677, 'RelativeDistance': 0.6986988578641138, 'Status': 'OnTrack', 'X': 4027, 'Y': 1345, 'Z': -39}, {'Date': Timestamp('2021-03-27 16:00:11.555000'), 'SessionTime': Timedelta('0 days 01:15:11.170000'), 'DriverAhead': '10', 'DistanceToDriverAhead': 295.72555555555164, 'Time': Timedelta('0 days 00:01:04.089000'), 'RPM': 10586, 'Speed': 259, 'nGear': 6, 'Throttle': 100, 'Brake': False, 'DRS': 8, 'Source': 'car', 'Distance': 3799.9058333333346, 'RelativeDistance': 0.7018882184527294, 'Status': 'OnTrack', 'X': 4175, 'Y': 1436, 'Z': -33}, {'Date': Timestamp('2021-03-27 16:00:11.795000'), 'SessionTime': Timedelta('0 days 01:15:11.410000'), 'DriverAhead': '10', 'DistanceToDriverAhead': 288.39222222221815, 'Time': Timedelta('0 days 00:01:04.329000'), 'RPM': 10565, 'Speed': 260, 'nGear': 7, 'Throttle': 100, 'Brake': False, 'DRS': 8, 'Source': 'car', 'Distance': 3817.2391666666676, 'RelativeDistance': 0.7050898931748917, 'Status': 'OnTrack', 'X': 4336, 'Y': 1510, 'Z': -28}, {'Date': Timestamp('2021-03-27 16:00:12.035000'), 'SessionTime': Timedelta('0 days 01:15:11.650000'), 'DriverAhead': '10', 'DistanceToDriverAhead': 280.7922222222178, 'Time': Timedelta('0 days 00:01:04.569000'), 'RPM': 10603, 'Speed': 261, 'nGear': 7, 'Throttle': 100, 'Brake': False, 'DRS': 8, 'Source': 'car', 'Distance': 3834.639166666668, 'RelativeDistance': 0.7083038820306009, 'Status': 'OnTrack', 'X': 4502, 'Y': 1566, 'Z': -23}, {'Date': Timestamp('2021-03-27 16:00:12.275000'), 'SessionTime': Timedelta('0 days 01:15:11.890000'), 'DriverAhead': '10', 'DistanceToDriverAhead': 272.7255555555521, 'Time': Timedelta('0 days 00:01:04.809000'), 'RPM': 10675, 'Speed': 262, 'nGear': 7, 'Throttle': 100, 'Brake': False, 'DRS': 8, 'Source': 'car', 'Distance': 3852.1058333333344, 'RelativeDistance': 0.7115301850198568, 'Status': 'OnTrack', 'X': 4672, 'Y': 1604, 'Z': -18}, {'Date': Timestamp('2021-03-27 16:00:12.515000'), 'SessionTime': Timedelta('0 days 01:15:12.130000'), 'DriverAhead': '10', 'DistanceToDriverAhead': 264.5922222222175, 'Time': Timedelta('0 days 00:01:05.049000'), 'RPM': 10717, 'Speed': 263, 'nGear': 7, 'Throttle': 100, 'Brake': False, 'DRS': 8, 'Source': 'car', 'Distance': 3869.6391666666686, 'RelativeDistance': 0.7147688021426596, 'Status': 'OnTrack', 'X': 4845, 'Y': 1621, 'Z': -15}, {'Date': Timestamp('2021-03-27 16:00:12.755000'), 'SessionTime': Timedelta('0 days 01:15:12.370000'), 'DriverAhead': '10', 'DistanceToDriverAhead': 256.79222222221824, 'Time': Timedelta('0 days 00:01:05.289000'), 'RPM': 10772, 'Speed': 264, 'nGear': 7, 'Throttle': 100, 'Brake': False, 'DRS': 8, 'Source': 'car', 'Distance': 3887.239166666668, 'RelativeDistance': 0.718019733399009, 'Status': 'OnTrack', 'X': 5020, 'Y': 1609, 'Z': -11}, {'Date': Timestamp('2021-03-27 16:00:12.995000'), 'SessionTime': Timedelta('0 days 01:15:12.610000'), 'DriverAhead': '10', 'DistanceToDriverAhead': 249.12555555555173, 'Time': Timedelta('0 days 00:01:05.529000'), 'RPM': 10730, 'Speed': 266, 'nGear': 7, 'Throttle': 100, 'Brake': False, 'DRS': 8, 'Source': 'car', 'Distance': 3904.972500000001, 'RelativeDistance': 0.721295292922452, 'Status': 'OnTrack', 'X': 5195, 'Y': 1573, 'Z': -9}, {'Date': Timestamp('2021-03-27 16:00:13.235000'), 'SessionTime': Timedelta('0 days 01:15:12.850000'), 'DriverAhead': '10', 'DistanceToDriverAhead': 241.79222222221733, 'Time': Timedelta('0 days 00:01:05.769000'), 'RPM': 10791, 'Speed': 268, 'nGear': 7, 'Throttle': 100, 'Brake': False, 'DRS': 8, 'Source': 'car', 'Distance': 3922.8391666666685, 'RelativeDistance': 0.7245954807129887, 'Status': 'OnTrack', 'X': 5368, 'Y': 1512, 'Z': -7}, {'Date': Timestamp('2021-03-27 16:00:13.475000'), 'SessionTime': Timedelta('0 days 01:15:13.090000'), 'DriverAhead': '10', 'DistanceToDriverAhead': 234.72555555555118, 'Time': Timedelta('0 days 00:01:06.009000'), 'RPM': 10903, 'Speed': 269, 'nGear': 7, 'Throttle': 100, 'Brake': False, 'DRS': 8, 'Source': 'car', 'Distance': 3940.7725000000014, 'RelativeDistance': 0.727907982637072, 'Status': 'OnTrack', 'X': 5527, 'Y': 1437, 'Z': -5}, {'Date': Timestamp('2021-03-27 16:00:13.715000'), 'SessionTime': Timedelta('0 days 01:15:13.330000'), 'DriverAhead': '10', 'DistanceToDriverAhead': 228.05888888888558, 'Time': Timedelta('0 days 00:01:06.249000'), 'RPM': 10956, 'Speed': 272, 'nGear': 7, 'Throttle': 100, 'Brake': False, 'DRS': 8, 'Source': 'car', 'Distance': 3958.905833333334, 'RelativeDistance': 0.7312574269617956, 'Status': 'OnTrack', 'X': 5665, 'Y': 1365, 'Z': -4}, {'Date': Timestamp('2021-03-27 16:00:13.955000'), 'SessionTime': Timedelta('0 days 01:15:13.570000'), 'DriverAhead': '10', 'DistanceToDriverAhead': 222.19222222221788, 'Time': Timedelta('0 days 00:01:06.489000'), 'RPM': 11009, 'Speed': 273, 'nGear': 7, 'Throttle': 100, 'Brake': False, 'DRS': 8, 'Source': 'car', 'Distance': 3977.105833333335, 'RelativeDistance': 0.7346191854200662, 'Status': 'OnTrack', 'X': 5825, 'Y': 1284, 'Z': -3}, {'Date': Timestamp('2021-03-27 16:00:14.235000'), 'SessionTime': Timedelta('0 days 01:15:13.850000'), 'DriverAhead': '10', 'DistanceToDriverAhead': 216.43666666666195, 'Time': Timedelta('0 days 00:01:06.769000'), 'RPM': 10937, 'Speed': 272, 'nGear': 7, 'Throttle': 69, 'Brake': True, 'DRS': 8, 'Source': 'car', 'Distance': 3998.2613888888905, 'RelativeDistance': 0.7385268704655772, 'Status': 'OnTrack', 'X': 6014, 'Y': 1194, 'Z': -3}, {'Date': Timestamp('2021-03-27 16:00:14.475000'), 'SessionTime': Timedelta('0 days 01:15:14.090000'), 'DriverAhead': '10', 'DistanceToDriverAhead': 213.76999999999498, 'Time': Timedelta('0 days 00:01:07.009000'), 'RPM': 9814, 'Speed': 244, 'nGear': 7, 'Throttle': 0, 'Brake': True, 'DRS': 8, 'Source': 'car', 'Distance': 4014.528055555557, 'RelativeDistance': 0.741531519050991, 'Status': 'OnTrack', 'X': 6170, 'Y': 1118, 'Z': -4}, {'Date': Timestamp('2021-03-27 16:00:14.715000'), 'SessionTime': Timedelta('0 days 01:15:14.330000'), 'DriverAhead': '10', 'DistanceToDriverAhead': 213.3033333333292, 'Time': Timedelta('0 days 00:01:07.249000'), 'RPM': 9552, 'Speed': 220, 'nGear': 7, 'Throttle': 0, 'Brake': True, 'DRS': 8, 'Source': 'car', 'Distance': 4029.1947222222234, 'RelativeDistance': 0.7442406284312822, 'Status': 'OnTrack', 'X': 6301, 'Y': 1044, 'Z': -4}, {'Date': Timestamp('2021-03-27 16:00:14.916000'), 'SessionTime': Timedelta('0 days 01:15:14.531000'), 'DriverAhead': '10', 'DistanceToDriverAhead': 214.19666666666217, 'Time': Timedelta('0 days 00:01:07.450000'), 'RPM': 9940, 'Speed': 201, 'nGear': 6, 'Throttle': 0, 'Brake': True, 'DRS': 8, 'Source': 'car', 'Distance': 4040.4172222222237, 'RelativeDistance': 0.7463135588872131, 'Status': 'OnTrack', 'X': 6397, 'Y': 980, 'Z': -5}, {'Date': Timestamp('2021-03-27 16:00:15.156000'), 'SessionTime': Timedelta('0 days 01:15:14.771000'), 'DriverAhead': '10', 'DistanceToDriverAhead': 217.19666666666308, 'Time': Timedelta('0 days 00:01:07.690000'), 'RPM': 9633, 'Speed': 181, 'nGear': 5, 'Throttle': 0, 'Brake': True, 'DRS': 8, 'Source': 'car', 'Distance': 4052.4838888888903, 'RelativeDistance': 0.74854241705918, 'Status': 'OnTrack', 'X': 6490, 'Y': 902, 'Z': -6}, {'Date': Timestamp('2021-03-27 16:00:15.396000'), 'SessionTime': Timedelta('0 days 01:15:15.011000'), 'DriverAhead': '10', 'DistanceToDriverAhead': 221.26333333332877, 'Time': Timedelta('0 days 00:01:07.930000'), 'RPM': 10017, 'Speed': 171, 'nGear': 4, 'Throttle': 0, 'Brake': True, 'DRS': 8, 'Source': 'car', 'Distance': 4063.883888888891, 'RelativeDistance': 0.7506481338956792, 'Status': 'OnTrack', 'X': 6562, 'Y': 820, 'Z': -8}, {'Date': Timestamp('2021-03-27 16:00:15.636000'), 'SessionTime': Timedelta('0 days 01:15:15.251000'), 'DriverAhead': '10', 'DistanceToDriverAhead': 226.59666666666226, 'Time': Timedelta('0 days 00:01:08.170000'), 'RPM': 9429, 'Speed': 159, 'nGear': 4, 'Throttle': 0, 'Brake': True, 'DRS': 8, 'Source': 'car', 'Distance': 4074.4838888888908, 'RelativeDistance': 0.7526060811296169, 'Status': 'OnTrack', 'X': 6613, 'Y': 733, 'Z': -9}, {'Date': Timestamp('2021-03-27 16:00:15.916000'), 'SessionTime': Timedelta('0 days 01:15:15.531000'), 'DriverAhead': '10', 'DistanceToDriverAhead': 233.5966666666627, 'Time': Timedelta('0 days 00:01:08.450000'), 'RPM': 9191, 'Speed': 154, 'nGear': 4, 'Throttle': 0, 'Brake': False, 'DRS': 8, 'Source': 'car', 'Distance': 4086.4616666666684, 'RelativeDistance': 0.7548185204568547, 'Status': 'OnTrack', 'X': 6652, 'Y': 620, 'Z': -10}, {'Date': Timestamp('2021-03-27 16:00:16.155000'), 'SessionTime': Timedelta('0 days 01:15:15.770000'), 'DriverAhead': '10', 'DistanceToDriverAhead': 240.63388888888585, 'Time': Timedelta('0 days 00:01:08.689000'), 'RPM': 8849, 'Speed': 146, 'nGear': 4, 'Throttle': 5, 'Brake': False, 'DRS': 8, 'Source': 'car', 'Distance': 4096.154444444446, 'RelativeDistance': 0.7566088928567767, 'Status': 'OnTrack', 'X': 6668, 'Y': 518, 'Z': -12}, {'Date': Timestamp('2021-03-27 16:00:16.395000'), 'SessionTime': Timedelta('0 days 01:15:16.010000'), 'DriverAhead': '10', 'DistanceToDriverAhead': 248.1005555555521, 'Time': Timedelta('0 days 00:01:08.929000'), 'RPM': 8755, 'Speed': 143, 'nGear': 4, 'Throttle': 8, 'Brake': False, 'DRS': 8, 'Source': 'car', 'Distance': 4105.68777777778, 'RelativeDistance': 0.7583698139539661, 'Status': 'OnTrack', 'X': 6670, 'Y': 419, 'Z': -14}, {'Date': Timestamp('2021-03-27 16:00:16.635000'), 'SessionTime': Timedelta('0 days 01:15:16.250000'), 'DriverAhead': '10', 'DistanceToDriverAhead': 256.100555555553, 'Time': Timedelta('0 days 00:01:09.169000'), 'RPM': 8840, 'Speed': 141, 'nGear': 4, 'Throttle': 35, 'Brake': False, 'DRS': 8, 'Source': 'car', 'Distance': 4115.08777777778, 'RelativeDistance': 0.7601061067840618, 'Status': 'OnTrack', 'X': 6659, 'Y': 328, 'Z': -16}, {'Date': Timestamp('2021-03-27 16:00:16.915000'), 'SessionTime': Timedelta('0 days 01:15:16.530000'), 'DriverAhead': '10', 'DistanceToDriverAhead': 265.43388888888694, 'Time': Timedelta('0 days 00:01:09.449000'), 'RPM': 9109, 'Speed': 144, 'nGear': 4, 'Throttle': 53, 'Brake': False, 'DRS': 8, 'Source': 'car', 'Distance': 4126.287777777779, 'RelativeDistance': 0.7621748812199205, 'Status': 'OnTrack', 'X': 6625, 'Y': 222, 'Z': -18}, {'Date': Timestamp('2021-03-27 16:00:17.155000'), 'SessionTime': Timedelta('0 days 01:15:16.770000'), 'DriverAhead': '10', 'DistanceToDriverAhead': 273.43388888888694, 'Time': Timedelta('0 days 00:01:09.689000'), 'RPM': 9466, 'Speed': 149, 'nGear': 4, 'Throttle': 60, 'Brake': False, 'DRS': 8, 'Source': 'car', 'Distance': 4136.221111111113, 'RelativeDistance': 0.7640096871183905, 'Status': 'OnTrack', 'X': 6580, 'Y': 134, 'Z': -20}, {'Date': Timestamp('2021-03-27 16:00:17.395000'), 'SessionTime': Timedelta('0 days 01:15:17.010000'), 'DriverAhead': '10', 'DistanceToDriverAhead': 281.2338888888862, 'Time': Timedelta('0 days 00:01:09.929000'), 'RPM': 10047, 'Speed': 154, 'nGear': 4, 'Throttle': 79, 'Brake': False, 'DRS': 8, 'Source': 'car', 'Distance': 4146.48777777778, 'RelativeDistance': 0.7659060636845945, 'Status': 'OnTrack', 'X': 6519, 'Y': 51, 'Z': -22}, {'Date': Timestamp('2021-03-27 16:00:17.635000'), 'SessionTime': Timedelta('0 days 01:15:17.250000'), 'DriverAhead': '10', 'DistanceToDriverAhead': 288.9005555555541, 'Time': Timedelta('0 days 00:01:10.169000'), 'RPM': 10232, 'Speed': 160, 'nGear': 4, 'Throttle': 85, 'Brake': False, 'DRS': 8, 'Source': 'car', 'Distance': 4157.154444444446, 'RelativeDistance': 0.7678763250520789, 'Status': 'OnTrack', 'X': 6446, 'Y': -25, 'Z': -25}, {'Date': Timestamp('2021-03-27 16:00:17.915000'), 'SessionTime': Timedelta('0 days 01:15:17.530000'), 'DriverAhead': '10', 'DistanceToDriverAhead': 297.1449999999986, 'Time': Timedelta('0 days 00:01:10.449000'), 'RPM': 10792, 'Speed': 172, 'nGear': 4, 'Throttle': 100, 'Brake': False, 'DRS': 8, 'Source': 'car', 'Distance': 4170.532222222224, 'RelativeDistance': 0.7703473611837991, 'Status': 'OnTrack', 'X': 6343, 'Y': -111, 'Z': -28}, {'Date': Timestamp('2021-03-27 16:00:18.155000'), 'SessionTime': Timedelta('0 days 01:15:17.770000'), 'DriverAhead': '10', 'DistanceToDriverAhead': 303.8783333333313, 'Time': Timedelta('0 days 00:01:10.689000'), 'RPM': 11613, 'Speed': 180, 'nGear': 4, 'Throttle': 100, 'Brake': False, 'DRS': 8, 'Source': 'car', 'Distance': 4182.532222222224, 'RelativeDistance': 0.7725639052222192, 'Status': 'OnTrack', 'X': 6244, 'Y': -181, 'Z': -31}, {'Date': Timestamp('2021-03-27 16:00:18.395000'), 'SessionTime': Timedelta('0 days 01:15:18.010000'), 'DriverAhead': '10', 'DistanceToDriverAhead': 309.8783333333304, 'Time': Timedelta('0 days 00:01:10.929000'), 'RPM': 11547, 'Speed': 193, 'nGear': 4, 'Throttle': 100, 'Brake': False, 'DRS': 8, 'Source': 'car', 'Distance': 4195.398888888891, 'RelativeDistance': 0.7749405329967474, 'Status': 'OnTrack', 'X': 6137, 'Y': -246, 'Z': -33}, {'Date': Timestamp('2021-03-27 16:00:18.635000'), 'SessionTime': Timedelta('0 days 01:15:18.250000'), 'DriverAhead': '10', 'DistanceToDriverAhead': 315.41166666666504, 'Time': Timedelta('0 days 00:01:11.169000'), 'RPM': 10767, 'Speed': 203, 'nGear': 5, 'Throttle': 100, 'Brake': False, 'DRS': 8, 'Source': 'car', 'Distance': 4208.932222222224, 'RelativeDistance': 0.7774403021067433, 'Status': 'OnTrack', 'X': 6007, 'Y': -315, 'Z': -35}, {'Date': Timestamp('2021-03-27 16:00:18.875000'), 'SessionTime': Timedelta('0 days 01:15:18.490000'), 'DriverAhead': '10', 'DistanceToDriverAhead': 320.67833333333056, 'Time': Timedelta('0 days 00:01:11.409000'), 'RPM': 11220, 'Speed': 210, 'nGear': 5, 'Throttle': 100, 'Brake': False, 'DRS': 8, 'Source': 'car', 'Distance': 4222.9322222222245, 'RelativeDistance': 0.7800262701515669, 'Status': 'OnTrack', 'X': 5883, 'Y': -379, 'Z': -36}, {'Date': Timestamp('2021-03-27 16:00:19.115000'), 'SessionTime': Timedelta('0 days 01:15:18.730000'), 'DriverAhead': '10', 'DistanceToDriverAhead': 325.67833333333056, 'Time': Timedelta('0 days 00:01:11.649000'), 'RPM': 11424, 'Speed': 214, 'nGear': 5, 'Throttle': 100, 'Brake': False, 'DRS': 8, 'Source': 'car', 'Distance': 4237.198888888891, 'RelativeDistance': 0.7826614947305774, 'Status': 'OnTrack', 'X': 5756, 'Y': -445, 'Z': -39}, {'Date': Timestamp('2021-03-27 16:00:19.355000'), 'SessionTime': Timedelta('0 days 01:15:18.970000'), 'DriverAhead': '10', 'DistanceToDriverAhead': 330.1449999999977, 'Time': Timedelta('0 days 00:01:11.889000'), 'RPM': 11688, 'Speed': 224, 'nGear': 5, 'Throttle': 100, 'Brake': False, 'DRS': 8, 'Source': 'car', 'Distance': 4252.132222222224, 'RelativeDistance': 0.7854198606450558, 'Status': 'OnTrack', 'X': 5626, 'Y': -512, 'Z': -40}, {'Date': Timestamp('2021-03-27 16:00:19.595000'), 'SessionTime': Timedelta('0 days 01:15:19.210000'), 'DriverAhead': '10', 'DistanceToDriverAhead': 334.4116666666632, 'Time': Timedelta('0 days 00:01:12.129000'), 'RPM': 11988, 'Speed': 229, 'nGear': 5, 'Throttle': 100, 'Brake': False, 'DRS': 8, 'Source': 'car', 'Distance': 4267.398888888892, 'RelativeDistance': 0.7882397972272681, 'Status': 'OnTrack', 'X': 5492, 'Y': -582, 'Z': -41}, {'Date': Timestamp('2021-03-27 16:00:19.835000'), 'SessionTime': Timedelta('0 days 01:15:19.450000'), 'DriverAhead': '10', 'DistanceToDriverAhead': 338.3449999999975, 'Time': Timedelta('0 days 00:01:12.369000'), 'RPM': 10728, 'Speed': 236, 'nGear': 6, 'Throttle': 100, 'Brake': False, 'DRS': 8, 'Source': 'car', 'Distance': 4283.132222222224, 'RelativeDistance': 0.7911459327443077, 'Status': 'OnTrack', 'X': 5354, 'Y': -653, 'Z': -41}, {'Date': Timestamp('2021-03-27 16:00:20.075000'), 'SessionTime': Timedelta('0 days 01:15:19.690000'), 'DriverAhead': '10', 'DistanceToDriverAhead': 342.2116666666634, 'Time': Timedelta('0 days 00:01:12.609000'), 'RPM': 11046, 'Speed': 239, 'nGear': 6, 'Throttle': 100, 'Brake': False, 'DRS': 8, 'Source': 'car', 'Distance': 4299.065555555558, 'RelativeDistance': 0.7940890106619878, 'Status': 'OnTrack', 'X': 5214, 'Y': -727, 'Z': -42}, {'Date': Timestamp('2021-03-27 16:00:20.315000'), 'SessionTime': Timedelta('0 days 01:15:19.930000'), 'DriverAhead': '10', 'DistanceToDriverAhead': 345.67833333332874, 'Time': Timedelta('0 days 00:01:12.849000'), 'RPM': 11280, 'Speed': 245, 'nGear': 6, 'Throttle': 100, 'Brake': False, 'DRS': 8, 'Source': 'car', 'Distance': 4315.398888888892, 'RelativeDistance': 0.7971059733809486, 'Status': 'OnTrack', 'X': 5072, 'Y': -802, 'Z': -41}, {'Date': Timestamp('2021-03-27 16:00:20.555000'), 'SessionTime': Timedelta('0 days 01:15:20.170000'), 'DriverAhead': '10', 'DistanceToDriverAhead': 348.81166666666377, 'Time': Timedelta('0 days 00:01:13.089000'), 'RPM': 11469, 'Speed': 252, 'nGear': 6, 'Throttle': 100, 'Brake': False, 'DRS': 8, 'Source': 'car', 'Distance': 4332.198888888891, 'RelativeDistance': 0.8002091350347366, 'Status': 'OnTrack', 'X': 4926, 'Y': -880, 'Z': -41}, {'Date': Timestamp('2021-03-27 16:00:20.795000'), 'SessionTime': Timedelta('0 days 01:15:20.410000'), 'DriverAhead': '10', 'DistanceToDriverAhead': 351.74499999999625, 'Time': Timedelta('0 days 00:01:13.329000'), 'RPM': 11598, 'Speed': 255, 'nGear': 6, 'Throttle': 100, 'Brake': False, 'DRS': 8, 'Source': 'car', 'Distance': 4349.198888888891, 'RelativeDistance': 0.803349239089165, 'Status': 'OnTrack', 'X': 4779, 'Y': -961, 'Z': -40}, {'Date': Timestamp('2021-03-27 16:00:21.035000'), 'SessionTime': Timedelta('0 days 01:15:20.650000'), 'DriverAhead': '10', 'DistanceToDriverAhead': 354.4116666666623, 'Time': Timedelta('0 days 00:01:13.569000'), 'RPM': 11641, 'Speed': 260, 'nGear': 6, 'Throttle': 100, 'Brake': False, 'DRS': 8, 'Source': 'car', 'Distance': 4366.532222222225, 'RelativeDistance': 0.8065509138113275, 'Status': 'OnTrack', 'X': 4624, 'Y': -1044, 'Z': -39}, {'Date': Timestamp('2021-03-27 16:00:21.275000'), 'SessionTime': Timedelta('0 days 01:15:20.890000'), 'DriverAhead': '10', 'DistanceToDriverAhead': 356.8783333333304, 'Time': Timedelta('0 days 00:01:13.809000'), 'RPM': 10656, 'Speed': 263, 'nGear': 7, 'Throttle': 100, 'Brake': False, 'DRS': 8, 'Source': 'car', 'Distance': 4384.065555555558, 'RelativeDistance': 0.8097895309341301, 'Status': 'OnTrack', 'X': 4501, 'Y': -1112, 'Z': -40}, {'Date': Timestamp('2021-03-27 16:00:21.476000'), 'SessionTime': Timedelta('0 days 01:15:21.091000'), 'DriverAhead': '10', 'DistanceToDriverAhead': 358.8324999999959, 'Time': Timedelta('0 days 00:01:14.010000'), 'RPM': 10692, 'Speed': 266, 'nGear': 7, 'Throttle': 100, 'Brake': False, 'DRS': 8, 'Source': 'car', 'Distance': 4398.917222222225, 'RelativeDistance': 0.8125328120350137, 'Status': 'OnTrack', 'X': 4375, 'Y': -1182, 'Z': -41}, {'Date': Timestamp('2021-03-27 16:00:21.716000'), 'SessionTime': Timedelta('0 days 01:15:21.331000'), 'DriverAhead': '10', 'DistanceToDriverAhead': 360.9658333333291, 'Time': Timedelta('0 days 00:01:14.250000'), 'RPM': 10906, 'Speed': 269, 'nGear': 7, 'Throttle': 100, 'Brake': False, 'DRS': 8, 'Source': 'car', 'Distance': 4416.8505555555585, 'RelativeDistance': 0.8158453139590971, 'Status': 'OnTrack', 'X': 4218, 'Y': -1269, 'Z': -42}, {'Date': Timestamp('2021-03-27 16:00:21.956000'), 'SessionTime': Timedelta('0 days 01:15:21.571000'), 'DriverAhead': '10', 'DistanceToDriverAhead': 362.96583333333, 'Time': Timedelta('0 days 00:01:14.490000'), 'RPM': 10982, 'Speed': 273, 'nGear': 7, 'Throttle': 100, 'Brake': False, 'DRS': 8, 'Source': 'car', 'Distance': 4435.050555555558, 'RelativeDistance': 0.8192070724173676, 'Status': 'OnTrack', 'X': 4061, 'Y': -1356, 'Z': -44}, {'Date': Timestamp('2021-03-27 16:00:22.196000'), 'SessionTime': Timedelta('0 days 01:15:21.811000'), 'DriverAhead': '10', 'DistanceToDriverAhead': 364.7658333333293, 'Time': Timedelta('0 days 00:01:14.730000'), 'RPM': 11034, 'Speed': 274, 'nGear': 7, 'Throttle': 100, 'Brake': False, 'DRS': 8, 'Source': 'car', 'Distance': 4453.317222222226, 'RelativeDistance': 0.822581145009185, 'Status': 'OnTrack', 'X': 3902, 'Y': -1444, 'Z': -48}, {'Date': Timestamp('2021-03-27 16:00:22.436000'), 'SessionTime': Timedelta('0 days 01:15:22.051000'), 'DriverAhead': '10', 'DistanceToDriverAhead': 362.5658333333304, 'Time': Timedelta('0 days 00:01:14.970000'), 'RPM': 11199, 'Speed': 278, 'nGear': 7, 'Throttle': 100, 'Brake': False, 'DRS': 8, 'Source': 'car', 'Distance': 4471.8505555555585, 'RelativeDistance': 0.8260044741351893, 'Status': 'OnTrack', 'X': 3741, 'Y': -1534, 'Z': -51}, {'Date': Timestamp('2021-03-27 16:00:22.676000'), 'SessionTime': Timedelta('0 days 01:15:22.291000'), 'DriverAhead': '10', 'DistanceToDriverAhead': 358.23249999999734, 'Time': Timedelta('0 days 00:01:15.210000'), 'RPM': 11313, 'Speed': 280, 'nGear': 7, 'Throttle': 100, 'Brake': False, 'DRS': 8, 'Source': 'car', 'Distance': 4490.5172222222245, 'RelativeDistance': 0.8294524315282871, 'Status': 'OnTrack', 'X': 3579, 'Y': -1625, 'Z': -56}, {'Date': Timestamp('2021-03-27 16:00:22.915000'), 'SessionTime': Timedelta('0 days 01:15:22.530000'), 'DriverAhead': '10', 'DistanceToDriverAhead': 352.58944444444114, 'Time': Timedelta('0 days 00:01:15.449000'), 'RPM': 11313, 'Speed': 282, 'nGear': 7, 'Throttle': 100, 'Brake': False, 'DRS': 8, 'Source': 'car', 'Distance': 4509.238888888892, 'RelativeDistance': 0.8329105480815612, 'Status': 'OnTrack', 'X': 3416, 'Y': -1715, 'Z': -60}, {'Date': Timestamp('2021-03-27 16:00:23.155000'), 'SessionTime': Timedelta('0 days 01:15:22.770000'), 'DriverAhead': '10', 'DistanceToDriverAhead': 345.2561111111081, 'Time': Timedelta('0 days 00:01:15.689000'), 'RPM': 11420, 'Speed': 283, 'nGear': 7, 'Throttle': 100, 'Brake': False, 'DRS': 8, 'Source': 'car', 'Distance': 4528.105555555558, 'RelativeDistance': 0.8363954478752993, 'Status': 'OnTrack', 'X': 3251, 'Y': -1807, 'Z': -66}, {'Date': Timestamp('2021-03-27 16:00:23.395000'), 'SessionTime': Timedelta('0 days 01:15:23.010000'), 'DriverAhead': '10', 'DistanceToDriverAhead': 337.2561111111072, 'Time': Timedelta('0 days 00:01:15.929000'), 'RPM': 11531, 'Speed': 286, 'nGear': 7, 'Throttle': 100, 'Brake': False, 'DRS': 8, 'Source': 'car', 'Distance': 4547.172222222225, 'RelativeDistance': 0.8399172900696781, 'Status': 'OnTrack', 'X': 3086, 'Y': -1899, 'Z': -73}, {'Date': Timestamp('2021-03-27 16:00:23.635000'), 'SessionTime': Timedelta('0 days 01:15:23.250000'), 'DriverAhead': '10', 'DistanceToDriverAhead': 327.72277777777435, 'Time': Timedelta('0 days 00:01:16.169000'), 'RPM': 11565, 'Speed': 289, 'nGear': 7, 'Throttle': 100, 'Brake': False, 'DRS': 8, 'Source': 'car', 'Distance': 4566.438888888892, 'RelativeDistance': 0.843476074664697, 'Status': 'OnTrack', 'X': 2918, 'Y': -1992, 'Z': -80}, {'Date': Timestamp('2021-03-27 16:00:23.875000'), 'SessionTime': Timedelta('0 days 01:15:23.490000'), 'DriverAhead': '10', 'DistanceToDriverAhead': 317.65611111110684, 'Time': Timedelta('0 days 00:01:16.409000'), 'RPM': 11598, 'Speed': 290, 'nGear': 7, 'Throttle': 100, 'Brake': False, 'DRS': 8, 'Source': 'car', 'Distance': 4585.7722222222255, 'RelativeDistance': 0.8470471733932627, 'Status': 'OnTrack', 'X': 2747, 'Y': -2088, 'Z': -86}, {'Date': Timestamp('2021-03-27 16:00:24.115000'), 'SessionTime': Timedelta('0 days 01:15:23.730000'), 'DriverAhead': '10', 'DistanceToDriverAhead': 306.9894444444408, 'Time': Timedelta('0 days 00:01:16.649000'), 'RPM': 10954, 'Speed': 292, 'nGear': 7, 'Throttle': 100, 'Brake': False, 'DRS': 8, 'Source': 'car', 'Distance': 4605.238888888892, 'RelativeDistance': 0.850642900388922, 'Status': 'OnTrack', 'X': 2578, 'Y': -2182, 'Z': -93}, {'Date': Timestamp('2021-03-27 16:00:24.355000'), 'SessionTime': Timedelta('0 days 01:15:23.970000'), 'DriverAhead': '10', 'DistanceToDriverAhead': 295.9227777777751, 'Time': Timedelta('0 days 00:01:16.889000'), 'RPM': 10608, 'Speed': 293, 'nGear': 8, 'Throttle': 100, 'Brake': False, 'DRS': 8, 'Source': 'car', 'Distance': 4624.772222222225, 'RelativeDistance': 0.854250941518128, 'Status': 'OnTrack', 'X': 2408, 'Y': -2277, 'Z': -97}, {'Date': Timestamp('2021-03-27 16:00:24.595000'), 'SessionTime': Timedelta('0 days 01:15:24.210000'), 'DriverAhead': '10', 'DistanceToDriverAhead': 284.52277777777454, 'Time': Timedelta('0 days 00:01:17.129000'), 'RPM': 10597, 'Speed': 294, 'nGear': 8, 'Throttle': 100, 'Brake': False, 'DRS': 8, 'Source': 'car', 'Distance': 4644.372222222225, 'RelativeDistance': 0.8578712967808808, 'Status': 'OnTrack', 'X': 2237, 'Y': -2372, 'Z': -102}, {'Date': Timestamp('2021-03-27 16:00:24.835000'), 'SessionTime': Timedelta('0 days 01:15:24.450000'), 'DriverAhead': '10', 'DistanceToDriverAhead': 272.78944444444187, 'Time': Timedelta('0 days 00:01:17.369000'), 'RPM': 10625, 'Speed': 295, 'nGear': 8, 'Throttle': 100, 'Brake': False, 'DRS': 8, 'Source': 'car', 'Distance': 4664.038888888891, 'RelativeDistance': 0.8615039661771803, 'Status': 'OnTrack', 'X': 2065, 'Y': -2468, 'Z': -105}, {'Date': Timestamp('2021-03-27 16:00:25.075000'), 'SessionTime': Timedelta('0 days 01:15:24.690000'), 'DriverAhead': '10', 'DistanceToDriverAhead': 261.3227777777756, 'Time': Timedelta('0 days 00:01:17.609000'), 'RPM': 10697, 'Speed': 296, 'nGear': 8, 'Throttle': 100, 'Brake': False, 'DRS': 8, 'Source': 'car', 'Distance': 4683.772222222224, 'RelativeDistance': 0.8651489497070266, 'Status': 'OnTrack', 'X': 1893, 'Y': -2564, 'Z': -108}, {'Date': Timestamp('2021-03-27 16:00:25.315000'), 'SessionTime': Timedelta('0 days 01:15:24.930000'), 'DriverAhead': '10', 'DistanceToDriverAhead': 250.2561111111081, 'Time': Timedelta('0 days 00:01:17.849000'), 'RPM': 10693, 'Speed': 297, 'nGear': 8, 'Throttle': 100, 'Brake': False, 'DRS': 8, 'Source': 'car', 'Distance': 4703.572222222225, 'RelativeDistance': 0.8688062473704199, 'Status': 'OnTrack', 'X': 1721, 'Y': -2661, 'Z': -109}, {'Date': Timestamp('2021-03-27 16:00:25.555000'), 'SessionTime': Timedelta('0 days 01:15:25.170000'), 'DriverAhead': '10', 'DistanceToDriverAhead': 239.78944444444278, 'Time': Timedelta('0 days 00:01:18.089000'), 'RPM': 10736, 'Speed': 298, 'nGear': 8, 'Throttle': 100, 'Brake': False, 'DRS': 8, 'Source': 'car', 'Distance': 4723.438888888891, 'RelativeDistance': 0.8724758591673597, 'Status': 'OnTrack', 'X': 1548, 'Y': -2760, 'Z': -110}, {'Date': Timestamp('2021-03-27 16:00:25.795000'), 'SessionTime': Timedelta('0 days 01:15:25.410000'), 'DriverAhead': '10', 'DistanceToDriverAhead': 229.9894444444435, 'Time': Timedelta('0 days 00:01:18.329000'), 'RPM': 10776, 'Speed': 298, 'nGear': 8, 'Throttle': 100, 'Brake': False, 'DRS': 8, 'Source': 'car', 'Distance': 4743.305555555557, 'RelativeDistance': 0.8761454709642995, 'Status': 'OnTrack', 'X': 1376, 'Y': -2858, 'Z': -110}, {'Date': Timestamp('2021-03-27 16:00:26.035000'), 'SessionTime': Timedelta('0 days 01:15:25.650000'), 'DriverAhead': '10', 'DistanceToDriverAhead': 221.1227777777758, 'Time': Timedelta('0 days 00:01:18.569000'), 'RPM': 10818, 'Speed': 299, 'nGear': 8, 'Throttle': 100, 'Brake': False, 'DRS': 8, 'Source': 'car', 'Distance': 4763.238888888891, 'RelativeDistance': 0.8798273968947864, 'Status': 'OnTrack', 'X': 1203, 'Y': -2958, 'Z': -109}, {'Date': Timestamp('2021-03-27 16:00:26.275000'), 'SessionTime': Timedelta('0 days 01:15:25.890000'), 'DriverAhead': '10', 'DistanceToDriverAhead': 212.9227777777769, 'Time': Timedelta('0 days 00:01:18.809000'), 'RPM': 10818, 'Speed': 299, 'nGear': 8, 'Throttle': 100, 'Brake': False, 'DRS': 8, 'Source': 'car', 'Distance': 4783.172222222223, 'RelativeDistance': 0.883509322825273, 'Status': 'OnTrack', 'X': 1030, 'Y': -3057, 'Z': -108}, {'Date': Timestamp('2021-03-27 16:00:26.515000'), 'SessionTime': Timedelta('0 days 01:15:26.130000'), 'DriverAhead': '10', 'DistanceToDriverAhead': 205.25611111110902, 'Time': Timedelta('0 days 00:01:19.049000'), 'RPM': 10833, 'Speed': 299, 'nGear': 8, 'Throttle': 100, 'Brake': True, 'DRS': 8, 'Source': 'car', 'Distance': 4803.105555555558, 'RelativeDistance': 0.8871912487557598, 'Status': 'OnTrack', 'X': 855, 'Y': -3155, 'Z': -107}, {'Date': Timestamp('2021-03-27 16:00:26.755000'), 'SessionTime': Timedelta('0 days 01:15:26.370000'), 'DriverAhead': '10', 'DistanceToDriverAhead': 201.1227777777758, 'Time': Timedelta('0 days 00:01:19.289000'), 'RPM': 9876, 'Speed': 257, 'nGear': 8, 'Throttle': 0, 'Brake': True, 'DRS': 8, 'Source': 'car', 'Distance': 4820.238888888891, 'RelativeDistance': 0.8903559810772819, 'Status': 'OnTrack', 'X': 693, 'Y': -3248, 'Z': -106}, {'Date': Timestamp('2021-03-27 16:00:26.995000'), 'SessionTime': Timedelta('0 days 01:15:26.610000'), 'DriverAhead': '10', 'DistanceToDriverAhead': 199.45611111110975, 'Time': Timedelta('0 days 00:01:19.529000'), 'RPM': 10033, 'Speed': 227, 'nGear': 8, 'Throttle': 0, 'Brake': True, 'DRS': 8, 'Source': 'car', 'Distance': 4835.372222222224, 'RelativeDistance': 0.8931512893924005, 'Status': 'OnTrack', 'X': 553, 'Y': -3326, 'Z': -107}, {'Date': Timestamp('2021-03-27 16:00:27.235000'), 'SessionTime': Timedelta('0 days 01:15:26.850000'), 'DriverAhead': '10', 'DistanceToDriverAhead': 200.85611111110939, 'Time': Timedelta('0 days 00:01:19.769000'), 'RPM': 10287, 'Speed': 192, 'nGear': 8, 'Throttle': 0, 'Brake': True, 'DRS': 8, 'Source': 'car', 'Distance': 4848.172222222224, 'RelativeDistance': 0.895515603033382, 'Status': 'OnTrack', 'X': 421, 'Y': -3396, 'Z': -109}, {'Date': Timestamp('2021-03-27 16:00:27.475000'), 'SessionTime': Timedelta('0 days 01:15:27.090000'), 'DriverAhead': '10', 'DistanceToDriverAhead': 203.65611111110957, 'Time': Timedelta('0 days 00:01:20.009000'), 'RPM': 9566, 'Speed': 173, 'nGear': 6, 'Throttle': 0, 'Brake': True, 'DRS': 8, 'Source': 'car', 'Distance': 4859.705555555557, 'RelativeDistance': 0.8976459481369745, 'Status': 'OnTrack', 'X': 312, 'Y': -3444, 'Z': -109}, {'Date': Timestamp('2021-03-27 16:00:27.715000'), 'SessionTime': Timedelta('0 days 01:15:27.330000'), 'DriverAhead': '10', 'DistanceToDriverAhead': 207.9227777777778, 'Time': Timedelta('0 days 00:01:20.249000'), 'RPM': 9379, 'Speed': 161, 'nGear': 4, 'Throttle': 0, 'Brake': True, 'DRS': 8, 'Source': 'car', 'Distance': 4870.43888888889, 'RelativeDistance': 0.8996285236380057, 'Status': 'OnTrack', 'X': 212, 'Y': -3476, 'Z': -110}, {'Date': Timestamp('2021-03-27 16:00:27.955000'), 'SessionTime': Timedelta('0 days 01:15:27.570000'), 'DriverAhead': '10', 'DistanceToDriverAhead': 213.65611111111048, 'Time': Timedelta('0 days 00:01:20.489000'), 'RPM': 8872, 'Speed': 145, 'nGear': 4, 'Throttle': 0, 'Brake': True, 'DRS': 8, 'Source': 'car', 'Distance': 4880.105555555557, 'RelativeDistance': 0.9014140730022886, 'Status': 'OnTrack', 'X': 116, 'Y': -3496, 'Z': -111}, {'Date': Timestamp('2021-03-27 16:00:28.156000'), 'SessionTime': Timedelta('0 days 01:15:27.771000'), 'DriverAhead': '10', 'DistanceToDriverAhead': 219.07194444444485, 'Time': Timedelta('0 days 00:01:20.690000'), 'RPM': 8218, 'Speed': 139, 'nGear': 4, 'Throttle': 0, 'Brake': True, 'DRS': 8, 'Source': 'car', 'Distance': 4887.86638888889, 'RelativeDistance': 0.9028475920738028, 'Status': 'OnTrack', 'X': 39, 'Y': -3503, 'Z': -112}, {'Date': Timestamp('2021-03-27 16:00:28.396000'), 'SessionTime': Timedelta('0 days 01:15:28.011000'), 'DriverAhead': '10', 'DistanceToDriverAhead': 226.20527777777806, 'Time': Timedelta('0 days 00:01:20.930000'), 'RPM': 7915, 'Speed': 134, 'nGear': 4, 'Throttle': 0, 'Brake': False, 'DRS': 8, 'Source': 'car', 'Distance': 4896.799722222223, 'RelativeDistance': 0.9044976859690712, 'Status': 'OnTrack', 'X': -46, 'Y': -3502, 'Z': -113}, {'Date': Timestamp('2021-03-27 16:00:28.636000'), 'SessionTime': Timedelta('0 days 01:15:28.251000'), 'DriverAhead': '10', 'DistanceToDriverAhead': 234.20527777777806, 'Time': Timedelta('0 days 00:01:21.170000'), 'RPM': 7765, 'Speed': 127, 'nGear': 4, 'Throttle': 3, 'Brake': False, 'DRS': 8, 'Source': 'car', 'Distance': 4905.266388888889, 'RelativeDistance': 0.906061580929512, 'Status': 'OnTrack', 'X': -121, 'Y': -3487, 'Z': -115}, {'Date': Timestamp('2021-03-27 16:00:28.876000'), 'SessionTime': Timedelta('0 days 01:15:28.491000'), 'DriverAhead': '10', 'DistanceToDriverAhead': 242.4052777777788, 'Time': Timedelta('0 days 00:01:21.410000'), 'RPM': 8061, 'Speed': 127, 'nGear': 4, 'Throttle': 39, 'Brake': False, 'DRS': 8, 'Source': 'car', 'Distance': 4913.733055555555, 'RelativeDistance': 0.9076254758899527, 'Status': 'OnTrack', 'X': -190, 'Y': -3457, 'Z': -118}, {'Date': Timestamp('2021-03-27 16:00:29.116000'), 'SessionTime': Timedelta('0 days 01:15:28.731000'), 'DriverAhead': '10', 'DistanceToDriverAhead': 250.6052777777777, 'Time': Timedelta('0 days 00:01:21.650000'), 'RPM': 8313, 'Speed': 130, 'nGear': 4, 'Throttle': 56, 'Brake': False, 'DRS': 8, 'Source': 'car', 'Distance': 4922.399722222222, 'RelativeDistance': 0.909226313251034, 'Status': 'OnTrack', 'X': -257, 'Y': -3407, 'Z': -119}, {'Date': Timestamp('2021-03-27 16:00:29.356000'), 'SessionTime': Timedelta('0 days 01:15:28.971000'), 'DriverAhead': '10', 'DistanceToDriverAhead': 258.8052777777775, 'Time': Timedelta('0 days 00:01:21.890000'), 'RPM': 8701, 'Speed': 136, 'nGear': 4, 'Throttle': 64, 'Brake': False, 'DRS': 8, 'Source': 'car', 'Distance': 4931.466388888889, 'RelativeDistance': 0.9109010354133958, 'Status': 'OnTrack', 'X': -321, 'Y': -3337, 'Z': -120}, {'Date': Timestamp('2021-03-27 16:00:29.595000'), 'SessionTime': Timedelta('0 days 01:15:29.210000'), 'DriverAhead': '10', 'DistanceToDriverAhead': 266.7055555555553, 'Time': Timedelta('0 days 00:01:22.129000'), 'RPM': 9201, 'Speed': 143, 'nGear': 4, 'Throttle': 91, 'Brake': False, 'DRS': 8, 'Source': 'car', 'Distance': 4940.96, 'RelativeDistance': 0.9126546193393468, 'Status': 'OnTrack', 'X': -380, 'Y': -3257, 'Z': -122}, {'Date': Timestamp('2021-03-27 16:00:29.835000'), 'SessionTime': Timedelta('0 days 01:15:29.450000'), 'DriverAhead': '10', 'DistanceToDriverAhead': 274.03888888888923, 'Time': Timedelta('0 days 00:01:22.369000'), 'RPM': 10028, 'Speed': 156, 'nGear': 4, 'Throttle': 100, 'Brake': False, 'DRS': 8, 'Source': 'car', 'Distance': 4951.36, 'RelativeDistance': 0.9145756241726442, 'Status': 'OnTrack', 'X': -433, 'Y': -3169, 'Z': -124}, {'Date': Timestamp('2021-03-27 16:00:30.075000'), 'SessionTime': Timedelta('0 days 01:15:29.690000'), 'DriverAhead': '10', 'DistanceToDriverAhead': 281.03888888888923, 'Time': Timedelta('0 days 00:01:22.609000'), 'RPM': 10487, 'Speed': 165, 'nGear': 4, 'Throttle': 100, 'Brake': False, 'DRS': 8, 'Source': 'car', 'Distance': 4962.36, 'RelativeDistance': 0.9166074562078625, 'Status': 'OnTrack', 'X': -479, 'Y': -3072, 'Z': -127}, {'Date': Timestamp('2021-03-27 16:00:30.315000'), 'SessionTime': Timedelta('0 days 01:15:29.930000'), 'DriverAhead': '10', 'DistanceToDriverAhead': 287.5722222222221, 'Time': Timedelta('0 days 00:01:22.849000'), 'RPM': 11017, 'Speed': 175, 'nGear': 4, 'Throttle': 100, 'Brake': False, 'DRS': 8, 'Source': 'car', 'Distance': 4974.026666666667, 'RelativeDistance': 0.9187624295785488, 'Status': 'OnTrack', 'X': -503, 'Y': -3004, 'Z': -129}, {'Date': Timestamp('2021-03-27 16:00:30.555000'), 'SessionTime': Timedelta('0 days 01:15:30.170000'), 'DriverAhead': '10', 'DistanceToDriverAhead': 293.7055555555562, 'Time': Timedelta('0 days 00:01:23.089000'), 'RPM': 11690, 'Speed': 186, 'nGear': 4, 'Throttle': 100, 'Brake': False, 'DRS': 8, 'Source': 'car', 'Distance': 4986.426666666666, 'RelativeDistance': 0.9210528584182496, 'Status': 'OnTrack', 'X': -539, 'Y': -2883, 'Z': -131}, {'Date': Timestamp('2021-03-27 16:00:30.795000'), 'SessionTime': Timedelta('0 days 01:15:30.410000'), 'DriverAhead': '10', 'DistanceToDriverAhead': 299.5722222222221, 'Time': Timedelta('0 days 00:01:23.329000'), 'RPM': 11842, 'Speed': 193, 'nGear': 4, 'Throttle': 100, 'Brake': False, 'DRS': 8, 'Source': 'car', 'Distance': 4999.293333333333, 'RelativeDistance': 0.9234294861927778, 'Status': 'OnTrack', 'X': -562, 'Y': -2760, 'Z': -134}, {'Date': Timestamp('2021-03-27 16:00:31.035000'), 'SessionTime': Timedelta('0 days 01:15:30.650000'), 'DriverAhead': '10', 'DistanceToDriverAhead': 304.9722222222208, 'Time': Timedelta('0 days 00:01:23.569000'), 'RPM': 10859, 'Speed': 203, 'nGear': 4, 'Throttle': 100, 'Brake': False, 'DRS': 8, 'Source': 'car', 'Distance': 5012.826666666667, 'RelativeDistance': 0.9259292553027738, 'Status': 'OnTrack', 'X': -575, 'Y': -2629, 'Z': -138}, {'Date': Timestamp('2021-03-27 16:00:31.275000'), 'SessionTime': Timedelta('0 days 01:15:30.890000'), 'DriverAhead': '10', 'DistanceToDriverAhead': 310.23888888888814, 'Time': Timedelta('0 days 00:01:23.809000'), 'RPM': 11046, 'Speed': 208, 'nGear': 5, 'Throttle': 100, 'Brake': False, 'DRS': 8, 'Source': 'car', 'Distance': 5026.693333333334, 'RelativeDistance': 0.9284905950805038, 'Status': 'OnTrack', 'X': -580, 'Y': -2490, 'Z': -140}, {'Date': Timestamp('2021-03-27 16:00:31.515000'), 'SessionTime': Timedelta('0 days 01:15:31.130000'), 'DriverAhead': '10', 'DistanceToDriverAhead': 315.23888888888723, 'Time': Timedelta('0 days 00:01:24.049000'), 'RPM': 11281, 'Speed': 214, 'nGear': 5, 'Throttle': 100, 'Brake': False, 'DRS': 8, 'Source': 'car', 'Distance': 5040.960000000001, 'RelativeDistance': 0.9311258196595145, 'Status': 'OnTrack', 'X': -577, 'Y': -2347, 'Z': -143}, {'Date': Timestamp('2021-03-27 16:00:31.755000'), 'SessionTime': Timedelta('0 days 01:15:31.370000'), 'DriverAhead': '10', 'DistanceToDriverAhead': 319.9055555555542, 'Time': Timedelta('0 days 00:01:24.289000'), 'RPM': 11694, 'Speed': 222, 'nGear': 5, 'Throttle': 100, 'Brake': False, 'DRS': 8, 'Source': 'car', 'Distance': 5055.76, 'RelativeDistance': 0.9338595573068991, 'Status': 'OnTrack', 'X': -570, 'Y': -2200, 'Z': -146}, {'Date': Timestamp('2021-03-27 16:00:31.995000'), 'SessionTime': Timedelta('0 days 01:15:31.610000'), 'DriverAhead': '10', 'DistanceToDriverAhead': 324.30555555555475, 'Time': Timedelta('0 days 00:01:24.529000'), 'RPM': 11179, 'Speed': 227, 'nGear': 5, 'Throttle': 100, 'Brake': False, 'DRS': 8, 'Source': 'car', 'Distance': 5070.893333333333, 'RelativeDistance': 0.9366548656220177, 'Status': 'OnTrack', 'X': -561, 'Y': -2050, 'Z': -148}, {'Date': Timestamp('2021-03-27 16:00:32.235000'), 'SessionTime': Timedelta('0 days 01:15:31.850000'), 'DriverAhead': '10', 'DistanceToDriverAhead': 328.8388888888867, 'Time': Timedelta('0 days 00:01:24.769000'), 'RPM': 10703, 'Speed': 229, 'nGear': 6, 'Throttle': 100, 'Brake': False, 'DRS': 8, 'Source': 'car', 'Distance': 5086.160000000001, 'RelativeDistance': 0.9394748022042301, 'Status': 'OnTrack', 'X': -552, 'Y': -1898, 'Z': -150}, {'Date': Timestamp('2021-03-27 16:00:32.475000'), 'SessionTime': Timedelta('0 days 01:15:32.090000'), 'DriverAhead': '10', 'DistanceToDriverAhead': 332.8388888888867, 'Time': Timedelta('0 days 00:01:25.009000'), 'RPM': 10837, 'Speed': 238, 'nGear': 6, 'Throttle': 100, 'Brake': False, 'DRS': 8, 'Source': 'car', 'Distance': 5102.026666666667, 'RelativeDistance': 0.9424055659883632, 'Status': 'OnTrack', 'X': -541, 'Y': -1742, 'Z': -152}, {'Date': Timestamp('2021-03-27 16:00:32.715000'), 'SessionTime': Timedelta('0 days 01:15:32.330000'), 'DriverAhead': '10', 'DistanceToDriverAhead': 336.7055555555544, 'Time': Timedelta('0 days 00:01:25.249000'), 'RPM': 11073, 'Speed': 241, 'nGear': 6, 'Throttle': 100, 'Brake': False, 'DRS': 8, 'Source': 'car', 'Distance': 5118.093333333333, 'RelativeDistance': 0.9453732721731367, 'Status': 'OnTrack', 'X': -531, 'Y': -1582, 'Z': -154}, {'Date': Timestamp('2021-03-27 16:00:32.955000'), 'SessionTime': Timedelta('0 days 01:15:32.570000'), 'DriverAhead': '10', 'DistanceToDriverAhead': 340.30555555555384, 'Time': Timedelta('0 days 00:01:25.489000'), 'RPM': 11246, 'Speed': 246, 'nGear': 6, 'Throttle': 100, 'Brake': False, 'DRS': 8, 'Source': 'car', 'Distance': 5134.493333333334, 'RelativeDistance': 0.9484025490256444, 'Status': 'OnTrack', 'X': -522, 'Y': -1421, 'Z': -155}, {'Date': Timestamp('2021-03-27 16:00:33.195000'), 'SessionTime': Timedelta('0 days 01:15:32.810000'), 'DriverAhead': '10', 'DistanceToDriverAhead': 343.6388888888887, 'Time': Timedelta('0 days 00:01:25.729000'), 'RPM': 11418, 'Speed': 251, 'nGear': 6, 'Throttle': 100, 'Brake': False, 'DRS': 8, 'Source': 'car', 'Distance': 5151.2266666666665, 'RelativeDistance': 0.9514933965458856, 'Status': 'OnTrack', 'X': -513, 'Y': -1256, 'Z': -157}, {'Date': Timestamp('2021-03-27 16:00:33.435000'), 'SessionTime': Timedelta('0 days 01:15:33.050000'), 'DriverAhead': '10', 'DistanceToDriverAhead': 346.7722222222219, 'Time': Timedelta('0 days 00:01:25.969000'), 'RPM': 11469, 'Speed': 255, 'nGear': 6, 'Throttle': 100, 'Brake': False, 'DRS': 8, 'Source': 'car', 'Distance': 5168.2266666666665, 'RelativeDistance': 0.954633500600314, 'Status': 'OnTrack', 'X': -504, 'Y': -1088, 'Z': -157}, {'Date': Timestamp('2021-03-27 16:00:33.675000'), 'SessionTime': Timedelta('0 days 01:15:33.290000'), 'DriverAhead': '10', 'DistanceToDriverAhead': 349.6388888888878, 'Time': Timedelta('0 days 00:01:26.209000'), 'RPM': 11803, 'Speed': 259, 'nGear': 6, 'Throttle': 100, 'Brake': False, 'DRS': 8, 'Source': 'car', 'Distance': 5185.493333333334, 'RelativeDistance': 0.9578228611889298, 'Status': 'OnTrack', 'X': -495, 'Y': -917, 'Z': -158}, {'Date': Timestamp('2021-03-27 16:00:33.915000'), 'SessionTime': Timedelta('0 days 01:15:33.530000'), 'DriverAhead': '10', 'DistanceToDriverAhead': 352.5722222222221, 'Time': Timedelta('0 days 00:01:26.449000'), 'RPM': 11238, 'Speed': 259, 'nGear': 6, 'Throttle': 100, 'Brake': False, 'DRS': 8, 'Source': 'car', 'Distance': 5202.76, 'RelativeDistance': 0.9610122217775453, 'Status': 'OnTrack', 'X': -485, 'Y': -745, 'Z': -157}, {'Date': Timestamp('2021-03-27 16:00:34.155000'), 'SessionTime': Timedelta('0 days 01:15:33.770000'), 'DriverAhead': '10', 'DistanceToDriverAhead': 355.23888888888905, 'Time': Timedelta('0 days 00:01:26.689000'), 'RPM': 10708, 'Speed': 264, 'nGear': 7, 'Throttle': 100, 'Brake': False, 'DRS': 14, 'Source': 'car', 'Distance': 5220.36, 'RelativeDistance': 0.9642631530338946, 'Status': 'OnTrack', 'X': -476, 'Y': -570, 'Z': -157}, {'Date': Timestamp('2021-03-27 16:00:34.395000'), 'SessionTime': Timedelta('0 days 01:15:34.010000'), 'DriverAhead': '10', 'DistanceToDriverAhead': 357.50555555555457, 'Time': Timedelta('0 days 00:01:26.929000'), 'RPM': 10842, 'Speed': 269, 'nGear': 7, 'Throttle': 100, 'Brake': False, 'DRS': 12, 'Source': 'car', 'Distance': 5238.293333333334, 'RelativeDistance': 0.9675756549579781, 'Status': 'OnTrack', 'X': -466, 'Y': -394, 'Z': -158}, {'Date': Timestamp('2021-03-27 16:00:34.596000'), 'SessionTime': Timedelta('0 days 01:15:34.211000'), 'DriverAhead': '10', 'DistanceToDriverAhead': 359.34805555555613, 'Time': Timedelta('0 days 00:01:27.130000'), 'RPM': 10933, 'Speed': 271, 'nGear': 7, 'Throttle': 100, 'Brake': False, 'DRS': 12, 'Source': 'car', 'Distance': 5253.424166666667, 'RelativeDistance': 0.9703705014930888, 'Status': 'OnTrack', 'X': -458, 'Y': -244, 'Z': -159}, {'Date': Timestamp('2021-03-27 16:00:34.876000'), 'SessionTime': Timedelta('0 days 01:15:34.491000'), 'DriverAhead': '10', 'DistanceToDriverAhead': 361.68138888888916, 'Time': Timedelta('0 days 00:01:27.410000'), 'RPM': 11166, 'Speed': 274, 'nGear': 7, 'Throttle': 100, 'Brake': False, 'DRS': 12, 'Source': 'car', 'Distance': 5274.735277777778, 'RelativeDistance': 0.9743069195168755, 'Status': 'OnTrack', 'X': -447, 'Y': -36, 'Z': -158}, {'Date': Timestamp('2021-03-27 16:00:35.116000'), 'SessionTime': Timedelta('0 days 01:15:34.731000'), 'DriverAhead': '10', 'DistanceToDriverAhead': 363.3480555555552, 'Time': Timedelta('0 days 00:01:27.650000'), 'RPM': 11247, 'Speed': 278, 'nGear': 7, 'Throttle': 100, 'Brake': False, 'DRS': 12, 'Source': 'car', 'Distance': 5293.268611111112, 'RelativeDistance': 0.97773024864288, 'Status': 'OnTrack', 'X': -437, 'Y': 141, 'Z': -159}, {'Date': Timestamp('2021-03-27 16:00:35.356000'), 'SessionTime': Timedelta('0 days 01:15:34.971000'), 'DriverAhead': '10', 'DistanceToDriverAhead': 364.8147222222224, 'Time': Timedelta('0 days 00:01:27.890000'), 'RPM': 11376, 'Speed': 281, 'nGear': 7, 'Throttle': 100, 'Brake': False, 'DRS': 12, 'Source': 'car', 'Distance': 5312.001944444444, 'RelativeDistance': 0.9811905201695246, 'Status': 'OnTrack', 'X': -427, 'Y': 326, 'Z': -158}, {'Date': Timestamp('2021-03-27 16:00:35.636000'), 'SessionTime': Timedelta('0 days 01:15:35.251000'), 'DriverAhead': '10', 'DistanceToDriverAhead': 366.2147222222229, 'Time': Timedelta('0 days 00:01:28.170000'), 'RPM': 11386, 'Speed': 283, 'nGear': 7, 'Throttle': 100, 'Brake': False, 'DRS': 12, 'Source': 'car', 'Distance': 5334.013055555555, 'RelativeDistance': 0.9852562365955525, 'Status': 'OnTrack', 'X': -416, 'Y': 545, 'Z': -159}, {'Date': Timestamp('2021-03-27 16:00:35.876000'), 'SessionTime': Timedelta('0 days 01:15:35.491000'), 'DriverAhead': '10', 'DistanceToDriverAhead': 367.34805555555704, 'Time': Timedelta('0 days 00:01:28.410000'), 'RPM': 11418, 'Speed': 285, 'nGear': 7, 'Throttle': 100, 'Brake': False, 'DRS': 12, 'Source': 'car', 'Distance': 5353.013055555555, 'RelativeDistance': 0.9887657646563843, 'Status': 'OnTrack', 'X': -406, 'Y': 730, 'Z': -158}, {'Date': Timestamp('2021-03-27 16:00:36.116000'), 'SessionTime': Timedelta('0 days 01:15:35.731000'), 'DriverAhead': '10', 'DistanceToDriverAhead': 368.34805555555613, 'Time': Timedelta('0 days 00:01:28.650000'), 'RPM': 11451, 'Speed': 287, 'nGear': 7, 'Throttle': 100, 'Brake': False, 'DRS': 12, 'Source': 'car', 'Distance': 5372.146388888889, 'RelativeDistance': 0.9922999209843099, 'Status': 'OnTrack', 'X': -397, 'Y': 915, 'Z': -159}, {'Date': Timestamp('2021-03-27 16:00:36.355000'), 'SessionTime': Timedelta('0 days 01:15:35.970000'), 'DriverAhead': '10', 'DistanceToDriverAhead': 369.34388888889043, 'Time': Timedelta('0 days 00:01:28.889000'), 'RPM': 11599, 'Speed': 287, 'nGear': 7, 'Throttle': 100, 'Brake': False, 'DRS': 12, 'Source': 'car', 'Distance': 5391.2, 'RelativeDistance': 0.9958193516608688, 'Status': 'OnTrack', 'X': -387, 'Y': 1112, 'Z': -158}]\n"
     ]
    }
   ],
   "source": [
    "fastest = fastest_lap(laps)\n",
    "target1 = '/Users/blank/repo/Pitlane/frontend/src/data'\n",
    "target = '/Users/blank/repo/Pitlane/backend-ff/data/telemetry.json'\n",
    "# export_to_file(load_lap_telemetry(fastest), target)\n",
    "\n",
    "info_dict = load_lap_telemetry(fastest)\n",
    "print(info_dict[0]['Speed'])\n",
    "print(info_dict)\n",
    "# num = partition_lap_telemetry_max_json(fastest)\n",
    "# print(num)"
   ],
   "metadata": {
    "collapsed": false,
    "ExecuteTime": {
     "end_time": "2023-06-14T02:07:18.685077Z",
     "start_time": "2023-06-14T02:07:18.488320Z"
    }
   }
  },
  {
   "cell_type": "markdown",
   "source": [
    "##### test json serialize"
   ],
   "metadata": {
    "collapsed": false
   }
  },
  {
   "cell_type": "code",
   "execution_count": null,
   "outputs": [],
   "source": [
    "### fastestlap json serialization\n",
    "fastestlap = laps.pick_driver('33').pick_fastest()\n",
    "print(fastestlap)\n",
    "lap_dict = fastestlap.to_dict()\n",
    "print(lap_dict)\n",
    "lap_json = json.dumps(lap_dict, default=str)\n",
    "print(lap_json)\n",
    "\n",
    "### fastestlaps\n",
    "fastestlaps = [laps.pick_driver('33').pick_fastest(), laps.pick_driver('44').pick_fastest()]\n",
    "print(fastestlaps)\n",
    "info_arr = []\n",
    "info_dict = dict()\n",
    "for fastestlap in fastestlaps:\n",
    "    info_arr.append(fastestlap.to_dict())\n",
    "    info_dict[fastestlap['DriverNumber']] = fastestlap.to_dict()\n",
    "laps_json1 = json.dumps(info_arr, default=str)\n",
    "laps_json2 = json.dumps(info_dict, default=str)\n",
    "print(laps_json1)\n",
    "print(laps_json2)"
   ],
   "metadata": {
    "collapsed": false
   }
  },
  {
   "cell_type": "markdown",
   "source": [
    "##### test session"
   ],
   "metadata": {
    "collapsed": false
   }
  },
  {
   "cell_type": "code",
   "execution_count": null,
   "outputs": [],
   "source": [
    "qs = fastf1.get_session(2021, 1, \"Q\")\n",
    "laps = qs.load_laps(with_telemetry=True)\n",
    "fastest_laps_of_drivers_json(laps)"
   ],
   "metadata": {
    "collapsed": false
   }
  },
  {
   "cell_type": "code",
   "execution_count": null,
   "outputs": [],
   "source": [],
   "metadata": {
    "collapsed": false
   }
  }
 ],
 "metadata": {
  "kernelspec": {
   "display_name": "Python 3",
   "language": "python",
   "name": "python3"
  },
  "language_info": {
   "codemirror_mode": {
    "name": "ipython",
    "version": 2
   },
   "file_extension": ".py",
   "mimetype": "text/x-python",
   "name": "python",
   "nbconvert_exporter": "python",
   "pygments_lexer": "ipython2",
   "version": "2.7.6"
  }
 },
 "nbformat": 4,
 "nbformat_minor": 0
}
